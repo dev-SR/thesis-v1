{
 "cells": [
  {
   "cell_type": "markdown",
   "metadata": {},
   "source": [
    "# Graph"
   ]
  },
  {
   "cell_type": "markdown",
   "metadata": {},
   "source": [
    "## Init"
   ]
  },
  {
   "cell_type": "code",
   "execution_count": 2,
   "metadata": {},
   "outputs": [],
   "source": [
    "\"\"\"\n",
    "jupyter nbconvert --to markdown test.ipynb --output README.md\n",
    "\n",
    "<div align=\"center\">\n",
    "<img src=\"img/\" alt=\"rec\" width=\"900px\">\n",
    "</div> \n",
    "\"\"\"\n",
    "from __future__ import annotations\n",
    "import os\n",
    "import pickle\n",
    "import pandas as pd\n",
    "\n",
    "from collections import defaultdict, deque\n",
    "from typing import List, DefaultDict, Deque, Dict\n",
    "from pandas import DataFrame\n",
    "AdjacencyList = DefaultDict[str, List[str]]\n",
    "Levels = List[List[Dict]]\n",
    "\n",
    "import numpy as np\n",
    "import seaborn as sns\n",
    "import pandas as pd\n",
    "import matplotlib.pyplot as plt\n",
    "\n",
    "inf = pd.read_csv('data/info/info_full_ss_new_x.csv')\n",
    "inf = inf[(inf.level_no != 4)]  # & (inf.level_no != 0)\n",
    "\n",
    "def add_to_pickle(path, item):\n",
    "    with open(path, 'wb') as file:\n",
    "        pickle.dump(item, file, pickle.HIGHEST_PROTOCOL)\n",
    "\n",
    "\n",
    "def read_from_pickle(path):\n",
    "    with open(path, 'rb') as file:\n",
    "        return pickle.load(file)\n"
   ]
  },
  {
   "cell_type": "markdown",
   "metadata": {},
   "source": [
    "## Test"
   ]
  },
  {
   "cell_type": "markdown",
   "metadata": {},
   "source": [
    "### visualization"
   ]
  },
  {
   "cell_type": "markdown",
   "metadata": {},
   "source": [
    "#### v1"
   ]
  },
  {
   "cell_type": "code",
   "execution_count": 7,
   "metadata": {},
   "outputs": [],
   "source": [
    "from netgraph import Graph\n",
    "import networkx as nx\n",
    "import matplotlib.pyplot as plt\n",
    "from matplotlib_inline.backend_inline import set_matplotlib_formats\n",
    "# set_matplotlib_formats('svg')"
   ]
  },
  {
   "cell_type": "code",
   "execution_count": 24,
   "metadata": {},
   "outputs": [
    {
     "data": {
      "text/plain": [
       "(18, 5)"
      ]
     },
     "execution_count": 24,
     "metadata": {},
     "output_type": "execute_result"
    }
   ],
   "source": [
    "import pandas as pd\n",
    "gtest = pd.read_csv('data/info/graph.csv')\n",
    "gtest.shape\n"
   ]
  },
  {
   "cell_type": "code",
   "execution_count": 25,
   "metadata": {},
   "outputs": [
    {
     "data": {
      "text/plain": [
       "[[-1, 1], [1, 2], [1, 3], [1, 4], [3, 6]]"
      ]
     },
     "execution_count": 25,
     "metadata": {},
     "output_type": "execute_result"
    }
   ],
   "source": [
    "unq_edges = [[u, v] for u, v in gtest[['parent_paper_uuid', 'uuid']].values]\n",
    "unq_edges[:5]\n"
   ]
  },
  {
   "cell_type": "code",
   "execution_count": 26,
   "metadata": {},
   "outputs": [
    {
     "data": {
      "text/plain": [
       "'#a5b16f'"
      ]
     },
     "execution_count": 26,
     "metadata": {},
     "output_type": "execute_result"
    }
   ],
   "source": [
    "from random import randbytes\n",
    "def getRandomColor():\n",
    "    return f\"#{randbytes(3).hex()}\"\n",
    "getRandomColor()"
   ]
  },
  {
   "cell_type": "code",
   "execution_count": 27,
   "metadata": {},
   "outputs": [
    {
     "name": "stdout",
     "output_type": "stream",
     "text": [
      "{1: 'A:1', 2: 'B:2', 3: 'C:3', 4: 'D:4', 6: 'E:6', 7: 'F:7', 8: 'G:8', 10: 'G:10', 5: 'I:5', 9: 'I:9', 11: 'I:11', 14: 'J:14', 15: 'J:15', 16: 'J:16', 12: 'J:12', 17: 'J:17', 18: 'J:18', 19: 'J:19'}\n"
     ]
    }
   ],
   "source": [
    "uid_to_node_label = {}\n",
    "for i, row in gtest.iterrows():\n",
    "\tuuid = row['uuid']\n",
    "\tname = row['name']\n",
    "\tuid_to_node_label[uuid] = f\"{name}:{uuid}\"\n",
    "print(uid_to_node_label)\n",
    "\t\t\n"
   ]
  },
  {
   "cell_type": "code",
   "execution_count": 28,
   "metadata": {},
   "outputs": [
    {
     "data": {
      "text/plain": [
       "['A', 'B', 'C', 'D', 'E', 'F', 'G', 'I', 'J']"
      ]
     },
     "execution_count": 28,
     "metadata": {},
     "output_type": "execute_result"
    }
   ],
   "source": [
    "nodes = gtest['name'].unique().tolist()\n",
    "nodes"
   ]
  },
  {
   "cell_type": "code",
   "execution_count": 29,
   "metadata": {},
   "outputs": [
    {
     "data": {
      "text/plain": [
       "-1"
      ]
     },
     "execution_count": 29,
     "metadata": {},
     "output_type": "execute_result"
    }
   ],
   "source": [
    "\"A(1)\".find('B')"
   ]
  },
  {
   "cell_type": "code",
   "execution_count": 30,
   "metadata": {},
   "outputs": [],
   "source": [
    "# nodes_color = []\n",
    "# for i, node in enumerate(nodes):\n",
    "# \tnodes_color.append((node, getRandomColor()))\n",
    "# nodes_color\n",
    "nodes_color = [('A', '#c967b0'),\n",
    "('B', '#c64892'),\n",
    "('C', '#6f29e2'),\n",
    "('D', '#f572ed'),\n",
    "('E', '#406315'),\n",
    "('F', '#531f38'),\n",
    "('G', '#70dcca'),\n",
    "('I', '#c4b1e8'),\n",
    "('J', '#47df16')]\n",
    "#[('A', '#11aff9'),\n",
    "# ('B', '#951494'),\n",
    "# ('C', '#cafd7c'),\n",
    "# ('D', '#4900dc'),\n",
    "# ('E', '#990a34'),\n",
    "# ('F', '#a70bca'),\n",
    "# ('G', '#7c770d'),\n",
    "# ('I', '#31c2d7'),\n",
    "# ('J', '#0319b1')]\n"
   ]
  },
  {
   "cell_type": "code",
   "execution_count": 31,
   "metadata": {},
   "outputs": [
    {
     "name": "stdout",
     "output_type": "stream",
     "text": [
      "{1: '#c967b0', 2: '#c64892', 3: '#6f29e2', 4: '#f572ed', 6: '#406315', 7: '#531f38', 8: '#70dcca', 10: '#70dcca', 5: '#c4b1e8', 9: '#c4b1e8', 11: '#c4b1e8', 14: '#47df16', 15: '#47df16', 16: '#47df16', 12: '#47df16', 17: '#47df16', 18: '#47df16', 19: '#47df16'}\n"
     ]
    }
   ],
   "source": [
    "uid_color = {}\n",
    "for k ,v in uid_to_node_label.items():\n",
    "\tfor i, x in enumerate(nodes_color):\n",
    "\t\tif v.find(x[0]) != -1:\n",
    "\t\t\tuid_color[k] = x[1]\n",
    "\n",
    "print(uid_color)\n"
   ]
  },
  {
   "cell_type": "code",
   "execution_count": 32,
   "metadata": {},
   "outputs": [
    {
     "data": {
      "image/png": "[encoded data removed]",
      "text/plain": [
       "<Figure size 576x576 with 1 Axes>"
      ]
     },
     "metadata": {},
     "output_type": "display_data"
    }
   ],
   "source": [
    "from netgraph import Graph\n",
    "\n",
    "fig, ax = plt.subplots(figsize=(8,8))\n",
    "Graph(unq_edges[1:], ax=ax, root=\"1\", node_layout='dot',\n",
    "      arrows=True, prettify=True, node_width = 4,node_labels=uid_to_node_label, node_color=uid_color, node_edge_width=0\n",
    "      )\n",
    "plt.show()\n"
   ]
  },
  {
   "cell_type": "code",
   "execution_count": 33,
   "metadata": {},
   "outputs": [
    {
     "data": {
      "text/plain": [
       "[['-1', 'A'], ['A', 'B'], ['A', 'C'], ['A', 'D'], ['C', 'E']]"
      ]
     },
     "execution_count": 33,
     "metadata": {},
     "output_type": "execute_result"
    }
   ],
   "source": [
    "edges = [[u, v] for u, v in gtest[['parent_paper_id', 'paper_id']].values]\n",
    "edges[:5]"
   ]
  },
  {
   "cell_type": "code",
   "execution_count": 34,
   "metadata": {},
   "outputs": [
    {
     "data": {
      "text/plain": [
       "[('A', '#c967b0'),\n",
       " ('B', '#c64892'),\n",
       " ('C', '#6f29e2'),\n",
       " ('D', '#f572ed'),\n",
       " ('E', '#406315'),\n",
       " ('F', '#531f38'),\n",
       " ('G', '#70dcca'),\n",
       " ('I', '#c4b1e8'),\n",
       " ('J', '#47df16')]"
      ]
     },
     "execution_count": 34,
     "metadata": {},
     "output_type": "execute_result"
    }
   ],
   "source": [
    "nodes_color\n"
   ]
  },
  {
   "cell_type": "code",
   "execution_count": 35,
   "metadata": {},
   "outputs": [
    {
     "data": {
      "text/plain": [
       "{'A': '#c967b0',\n",
       " 'B': '#c64892',\n",
       " 'C': '#6f29e2',\n",
       " 'D': '#f572ed',\n",
       " 'E': '#406315',\n",
       " 'F': '#531f38',\n",
       " 'G': '#70dcca',\n",
       " 'I': '#c4b1e8',\n",
       " 'J': '#47df16'}"
      ]
     },
     "execution_count": 35,
     "metadata": {},
     "output_type": "execute_result"
    }
   ],
   "source": [
    "# convert to list of tuples to dict\n",
    "colors = {t[0]:t[1] for t in nodes_color}\n",
    "colors\n"
   ]
  },
  {
   "cell_type": "code",
   "execution_count": 36,
   "metadata": {},
   "outputs": [
    {
     "name": "stderr",
     "output_type": "stream",
     "text": [
      "c:\\Users\\soiko\\anaconda3\\lib\\site-packages\\netgraph\\_parser.py:23: UserWarning: Multi-graphs are not properly supported. Duplicate edges are plotted as a single edge; edge weights (if any) are summed.\n",
      "  warnings.warn(msg)\n"
     ]
    },
    {
     "data": {
      "image/png": "[encoded data removed]",
      "text/plain": [
       "<Figure size 576x720 with 1 Axes>"
      ]
     },
     "metadata": {},
     "output_type": "display_data"
    }
   ],
   "source": [
    "from netgraph import Graph\n",
    "\n",
    "fig, ax = plt.subplots(figsize=(8, 10))\n",
    "Graph(edges[1:], ax=ax, root = \"A\", node_layout='dot', \n",
    "      arrows=True, prettify=True, node_labels= True, node_color=colors, node_edge_width=0\n",
    "      )\n",
    "plt.show()\n"
   ]
  },
  {
   "cell_type": "markdown",
   "metadata": {},
   "source": [
    "#### graph algo"
   ]
  },
  {
   "cell_type": "code",
   "execution_count": 37,
   "metadata": {},
   "outputs": [],
   "source": [
    "import pandas as pd\n",
    "from __future__ import annotations\n",
    "from collections import defaultdict, deque\n",
    "from typing import List, DefaultDict, Deque, Dict\n",
    "AdjacencyList = DefaultDict[str, List[str]]\n",
    "Levels = List[List[Dict]]\n",
    "from pandas import DataFrame\n"
   ]
  },
  {
   "cell_type": "code",
   "execution_count": 38,
   "metadata": {},
   "outputs": [
    {
     "name": "stdout",
     "output_type": "stream",
     "text": [
      "(18, 5)\n",
      "['1', '5', '14']\n",
      "['1', '3', '6', '17']\n",
      "[['A', 'C', 'I'], ['A', 'D', 'I'], ['A', 'I']]\n",
      "[['A', 'C', 'E', 'J'], ['A', 'C', 'G', 'J'], ['A', 'C', 'G', 'J'], ['A', 'C', 'I', 'J'], ['A', 'C', 'I', 'J'], ['A', 'C', 'I', 'J'], ['A', 'D', 'G', 'J'], ['A', 'D', 'G', 'J'], ['A', 'D', 'I', 'J'], ['A', 'D', 'I', 'J'], ['A', 'D', 'I', 'J'], ['A', 'D', 'J'], ['A', 'I', 'J'], ['A', 'I', 'J'], ['A', 'I', 'J']]\n"
     ]
    }
   ],
   "source": [
    "class GraphManager:\n",
    "\tdef __init__(self) -> None:\n",
    "\t\tself.adjacencyListUnique: AdjacencyList = defaultdict(list)\n",
    "\t\tself.adjacencyListActual: AdjacencyList = defaultdict(list)\n",
    "\t\tself.inf: DataFrame|None = None\n",
    "\t\t\n",
    "\n",
    "\t@classmethod\n",
    "\tdef init_from_csv(cls, csv_path: str) -> Graph:\n",
    "\t\tg = cls()\n",
    "\t\tg.inf = pd.read_csv(csv_path)\n",
    "\t\tprint(g.inf.shape)\n",
    "\t\tfor _, row in g.inf.iterrows():\n",
    "\t\t\tg.addEdge(str(row['parent_paper_uuid']), str(row['uuid']), unique=True)\n",
    "\t\t\tg.addEdge(row['parent_paper_id'], row['paper_id'], unique=False)\n",
    "\t\treturn g\n",
    "\n",
    "\tdef addEdge(self, parent_paper_uuid: str, child_id: str,unique ) -> None:\n",
    "\t\tif unique:\n",
    "\t\t\tself.adjacencyListUnique[parent_paper_uuid].append(child_id)\n",
    "\t\telse:\n",
    "\t\t\tself.adjacencyListActual[parent_paper_uuid].append(child_id)\n",
    "\t\t\n",
    "\n",
    "\tdef getPaths(self, s, d,unique=True) -> List[List[str]]:\n",
    "\t\t# Mark all the vertices as not visited\n",
    "\t\t# visited = {}\n",
    "\t\t# for i in self.adjacencyListActual:\n",
    "\t\t# \tvisited[i] = False\n",
    "\t\t# \tfor j in self.adjacencyListActual[i]:\n",
    "\t\t# \t\tvisited[j] = False\n",
    "\n",
    "\t\tself.path = []\n",
    "\t\tself.ans = []\n",
    "\n",
    "\t\tdef dfs(root):\n",
    "\t\t\tself.path.append(root)\n",
    "\t\t\tif root == d:\n",
    "\t\t\t\tif not unique:\n",
    "\t\t\t\t\tself.ans.append(self.path)\n",
    "\t\t\t\telse:\n",
    "\t\t\t\t\tself.ans = self.path\n",
    "\t\t\t\t\n",
    "\t\t\t\treturn\n",
    "\t\t\tif not unique:\n",
    "\t\t\t\tfor child in self.adjacencyListActual[root]:\n",
    "\t\t\t\t\tdfs(child)\n",
    "\t\t\t\t\t\t# after finishing traverse the child node, remove it from current path\n",
    "\t\t\t\t\tself.path = self.path[:-1]\n",
    "\t\t\telse:\n",
    "\t\t\t\tfor child in self.adjacencyListUnique[root]:\n",
    "\t\t\t\t\tdfs(child)\n",
    "\t\t\t\t\t\t# after finishing traverse the child node, remove it from current path\n",
    "\t\t\t\t\tself.path = self.path[:-1]\n",
    "\t\tdfs(s)\n",
    "\t\t\n",
    "\t\treturn self.ans\n",
    "\n",
    "\n",
    "gt = GraphManager.init_from_csv('data/info/graph.csv')\n",
    "print(gt.getPaths('1', '14', unique=True))\n",
    "print(gt.getPaths('1', '17', unique=True))\n",
    "print(gt.getPaths('A', 'I', unique=False))\n",
    "print(gt.getPaths('A', 'J' ,unique=False))\n"
   ]
  },
  {
   "cell_type": "markdown",
   "metadata": {},
   "source": [
    "#### Vis main"
   ]
  },
  {
   "cell_type": "code",
   "execution_count": 39,
   "metadata": {},
   "outputs": [
    {
     "ename": "ParserError",
     "evalue": "Error tokenizing data. C error: Calling read(nbytes) on source failed. Try engine='python'.",
     "output_type": "error",
     "traceback": [
      "\u001b[1;31m---------------------------------------------------------------------------\u001b[0m",
      "\u001b[1;31mParserError\u001b[0m                               Traceback (most recent call last)",
      "\u001b[1;32md:\\CSE\\Programs\\Thesis\\graph.ipynb Cell 25\u001b[0m in \u001b[0;36m<cell line: 2>\u001b[1;34m()\u001b[0m\n\u001b[0;32m      <a href='vscode-notebook-cell:/d%3A/CSE/Programs/Thesis/graph.ipynb#X33sZmlsZQ%3D%3D?line=0'>1</a>\u001b[0m \u001b[39mimport\u001b[39;00m \u001b[39mpandas\u001b[39;00m \u001b[39mas\u001b[39;00m \u001b[39mpd\u001b[39;00m\n\u001b[1;32m----> <a href='vscode-notebook-cell:/d%3A/CSE/Programs/Thesis/graph.ipynb#X33sZmlsZQ%3D%3D?line=1'>2</a>\u001b[0m inf \u001b[39m=\u001b[39m pd\u001b[39m.\u001b[39;49mread_csv(\u001b[39m'\u001b[39;49m\u001b[39mdata/info/info_full_ss_new_x.csv\u001b[39;49m\u001b[39m'\u001b[39;49m)\n\u001b[0;32m      <a href='vscode-notebook-cell:/d%3A/CSE/Programs/Thesis/graph.ipynb#X33sZmlsZQ%3D%3D?line=2'>3</a>\u001b[0m inf\u001b[39m.\u001b[39mshape\n",
      "File \u001b[1;32m~\\AppData\\Roaming\\Python\\Python39\\site-packages\\pandas\\util\\_decorators.py:311\u001b[0m, in \u001b[0;36mdeprecate_nonkeyword_arguments.<locals>.decorate.<locals>.wrapper\u001b[1;34m(*args, **kwargs)\u001b[0m\n\u001b[0;32m    305\u001b[0m \u001b[39mif\u001b[39;00m \u001b[39mlen\u001b[39m(args) \u001b[39m>\u001b[39m num_allow_args:\n\u001b[0;32m    306\u001b[0m     warnings\u001b[39m.\u001b[39mwarn(\n\u001b[0;32m    307\u001b[0m         msg\u001b[39m.\u001b[39mformat(arguments\u001b[39m=\u001b[39marguments),\n\u001b[0;32m    308\u001b[0m         \u001b[39mFutureWarning\u001b[39;00m,\n\u001b[0;32m    309\u001b[0m         stacklevel\u001b[39m=\u001b[39mstacklevel,\n\u001b[0;32m    310\u001b[0m     )\n\u001b[1;32m--> 311\u001b[0m \u001b[39mreturn\u001b[39;00m func(\u001b[39m*\u001b[39margs, \u001b[39m*\u001b[39m\u001b[39m*\u001b[39mkwargs)\n",
      "File \u001b[1;32m~\\AppData\\Roaming\\Python\\Python39\\site-packages\\pandas\\io\\parsers\\readers.py:680\u001b[0m, in \u001b[0;36mread_csv\u001b[1;34m(filepath_or_buffer, sep, delimiter, header, names, index_col, usecols, squeeze, prefix, mangle_dupe_cols, dtype, engine, converters, true_values, false_values, skipinitialspace, skiprows, skipfooter, nrows, na_values, keep_default_na, na_filter, verbose, skip_blank_lines, parse_dates, infer_datetime_format, keep_date_col, date_parser, dayfirst, cache_dates, iterator, chunksize, compression, thousands, decimal, lineterminator, quotechar, quoting, doublequote, escapechar, comment, encoding, encoding_errors, dialect, error_bad_lines, warn_bad_lines, on_bad_lines, delim_whitespace, low_memory, memory_map, float_precision, storage_options)\u001b[0m\n\u001b[0;32m    665\u001b[0m kwds_defaults \u001b[39m=\u001b[39m _refine_defaults_read(\n\u001b[0;32m    666\u001b[0m     dialect,\n\u001b[0;32m    667\u001b[0m     delimiter,\n\u001b[1;32m   (...)\u001b[0m\n\u001b[0;32m    676\u001b[0m     defaults\u001b[39m=\u001b[39m{\u001b[39m\"\u001b[39m\u001b[39mdelimiter\u001b[39m\u001b[39m\"\u001b[39m: \u001b[39m\"\u001b[39m\u001b[39m,\u001b[39m\u001b[39m\"\u001b[39m},\n\u001b[0;32m    677\u001b[0m )\n\u001b[0;32m    678\u001b[0m kwds\u001b[39m.\u001b[39mupdate(kwds_defaults)\n\u001b[1;32m--> 680\u001b[0m \u001b[39mreturn\u001b[39;00m _read(filepath_or_buffer, kwds)\n",
      "File \u001b[1;32m~\\AppData\\Roaming\\Python\\Python39\\site-packages\\pandas\\io\\parsers\\readers.py:581\u001b[0m, in \u001b[0;36m_read\u001b[1;34m(filepath_or_buffer, kwds)\u001b[0m\n\u001b[0;32m    578\u001b[0m     \u001b[39mreturn\u001b[39;00m parser\n\u001b[0;32m    580\u001b[0m \u001b[39mwith\u001b[39;00m parser:\n\u001b[1;32m--> 581\u001b[0m     \u001b[39mreturn\u001b[39;00m parser\u001b[39m.\u001b[39;49mread(nrows)\n",
      "File \u001b[1;32m~\\AppData\\Roaming\\Python\\Python39\\site-packages\\pandas\\io\\parsers\\readers.py:1255\u001b[0m, in \u001b[0;36mTextFileReader.read\u001b[1;34m(self, nrows)\u001b[0m\n\u001b[0;32m   1253\u001b[0m nrows \u001b[39m=\u001b[39m validate_integer(\u001b[39m\"\u001b[39m\u001b[39mnrows\u001b[39m\u001b[39m\"\u001b[39m, nrows)\n\u001b[0;32m   1254\u001b[0m \u001b[39mtry\u001b[39;00m:\n\u001b[1;32m-> 1255\u001b[0m     index, columns, col_dict \u001b[39m=\u001b[39m \u001b[39mself\u001b[39;49m\u001b[39m.\u001b[39;49m_engine\u001b[39m.\u001b[39;49mread(nrows)\n\u001b[0;32m   1256\u001b[0m \u001b[39mexcept\u001b[39;00m \u001b[39mException\u001b[39;00m:\n\u001b[0;32m   1257\u001b[0m     \u001b[39mself\u001b[39m\u001b[39m.\u001b[39mclose()\n",
      "File \u001b[1;32m~\\AppData\\Roaming\\Python\\Python39\\site-packages\\pandas\\io\\parsers\\c_parser_wrapper.py:225\u001b[0m, in \u001b[0;36mCParserWrapper.read\u001b[1;34m(self, nrows)\u001b[0m\n\u001b[0;32m    223\u001b[0m \u001b[39mtry\u001b[39;00m:\n\u001b[0;32m    224\u001b[0m     \u001b[39mif\u001b[39;00m \u001b[39mself\u001b[39m\u001b[39m.\u001b[39mlow_memory:\n\u001b[1;32m--> 225\u001b[0m         chunks \u001b[39m=\u001b[39m \u001b[39mself\u001b[39;49m\u001b[39m.\u001b[39;49m_reader\u001b[39m.\u001b[39;49mread_low_memory(nrows)\n\u001b[0;32m    226\u001b[0m         \u001b[39m# destructive to chunks\u001b[39;00m\n\u001b[0;32m    227\u001b[0m         data \u001b[39m=\u001b[39m _concatenate_chunks(chunks)\n",
      "File \u001b[1;32m~\\AppData\\Roaming\\Python\\Python39\\site-packages\\pandas\\_libs\\parsers.pyx:805\u001b[0m, in \u001b[0;36mpandas._libs.parsers.TextReader.read_low_memory\u001b[1;34m()\u001b[0m\n",
      "File \u001b[1;32m~\\AppData\\Roaming\\Python\\Python39\\site-packages\\pandas\\_libs\\parsers.pyx:861\u001b[0m, in \u001b[0;36mpandas._libs.parsers.TextReader._read_rows\u001b[1;34m()\u001b[0m\n",
      "File \u001b[1;32m~\\AppData\\Roaming\\Python\\Python39\\site-packages\\pandas\\_libs\\parsers.pyx:847\u001b[0m, in \u001b[0;36mpandas._libs.parsers.TextReader._tokenize_rows\u001b[1;34m()\u001b[0m\n",
      "File \u001b[1;32m~\\AppData\\Roaming\\Python\\Python39\\site-packages\\pandas\\_libs\\parsers.pyx:1960\u001b[0m, in \u001b[0;36mpandas._libs.parsers.raise_parser_error\u001b[1;34m()\u001b[0m\n",
      "\u001b[1;31mParserError\u001b[0m: Error tokenizing data. C error: Calling read(nbytes) on source failed. Try engine='python'."
     ]
    }
   ],
   "source": [
    "import pandas as pd\n",
    "inf = pd.read_csv('data/info/info_full_ss_new_x.csv')\n",
    "inf.shape"
   ]
  },
  {
   "cell_type": "code",
   "execution_count": null,
   "metadata": {},
   "outputs": [
    {
     "data": {
      "text/plain": [
       "Index(['uuid', 'paper_id', 'parent_id', 'parent_paper_id', 'title',\n",
       "       'reference_count', 'citation_count', 'influential_citation_count',\n",
       "       'published_date', 'paper_type', 'venue', 'isOpenAccess', 'abstract',\n",
       "       'paper_link', 'doi', 'download_link', 'tldl', 'embedding', 'age',\n",
       "       'citation_count_min_max_norm', 'age_min_max_norm', 'freshness_avg',\n",
       "       'degree_centrality', 'closeness_centrality', 'betweenness_centrality',\n",
       "       'level_no', 'similarity_with_root', 'similarity_with_immediate_parent'],\n",
       "      dtype='object')"
      ]
     },
     "execution_count": 41,
     "metadata": {},
     "output_type": "execute_result"
    }
   ],
   "source": [
    "inf.columns"
   ]
  },
  {
   "cell_type": "code",
   "execution_count": null,
   "metadata": {},
   "outputs": [],
   "source": [
    "inf.drop(['paper_type_label'], axis=1, inplace=True)\n"
   ]
  },
  {
   "cell_type": "code",
   "execution_count": null,
   "metadata": {},
   "outputs": [
    {
     "data": {
      "text/plain": [
       "array([0, 5, 3, 1, 2, 4])"
      ]
     },
     "execution_count": 43,
     "metadata": {},
     "output_type": "execute_result"
    }
   ],
   "source": [
    "from sklearn.preprocessing import LabelEncoder\n",
    "le = LabelEncoder()\n",
    "inf['paper_type_label'] = le.fit_transform(inf['paper_type'])\n",
    "inf['paper_type_label'].unique()\n"
   ]
  },
  {
   "cell_type": "code",
   "execution_count": null,
   "metadata": {},
   "outputs": [
    {
     "data": {
      "text/plain": [
       "array([ 1., nan,  2.,  4.,  5.,  3.])"
      ]
     },
     "execution_count": 50,
     "metadata": {},
     "output_type": "execute_result"
    }
   ],
   "source": [
    "def f(p):\n",
    "\tif p == 'Article':\n",
    "\t\treturn 1\n",
    "\telif p == \"Conference Paper\":\n",
    "\t\treturn 2\n",
    "\telif p == \"Literature Review\":\n",
    "\t\treturn 3\n",
    "\telif p == \"Book\":\n",
    "\t\treturn 4\n",
    "\telif p == \"Chapter\":\n",
    "\t\treturn 5\n",
    "\telse:\n",
    "\t\treturn np.nan\n",
    "\n",
    "\n",
    "inf['paper_type_label'] = inf.paper_type.apply(f)\n",
    "inf['paper_type_label'].unique()\n"
   ]
  },
  {
   "cell_type": "code",
   "execution_count": null,
   "metadata": {},
   "outputs": [
    {
     "data": {
      "text/html": [
       "<div>\n",
       "<style scoped>\n",
       "    .dataframe tbody tr th:only-of-type {\n",
       "        vertical-align: middle;\n",
       "    }\n",
       "\n",
       "    .dataframe tbody tr th {\n",
       "        vertical-align: top;\n",
       "    }\n",
       "\n",
       "    .dataframe thead th {\n",
       "        text-align: right;\n",
       "    }\n",
       "</style>\n",
       "<table border=\"1\" class=\"dataframe\">\n",
       "  <thead>\n",
       "    <tr style=\"text-align: right;\">\n",
       "      <th></th>\n",
       "      <th>paper_type</th>\n",
       "      <th>paper_type_label</th>\n",
       "    </tr>\n",
       "  </thead>\n",
       "  <tbody>\n",
       "    <tr>\n",
       "      <th>0</th>\n",
       "      <td>Article</td>\n",
       "      <td>1.0</td>\n",
       "    </tr>\n",
       "    <tr>\n",
       "      <th>1</th>\n",
       "      <td>NaN</td>\n",
       "      <td>NaN</td>\n",
       "    </tr>\n",
       "    <tr>\n",
       "      <th>2</th>\n",
       "      <td>Conference Paper</td>\n",
       "      <td>2.0</td>\n",
       "    </tr>\n",
       "    <tr>\n",
       "      <th>88</th>\n",
       "      <td>Book</td>\n",
       "      <td>4.0</td>\n",
       "    </tr>\n",
       "    <tr>\n",
       "      <th>272</th>\n",
       "      <td>Chapter</td>\n",
       "      <td>5.0</td>\n",
       "    </tr>\n",
       "    <tr>\n",
       "      <th>408</th>\n",
       "      <td>Literature Review</td>\n",
       "      <td>3.0</td>\n",
       "    </tr>\n",
       "  </tbody>\n",
       "</table>\n",
       "</div>"
      ],
      "text/plain": [
       "            paper_type  paper_type_label\n",
       "0              Article               1.0\n",
       "1                  NaN               NaN\n",
       "2     Conference Paper               2.0\n",
       "88                Book               4.0\n",
       "272            Chapter               5.0\n",
       "408  Literature Review               3.0"
      ]
     },
     "execution_count": 51,
     "metadata": {},
     "output_type": "execute_result"
    }
   ],
   "source": [
    "inf[['paper_type', 'paper_type_label']].drop_duplicates()\n",
    "\n"
   ]
  },
  {
   "cell_type": "code",
   "execution_count": null,
   "metadata": {},
   "outputs": [],
   "source": [
    "inf.to_csv('data/info/info_full_ss_new_x.csv', index=False)\n"
   ]
  },
  {
   "cell_type": "code",
   "execution_count": null,
   "metadata": {},
   "outputs": [
    {
     "data": {
      "text/html": [
       "<div>\n",
       "<style scoped>\n",
       "    .dataframe tbody tr th:only-of-type {\n",
       "        vertical-align: middle;\n",
       "    }\n",
       "\n",
       "    .dataframe tbody tr th {\n",
       "        vertical-align: top;\n",
       "    }\n",
       "\n",
       "    .dataframe thead th {\n",
       "        text-align: right;\n",
       "    }\n",
       "</style>\n",
       "<table border=\"1\" class=\"dataframe\">\n",
       "  <thead>\n",
       "    <tr style=\"text-align: right;\">\n",
       "      <th></th>\n",
       "      <th>uuid</th>\n",
       "      <th>paper_id</th>\n",
       "      <th>parent_id</th>\n",
       "      <th>parent_paper_id</th>\n",
       "      <th>title</th>\n",
       "      <th>reference_count</th>\n",
       "      <th>citation_count</th>\n",
       "      <th>influential_citation_count</th>\n",
       "      <th>published_date</th>\n",
       "      <th>paper_type</th>\n",
       "      <th>...</th>\n",
       "      <th>citation_count_min_max_norm</th>\n",
       "      <th>age_min_max_norm</th>\n",
       "      <th>paper_type_label</th>\n",
       "      <th>freshness_avg</th>\n",
       "      <th>degree_centrality</th>\n",
       "      <th>closeness_centrality</th>\n",
       "      <th>betweenness_centrality</th>\n",
       "      <th>level_no</th>\n",
       "      <th>similarity_with_root</th>\n",
       "      <th>similarity_with_immediate_parent</th>\n",
       "    </tr>\n",
       "  </thead>\n",
       "  <tbody>\n",
       "    <tr>\n",
       "      <th>0</th>\n",
       "      <td>8bde6cb8-296d-4593-883f-b768103e1e69</td>\n",
       "      <td>b0d555a9ea67285fccd2ef8d887907bcc811f67a</td>\n",
       "      <td>NaN</td>\n",
       "      <td>NaN</td>\n",
       "      <td>PositionRank: An Unsupervised Approach to Keyp...</td>\n",
       "      <td>43</td>\n",
       "      <td>176</td>\n",
       "      <td>26</td>\n",
       "      <td>2017.0</td>\n",
       "      <td>Article</td>\n",
       "      <td>...</td>\n",
       "      <td>NaN</td>\n",
       "      <td>NaN</td>\n",
       "      <td>NaN</td>\n",
       "      <td>NaN</td>\n",
       "      <td>0.004205</td>\n",
       "      <td>0.000000</td>\n",
       "      <td>0.000000</td>\n",
       "      <td>0</td>\n",
       "      <td>1.000000</td>\n",
       "      <td>NaN</td>\n",
       "    </tr>\n",
       "    <tr>\n",
       "      <th>1</th>\n",
       "      <td>ade6eb61-946a-49f3-835d-74804cb9de3e</td>\n",
       "      <td>03589e1917debe6df148cac8963fd008e4140237</td>\n",
       "      <td>8bde6cb8-296d-4593-883f-b768103e1e69</td>\n",
       "      <td>b0d555a9ea67285fccd2ef8d887907bcc811f67a</td>\n",
       "      <td>SemEval-2010 Task 5 : Automatic Keyphrase Extr...</td>\n",
       "      <td>29</td>\n",
       "      <td>352</td>\n",
       "      <td>71</td>\n",
       "      <td>2010.0</td>\n",
       "      <td>NaN</td>\n",
       "      <td>...</td>\n",
       "      <td>0.000506</td>\n",
       "      <td>0.042424</td>\n",
       "      <td>0.76</td>\n",
       "      <td>0.512602</td>\n",
       "      <td>0.004744</td>\n",
       "      <td>0.002620</td>\n",
       "      <td>0.000475</td>\n",
       "      <td>1</td>\n",
       "      <td>0.644213</td>\n",
       "      <td>0.644213</td>\n",
       "    </tr>\n",
       "    <tr>\n",
       "      <th>2</th>\n",
       "      <td>be2af112-6c57-4598-9813-d02fff71055b</td>\n",
       "      <td>05dec9ff0f48f45b09245ba0354748961f18ff77</td>\n",
       "      <td>8bde6cb8-296d-4593-883f-b768103e1e69</td>\n",
       "      <td>b0d555a9ea67285fccd2ef8d887907bcc811f67a</td>\n",
       "      <td>Citation-Enhanced Keyphrase Extraction from Re...</td>\n",
       "      <td>61</td>\n",
       "      <td>100</td>\n",
       "      <td>10</td>\n",
       "      <td>2014.0</td>\n",
       "      <td>Conference Paper</td>\n",
       "      <td>...</td>\n",
       "      <td>0.000144</td>\n",
       "      <td>0.018182</td>\n",
       "      <td>0.80</td>\n",
       "      <td>0.596274</td>\n",
       "      <td>0.006469</td>\n",
       "      <td>0.000108</td>\n",
       "      <td>0.000004</td>\n",
       "      <td>1</td>\n",
       "      <td>0.349922</td>\n",
       "      <td>0.349922</td>\n",
       "    </tr>\n",
       "  </tbody>\n",
       "</table>\n",
       "<p>3 rows × 29 columns</p>\n",
       "</div>"
      ],
      "text/plain": [
       "                                   uuid  \\\n",
       "0  8bde6cb8-296d-4593-883f-b768103e1e69   \n",
       "1  ade6eb61-946a-49f3-835d-74804cb9de3e   \n",
       "2  be2af112-6c57-4598-9813-d02fff71055b   \n",
       "\n",
       "                                   paper_id  \\\n",
       "0  b0d555a9ea67285fccd2ef8d887907bcc811f67a   \n",
       "1  03589e1917debe6df148cac8963fd008e4140237   \n",
       "2  05dec9ff0f48f45b09245ba0354748961f18ff77   \n",
       "\n",
       "                              parent_id  \\\n",
       "0                                   NaN   \n",
       "1  8bde6cb8-296d-4593-883f-b768103e1e69   \n",
       "2  8bde6cb8-296d-4593-883f-b768103e1e69   \n",
       "\n",
       "                            parent_paper_id  \\\n",
       "0                                       NaN   \n",
       "1  b0d555a9ea67285fccd2ef8d887907bcc811f67a   \n",
       "2  b0d555a9ea67285fccd2ef8d887907bcc811f67a   \n",
       "\n",
       "                                               title  reference_count  \\\n",
       "0  PositionRank: An Unsupervised Approach to Keyp...               43   \n",
       "1  SemEval-2010 Task 5 : Automatic Keyphrase Extr...               29   \n",
       "2  Citation-Enhanced Keyphrase Extraction from Re...               61   \n",
       "\n",
       "   citation_count  influential_citation_count  published_date  \\\n",
       "0             176                          26          2017.0   \n",
       "1             352                          71          2010.0   \n",
       "2             100                          10          2014.0   \n",
       "\n",
       "         paper_type  ... citation_count_min_max_norm  age_min_max_norm  \\\n",
       "0           Article  ...                         NaN               NaN   \n",
       "1               NaN  ...                    0.000506          0.042424   \n",
       "2  Conference Paper  ...                    0.000144          0.018182   \n",
       "\n",
       "  paper_type_label freshness_avg degree_centrality closeness_centrality  \\\n",
       "0              NaN           NaN          0.004205             0.000000   \n",
       "1             0.76      0.512602          0.004744             0.002620   \n",
       "2             0.80      0.596274          0.006469             0.000108   \n",
       "\n",
       "  betweenness_centrality level_no  similarity_with_root  \\\n",
       "0               0.000000        0              1.000000   \n",
       "1               0.000475        1              0.644213   \n",
       "2               0.000004        1              0.349922   \n",
       "\n",
       "   similarity_with_immediate_parent  \n",
       "0                               NaN  \n",
       "1                          0.644213  \n",
       "2                          0.349922  \n",
       "\n",
       "[3 rows x 29 columns]"
      ]
     },
     "execution_count": 25,
     "metadata": {},
     "output_type": "execute_result"
    }
   ],
   "source": [
    "inf.head(3)"
   ]
  },
  {
   "cell_type": "markdown",
   "metadata": {},
   "source": [
    "For Unique Paper:"
   ]
  },
  {
   "cell_type": "code",
   "execution_count": null,
   "metadata": {},
   "outputs": [
    {
     "data": {
      "text/plain": [
       "[[nan, '8bde6cb8-296d-4593-883f-b768103e1e69'],\n",
       " ['8bde6cb8-296d-4593-883f-b768103e1e69',\n",
       "  'ade6eb61-946a-49f3-835d-74804cb9de3e'],\n",
       " ['8bde6cb8-296d-4593-883f-b768103e1e69',\n",
       "  'be2af112-6c57-4598-9813-d02fff71055b'],\n",
       " ['8bde6cb8-296d-4593-883f-b768103e1e69',\n",
       "  '899a51ab-0231-4baf-bd9e-a1b15c743623'],\n",
       " ['8bde6cb8-296d-4593-883f-b768103e1e69',\n",
       "  '62635add-b59a-45cb-8c3b-b293fc400a5d']]"
      ]
     },
     "execution_count": 224,
     "metadata": {},
     "output_type": "execute_result"
    }
   ],
   "source": [
    "unq_edges = [[u,v ] for u,v in inf[['parent_paper_uuid', 'uuid']].values]\n",
    "\n",
    "unq_edges[:5]\n"
   ]
  },
  {
   "cell_type": "code",
   "execution_count": null,
   "metadata": {},
   "outputs": [],
   "source": [
    "\n",
    "def get_nedges_with_attributes(e, n, root, node_size, get_edge_color_fn):\n",
    "\tAll = []\n",
    "\te = e[:n]\n",
    "\tfor l in e:\n",
    "\t\tAll.extend(l)  # EXTEND!!! (not append)\n",
    "\tAll = list(set(All))\n",
    "\tnode_color = dict()\n",
    "\tnode_edge_color = dict()\n",
    "\t\n",
    "\tfor n in All:\n",
    "\t\tlevel = g.get_level_no_by_uid(\n",
    "\t\t\tlevelsOrderList=g.levelOrderList, id=n)\n",
    "\t\tif n == root:\n",
    "\t\t\tnode_color[n] = 'red'\n",
    "\t\t\t# node_edge_color[n] = 'black'\n",
    "\t\telse:\n",
    "\t\t\tnode_color[n] = get_level_color(level)\n",
    "\t\n",
    "\tnode_size_dict = dict()\n",
    "\tfor n in All:\n",
    "\t\tif n == root:\n",
    "\t\t\tnode_size_dict[n] = node_size * 2\n",
    "\t\telse:\n",
    "\t\t\tnode_size_dict[n] = node_size\n",
    "\n",
    "\tedges_color = get_edge_color_fn(e)\n",
    "\n",
    "\treturn [e, node_color, node_edge_color, node_size_dict, edges_color]\n",
    "\n",
    "\n",
    "def get_level_color(level):\n",
    "\tif level == 1:\n",
    "\t\treturn 'Blue'\n",
    "\telif level == 2:\n",
    "\t\treturn 'Purple'\n",
    "\telif level == 3:\n",
    "\t\treturn 'Pink'\n",
    "\n",
    "def get_edge_color(e):\n",
    "\tedges_color = dict()\n",
    "\tfor i in e:\n",
    "\t\tlevel = g.get_level_no_by_uid(levelsOrderList=g.levelOrderList, id=i[0])\n",
    "\n",
    "\t\tif i[0] == '8bde6cb8-296d-4593-883f-b768103e1e69':\n",
    "\t\t\tedges_color[(i[0], i[1])] = 'red'\n",
    "\t\telse:\n",
    "\t\t\tedges_color[(i[0], i[1])] = get_level_color(level)\n",
    "\n",
    "\treturn edges_color\n",
    "\t\n",
    "# edge_width=.2 | 150 \n",
    "# edge_width=.05 | 1500\t\n",
    "\n",
    "r = get_nedges_with_attributes(\n",
    "\te=unq_edges[1:], n=1500, root=\"8bde6cb8-296d-4593-883f-b768103e1e69\", node_size=.3, get_edge_color_fn=get_edge_color)\n",
    "\n",
    "\n",
    "def fn():\n",
    "\tfig, ax = plt.subplots(figsize=(30, 30))\n",
    "\tGraph(r[0], node_size=r[3], node_color=r[1], edge_color=r[4], node_edge_width=0,node_edge_color=None,\n",
    "\t      edge_width=.05, ax=ax, node_layout='dot', arrows=True, prettify=True)\n",
    "\tplt.show()\n",
    "\n",
    "# fn()\n"
   ]
  },
  {
   "cell_type": "markdown",
   "metadata": {},
   "source": [
    "For Duplicated Papers:"
   ]
  },
  {
   "cell_type": "code",
   "execution_count": null,
   "metadata": {},
   "outputs": [
    {
     "data": {
      "text/plain": [
       "[[nan, 'b0d555a9ea67285fccd2ef8d887907bcc811f67a'],\n",
       " ['b0d555a9ea67285fccd2ef8d887907bcc811f67a',\n",
       "  '03589e1917debe6df148cac8963fd008e4140237'],\n",
       " ['b0d555a9ea67285fccd2ef8d887907bcc811f67a',\n",
       "  '05dec9ff0f48f45b09245ba0354748961f18ff77'],\n",
       " ['b0d555a9ea67285fccd2ef8d887907bcc811f67a',\n",
       "  '12355df323e6a82030fa6c98e97b512121367ece'],\n",
       " ['b0d555a9ea67285fccd2ef8d887907bcc811f67a',\n",
       "  '1736c33defcf1dda6742e4d577b7e0ce9b63e4fc']]"
      ]
     },
     "execution_count": 219,
     "metadata": {},
     "output_type": "execute_result"
    }
   ],
   "source": [
    "edges = [[u, v] for u, v in inf[['parent_paper_id', 'paper_id']].values]\n",
    "edges[:5]\n"
   ]
  },
  {
   "cell_type": "code",
   "execution_count": null,
   "metadata": {},
   "outputs": [],
   "source": [
    "def get_nedges_with_attributes(e, n, root, node_size, get_edge_color_fn):\n",
    "\tAll = []\n",
    "\te = e[:n]\n",
    "\tfor l in e:\n",
    "\t\tAll.extend(l)  # EXTEND!!! (not append)\n",
    "\tAll = list(set(All))\n",
    "\tnode_color = dict()\n",
    "\tnode_edge_color = dict()\n",
    "\tfor n in All:\n",
    "\t\tlevel = g.get_levels_no_by_paper_id(\n",
    "\t\t\tlevelsOrderList=g.levelOrderList, id=n)\n",
    "\t\tin_same_level = checkIfDuplicates(level)\n",
    "\t\tif n == root:\n",
    "\t\t\tnode_color[n] = 'red'\n",
    "\t\telse:\n",
    "\t\t\tlevel_count = len(level)\n",
    "\t\t\tif level_count == 1:\n",
    "\t\t\t\tnode_color[n] = get_level_color(level[0])\n",
    "\t\t\telif level_count > 1:\n",
    "\t\t\t\tif in_same_level:\n",
    "\t\t\t\t\tnode_color[n] = \"lime\"\n",
    "\t\t\t\telse:\n",
    "\t\t\t\t\tnode_color[n] = \"cyan\"\n",
    "\t\t\telif level_count == 0:\n",
    "\t\t\t\tnode_color[n] = \"black\"\n",
    "\tnode_size_dict = dict()\n",
    "\tfor n in All:\n",
    "\t\tif n == root:\n",
    "\t\t\tnode_size_dict[n] = node_size * 2\n",
    "\t\telse:\n",
    "\t\t\tnode_size_dict[n] = node_size\n",
    "\n",
    "\tedges_color = get_edge_color_fn(e)\n",
    "\n",
    "\treturn [e, node_color, node_edge_color, node_size_dict, edges_color]\n",
    "\n",
    "def checkIfDuplicates(l):\n",
    "    if len(l) == len(set(l)):\n",
    "        return False\n",
    "    else:\n",
    "        return True\n",
    "\n",
    "def get_level_color(level):\n",
    "\tif level == 1:\n",
    "\t\treturn 'Blue'\n",
    "\telif level == 2:\n",
    "\t\treturn 'Purple'\n",
    "\telif level == 3:\n",
    "\t\treturn 'Pink'\n",
    "\n",
    "def get_edge_color(e):\n",
    "\tedges_color = dict()\n",
    "\tfor i in e:\n",
    "\t\tlevel = g.get_levels_no_by_paper_id(\n",
    "\t\t\tlevelsOrderList=g.levelOrderList, id=i[0])\n",
    "\t\tin_same_level = checkIfDuplicates(level)\n",
    "\t\tif i[0] == 'b0d555a9ea67285fccd2ef8d887907bcc811f67a':\n",
    "\t\t\tedges_color[(i[0], i[1])] = 'red'\n",
    "\t\telse:\n",
    "\t\t\tlevel_count = len(level)\n",
    "\t\t\t\n",
    "\t\t\tif level_count == 1:\n",
    "\t\t\t\tedges_color[(i[0], i[1])] = get_level_color(level[0])\n",
    "\t\t\telif level_count > 1:\n",
    "\t\t\t\tif in_same_level:\n",
    "\t\t\t\t\tedges_color[(i[0], i[1])] = \"lime\"\n",
    "\t\t\t\telse:\n",
    "\t\t\t\t\tedges_color[(i[0], i[1])] = \"cyan\"\n",
    "\t\t\telif level_count == 0:\n",
    "\t\t\t\tedges_color[(i[0], i[1])] = \"black\"\n",
    "\treturn edges_color\n",
    "\t\n",
    "\t\n",
    "r = get_nedges_with_attributes(\n",
    "\te=edges[1:], n=150, root=\"b0d555a9ea67285fccd2ef8d887907bcc811f67a\", node_size=.3, get_edge_color_fn=get_edge_color)\n",
    "\n",
    "# edge_width=.2 | 150\n",
    "# edge_width=.05 | 1500\n",
    "def fn():\n",
    "\tfig, ax = plt.subplots(figsize=(8, 16))\n",
    "\tGraph(r[0], node_size=r[3], node_color=r[1], edge_color=r[4], node_edge_width=0,node_edge_color=None,\n",
    "\t      edge_width=.2, ax=ax, node_layout='dot', arrows=True, prettify=True)\n",
    "\tplt.show()\n",
    "\n",
    "# fn()\n"
   ]
  },
  {
   "cell_type": "markdown",
   "metadata": {},
   "source": [
    "<!-- v2: -->"
   ]
  },
  {
   "cell_type": "code",
   "execution_count": null,
   "metadata": {},
   "outputs": [
    {
     "ename": "NameError",
     "evalue": "name 'edges' is not defined",
     "output_type": "error",
     "traceback": [
      "\u001b[1;31m---------------------------------------------------------------------------\u001b[0m",
      "\u001b[1;31mNameError\u001b[0m                                 Traceback (most recent call last)",
      "\u001b[1;32md:\\CSE\\Programs\\Thesis\\graph.ipynb Cell 33\u001b[0m in \u001b[0;36m<cell line: 77>\u001b[1;34m()\u001b[0m\n\u001b[0;32m     <a href='vscode-notebook-cell:/d%3A/CSE/Programs/Thesis/graph.ipynb#ch0000030?line=72'>73</a>\u001b[0m \t\t\t\tedges_color[(i[\u001b[39m0\u001b[39m], i[\u001b[39m1\u001b[39m])] \u001b[39m=\u001b[39m \u001b[39m\"\u001b[39m\u001b[39mblack\u001b[39m\u001b[39m\"\u001b[39m\n\u001b[0;32m     <a href='vscode-notebook-cell:/d%3A/CSE/Programs/Thesis/graph.ipynb#ch0000030?line=73'>74</a>\u001b[0m \t\u001b[39mreturn\u001b[39;00m edges_color\n\u001b[0;32m     <a href='vscode-notebook-cell:/d%3A/CSE/Programs/Thesis/graph.ipynb#ch0000030?line=76'>77</a>\u001b[0m r \u001b[39m=\u001b[39m get_nedges_with_attributes(\n\u001b[1;32m---> <a href='vscode-notebook-cell:/d%3A/CSE/Programs/Thesis/graph.ipynb#ch0000030?line=77'>78</a>\u001b[0m \te\u001b[39m=\u001b[39medges[\u001b[39m1\u001b[39m:], n\u001b[39m=\u001b[39m\u001b[39m2500\u001b[39m, root\u001b[39m=\u001b[39m\u001b[39m\"\u001b[39m\u001b[39mb0d555a9ea67285fccd2ef8d887907bcc811f67a\u001b[39m\u001b[39m\"\u001b[39m, node_size\u001b[39m=\u001b[39m\u001b[39m.3\u001b[39m, get_edge_color_fn\u001b[39m=\u001b[39mget_edge_color)\n\u001b[0;32m     <a href='vscode-notebook-cell:/d%3A/CSE/Programs/Thesis/graph.ipynb#ch0000030?line=79'>80</a>\u001b[0m \u001b[39m# edge_width=.2 | 150\u001b[39;00m\n\u001b[0;32m     <a href='vscode-notebook-cell:/d%3A/CSE/Programs/Thesis/graph.ipynb#ch0000030?line=80'>81</a>\u001b[0m \u001b[39m# edge_width=.05 | 1500\u001b[39;00m\n\u001b[0;32m     <a href='vscode-notebook-cell:/d%3A/CSE/Programs/Thesis/graph.ipynb#ch0000030?line=81'>82</a>\u001b[0m \u001b[39mdef\u001b[39;00m \u001b[39mfn\u001b[39m():\n",
      "\u001b[1;31mNameError\u001b[0m: name 'edges' is not defined"
     ]
    }
   ],
   "source": [
    "def get_nedges_with_attributes(e, n, root, node_size, get_edge_color_fn):\n",
    "\tAll = []\n",
    "\te = e[:n]\n",
    "\tfor l in e:\n",
    "\t\tAll.extend(l)  # EXTEND!!! (not append)\n",
    "\tAll = list(set(All))\n",
    "\tnode_color = dict()\n",
    "\tnode_edge_color = dict()\n",
    "\tcyan_assinged = False\n",
    "\tlime_assinged = False\n",
    "\t# lime_\n",
    "\tfor n in All:\n",
    "\t\tlevel = g.get_levels_no_by_paper_id(\n",
    "\t\t\tlevelsOrderList=g.levelOrderList, id=n)\n",
    "\t\tin_same_level = checkIfDuplicates(level)\n",
    "\t\t# print(n, in_same_level)\n",
    "\t\tif in_same_level:\n",
    "\t\t\tif not cyan_assinged:\n",
    "\t\t\t\tnode_color[n] = \"cyan\"\n",
    "\t\t\t\tcyan_assinged = True\n",
    "\t\t\telse:\n",
    "\t\t\t\tnode_color[n] = \"lime\"\n",
    "\t\t\t\tlime_assinged = True\n",
    "\t\telse:\n",
    "\t\t\tnode_color[n] = \"white\"\n",
    "\t\t\tnode_edge_color[n] = \"black\"\n",
    "\t\t\t\n",
    "\tnode_size_dict = dict()\n",
    "\tfor n in All:\n",
    "\t\tif n == root:\n",
    "\t\t\tnode_size_dict[n] = node_size * 2\n",
    "\t\telse:\n",
    "\t\t\tnode_size_dict[n] = node_size\n",
    "\n",
    "\n",
    "\n",
    "\treturn [e, node_color, node_edge_color, node_size_dict]\n",
    "\n",
    "def checkIfDuplicates(l):\n",
    "    if len(l) == len(set(l)):\n",
    "        return False\n",
    "    else:\n",
    "        return True\n",
    "\n",
    "def get_level_color(level):\n",
    "\tif level == 1:\n",
    "\t\treturn 'Blue'\n",
    "\telif level == 2:\n",
    "\t\treturn 'Purple'\n",
    "\telif level == 3:\n",
    "\t\treturn 'Pink'\n",
    "\n",
    "def get_edge_color(e):\n",
    "\tedges_color = dict()\n",
    "\tfor i in e:\n",
    "\t\tlevel = g.get_levels_no_by_paper_id(\n",
    "\t\t\tlevelsOrderList=g.levelOrderList, id=i[0])\n",
    "\t\tin_same_level = checkIfDuplicates(level)\n",
    "\t\tif i[0] == 'b0d555a9ea67285fccd2ef8d887907bcc811f67a':\n",
    "\t\t\tedges_color[(i[0], i[1])] = 'red'\n",
    "\t\t\t\n",
    "\t\telse:\n",
    "\t\t\tlevel_count = len(level)\n",
    "\t\t\t\n",
    "\t\t\tif level_count == 1:\n",
    "\t\t\t\tedges_color[(i[0], i[1])] = get_level_color(level[0])\n",
    "\t\t\telif level_count > 1:\n",
    "\t\t\t\tif in_same_level:\n",
    "\t\t\t\t\tedges_color[(i[0], i[1])] = \"lime\"\n",
    "\t\t\t\telse:\n",
    "\t\t\t\t\tedges_color[(i[0], i[1])] = \"cyan\"\n",
    "\t\t\telif level_count == 0:\n",
    "\t\t\t\tedges_color[(i[0], i[1])] = \"black\"\n",
    "\treturn edges_color\n",
    "\t\n",
    "\t\n",
    "r = get_nedges_with_attributes(\n",
    "\te=edges[1:], n=2500, root=\"b0d555a9ea67285fccd2ef8d887907bcc811f67a\", node_size=.3, get_edge_color_fn=get_edge_color)\n",
    "\n",
    "# edge_width=.2 | 150\n",
    "# edge_width=.05 | 1500\n",
    "def fn():\n",
    "\tfig, ax = plt.subplots(figsize=(30,30))\n",
    "\tGraph(r[0], node_size=r[3], node_color=r[1], node_edge_color=r[2] ,node_edge_width=.05,\n",
    "\t      edge_width=.05, ax=ax, node_layout='dot', arrows=True, prettify=True)\n",
    "\tplt.show()\n",
    "\n",
    "# fn()\n"
   ]
  },
  {
   "cell_type": "markdown",
   "metadata": {},
   "source": [
    "<!-- v3 -->"
   ]
  },
  {
   "cell_type": "code",
   "execution_count": null,
   "metadata": {},
   "outputs": [
    {
     "data": {
      "text/plain": [
       "120"
      ]
     },
     "execution_count": 274,
     "metadata": {},
     "output_type": "execute_result"
    }
   ],
   "source": [
    "All = []\n",
    "for l in edges[1:150]:\n",
    "\tAll.extend(l)  # EXTEND!!! (not append)\n",
    "All = list(set(All))\n",
    "len(All)"
   ]
  },
  {
   "cell_type": "code",
   "execution_count": null,
   "metadata": {},
   "outputs": [],
   "source": [
    "nodes_color = dict()\n",
    "for n in All:\n",
    "\tnodes_color[n] = getRandomColor()\n"
   ]
  },
  {
   "cell_type": "code",
   "execution_count": null,
   "metadata": {},
   "outputs": [
    {
     "ename": "NameError",
     "evalue": "name 'edges' is not defined",
     "output_type": "error",
     "traceback": [
      "\u001b[1;31m---------------------------------------------------------------------------\u001b[0m",
      "\u001b[1;31mNameError\u001b[0m                                 Traceback (most recent call last)",
      "\u001b[1;32md:\\CSE\\Programs\\Thesis\\graph.ipynb Cell 37\u001b[0m in \u001b[0;36m<cell line: 31>\u001b[1;34m()\u001b[0m\n\u001b[0;32m     <a href='vscode-notebook-cell:/d%3A/CSE/Programs/Thesis/graph.ipynb#ch0000034?line=26'>27</a>\u001b[0m \t\tedges_color[(i[\u001b[39m0\u001b[39m], i[\u001b[39m1\u001b[39m])] \u001b[39m=\u001b[39m color\n\u001b[0;32m     <a href='vscode-notebook-cell:/d%3A/CSE/Programs/Thesis/graph.ipynb#ch0000034?line=27'>28</a>\u001b[0m \t\u001b[39mreturn\u001b[39;00m edges_color\n\u001b[0;32m     <a href='vscode-notebook-cell:/d%3A/CSE/Programs/Thesis/graph.ipynb#ch0000034?line=30'>31</a>\u001b[0m r \u001b[39m=\u001b[39m get_nedges_with_attributes(\n\u001b[1;32m---> <a href='vscode-notebook-cell:/d%3A/CSE/Programs/Thesis/graph.ipynb#ch0000034?line=31'>32</a>\u001b[0m \te\u001b[39m=\u001b[39medges[\u001b[39m1\u001b[39m:], n\u001b[39m=\u001b[39m\u001b[39m150\u001b[39m, root\u001b[39m=\u001b[39m\u001b[39m\"\u001b[39m\u001b[39mb0d555a9ea67285fccd2ef8d887907bcc811f67a\u001b[39m\u001b[39m\"\u001b[39m, node_size\u001b[39m=\u001b[39m\u001b[39m.3\u001b[39m)\n\u001b[0;32m     <a href='vscode-notebook-cell:/d%3A/CSE/Programs/Thesis/graph.ipynb#ch0000034?line=33'>34</a>\u001b[0m \u001b[39m# edge_width=.2 | 150\u001b[39;00m\n\u001b[0;32m     <a href='vscode-notebook-cell:/d%3A/CSE/Programs/Thesis/graph.ipynb#ch0000034?line=34'>35</a>\u001b[0m \u001b[39m# edge_width=.05 | 1500\u001b[39;00m\n\u001b[0;32m     <a href='vscode-notebook-cell:/d%3A/CSE/Programs/Thesis/graph.ipynb#ch0000034?line=35'>36</a>\u001b[0m \u001b[39mdef\u001b[39;00m \u001b[39mfn\u001b[39m():\n",
      "\u001b[1;31mNameError\u001b[0m: name 'edges' is not defined"
     ]
    }
   ],
   "source": [
    "def get_nedges_with_attributes(e, n, root, node_size):\n",
    "\tAll = []\n",
    "\te = e[:n]\n",
    "\tfor l in e:\n",
    "\t\tAll.extend(l)  # EXTEND!!! (not append)\n",
    "\tAll = list(set(All))\n",
    "\tnodes_color = dict()\n",
    "\tnode_edge_color = dict()\n",
    "\tfor n in All:\n",
    "\t\tnodes_color[n] = getRandomColor()\n",
    "\tnode_size_dict = dict()\n",
    "\tfor n in All:\n",
    "\t\tif n == root:\n",
    "\t\t\tnode_size_dict[n] = node_size * 2\n",
    "\t\telse:\n",
    "\t\t\tnode_size_dict[n] = node_size\n",
    "\n",
    "\tedges_color = get_edge_color(e, nodes_color)\n",
    "\n",
    "\treturn [e, nodes_color, node_edge_color, node_size_dict, edges_color]\n",
    "\n",
    "\n",
    "def get_edge_color(e,nodes_color):\n",
    "\tedges_color = dict()\n",
    "\tfor i in e:\n",
    "\t\tcolor = nodes_color[i[0]]\n",
    "\t\tedges_color[(i[0], i[1])] = color\n",
    "\treturn edges_color\n",
    "\t\n",
    "\t\n",
    "r = get_nedges_with_attributes(\n",
    "\te=edges[1:], n=150, root=\"b0d555a9ea67285fccd2ef8d887907bcc811f67a\", node_size=.3)\n",
    "\n",
    "# edge_width=.2 | 150\n",
    "# edge_width=.05 | 1500\n",
    "def fn():\n",
    "\tfig, ax = plt.subplots(figsize=(30,30))\n",
    "\tGraph(r[0], node_size=r[3], node_color=r[1], edge_color=r[4], node_edge_width=0,node_edge_color=None,\n",
    "\t      edge_width=.2, ax=ax, node_layout='dot', arrows=True, prettify=True)\n",
    "\tplt.show()\n",
    "\n",
    "# fn()\n"
   ]
  },
  {
   "cell_type": "markdown",
   "metadata": {},
   "source": [
    "### Centrality"
   ]
  },
  {
   "cell_type": "code",
   "execution_count": 3,
   "metadata": {},
   "outputs": [
    {
     "data": {
      "text/plain": [
       "(24326, 46)"
      ]
     },
     "execution_count": 3,
     "metadata": {},
     "output_type": "execute_result"
    }
   ],
   "source": [
    "inf = pd.read_csv('data/info/info_full_ss_new_x.csv')\n",
    "inf.shape\n"
   ]
  },
  {
   "cell_type": "code",
   "execution_count": 4,
   "metadata": {},
   "outputs": [
    {
     "data": {
      "text/plain": [
       "[[nan, 'b0d555a9ea67285fccd2ef8d887907bcc811f67a'],\n",
       " ['b0d555a9ea67285fccd2ef8d887907bcc811f67a',\n",
       "  '03589e1917debe6df148cac8963fd008e4140237'],\n",
       " ['b0d555a9ea67285fccd2ef8d887907bcc811f67a',\n",
       "  '05dec9ff0f48f45b09245ba0354748961f18ff77'],\n",
       " ['b0d555a9ea67285fccd2ef8d887907bcc811f67a',\n",
       "  '12355df323e6a82030fa6c98e97b512121367ece'],\n",
       " ['b0d555a9ea67285fccd2ef8d887907bcc811f67a',\n",
       "  '1736c33defcf1dda6742e4d577b7e0ce9b63e4fc']]"
      ]
     },
     "execution_count": 4,
     "metadata": {},
     "output_type": "execute_result"
    }
   ],
   "source": [
    "edges = [[u, v] for u, v in inf[['parent_paper_id', 'paper_id']].values]\n",
    "edges[:5]\n"
   ]
  },
  {
   "cell_type": "code",
   "execution_count": 5,
   "metadata": {},
   "outputs": [
    {
     "data": {
      "text/plain": [
       "[['b0d555a9ea67285fccd2ef8d887907bcc811f67a',\n",
       "  '03589e1917debe6df148cac8963fd008e4140237'],\n",
       " ['b0d555a9ea67285fccd2ef8d887907bcc811f67a',\n",
       "  '05dec9ff0f48f45b09245ba0354748961f18ff77'],\n",
       " ['b0d555a9ea67285fccd2ef8d887907bcc811f67a',\n",
       "  '12355df323e6a82030fa6c98e97b512121367ece'],\n",
       " ['b0d555a9ea67285fccd2ef8d887907bcc811f67a',\n",
       "  '1736c33defcf1dda6742e4d577b7e0ce9b63e4fc'],\n",
       " ['b0d555a9ea67285fccd2ef8d887907bcc811f67a',\n",
       "  '1cf65a8c9e9ac8bd1db487004185ad0e15b9b9dd']]"
      ]
     },
     "execution_count": 5,
     "metadata": {},
     "output_type": "execute_result"
    }
   ],
   "source": [
    "edges = edges[1:]\n",
    "edges[:5]\n"
   ]
  },
  {
   "cell_type": "code",
   "execution_count": 8,
   "metadata": {},
   "outputs": [],
   "source": [
    "G = nx.DiGraph(edges)\n",
    "# https://networkx.org/documentation/stable/reference/algorithms/centrality.html\n",
    "# deg_centrality = nx.degree_centrality(G)\n",
    "# close_centrality = nx.closeness_centrality(G)\n",
    "# bet_centrality = nx.betweenness_centrality(G)\n",
    "# in_deg_centrality = nx.in_degree_centrality(G)\n",
    "# out_deg_centrality = nx.out_degree_centrality(G)\n",
    "load_centrality = nx.load_centrality(G)\n",
    "\n",
    "# G is the Karate Club Graph\n",
    "# ids = [ k for k in deg_centrality.keys() ][1:]\n",
    "# len(ids)\n"
   ]
  },
  {
   "cell_type": "code",
   "execution_count": null,
   "metadata": {},
   "outputs": [],
   "source": []
  },
  {
   "cell_type": "code",
   "execution_count": null,
   "metadata": {},
   "outputs": [],
   "source": [
    "def get_degree_centrality(row):\n",
    "\tpaper_id = row['paper_id']\n",
    "\tfor k, v in deg_centrality.items():\n",
    "\t\tif k == paper_id:\n",
    "\t\t\treturn v\n",
    "\treturn 0\n",
    "\t"
   ]
  },
  {
   "cell_type": "code",
   "execution_count": null,
   "metadata": {},
   "outputs": [],
   "source": [
    "def get_closeness_centrality(row):\n",
    "\tpaper_id = row['paper_id']\n",
    "\tfor k, v in close_centrality.items():\n",
    "\t\tif k == paper_id:\n",
    "\t\t\treturn v\n",
    "\treturn 0\n"
   ]
  },
  {
   "cell_type": "code",
   "execution_count": null,
   "metadata": {},
   "outputs": [],
   "source": [
    "def get_betweenness_centrality(row):\n",
    "\tpaper_id = row['paper_id']\n",
    "\tfor k, v in bet_centrality.items():\n",
    "\t\tif k == paper_id:\n",
    "\t\t\treturn v\n",
    "\treturn 0"
   ]
  },
  {
   "cell_type": "code",
   "execution_count": null,
   "metadata": {},
   "outputs": [],
   "source": [
    "def get_in_degree_centrality(row):\n",
    "\tpaper_id = row['paper_id']\n",
    "\tfor k, v in in_deg_centrality.items():\n",
    "\t\tif k == paper_id:\n",
    "\t\t\treturn v\n",
    "\treturn 0\n"
   ]
  },
  {
   "cell_type": "code",
   "execution_count": null,
   "metadata": {},
   "outputs": [],
   "source": [
    "def get_out_degree_centrality(row):\n",
    "\tpaper_id = row['paper_id']\n",
    "\tfor k, v in out_deg_centrality.items():\n",
    "\t\tif k == paper_id:\n",
    "\t\t\treturn v\n",
    "\treturn 0\n"
   ]
  },
  {
   "cell_type": "code",
   "execution_count": 9,
   "metadata": {},
   "outputs": [],
   "source": [
    "def get_load_centrality(row):\n",
    "\tpaper_id = row['paper_id']\n",
    "\tfor k, v in load_centrality.items():\n",
    "\t\tif k == paper_id:\n",
    "\t\t\treturn v\n",
    "\treturn 0\n"
   ]
  },
  {
   "cell_type": "code",
   "execution_count": null,
   "metadata": {},
   "outputs": [
    {
     "data": {
      "text/plain": [
       "(24387, 36)"
      ]
     },
     "execution_count": 10,
     "metadata": {},
     "output_type": "execute_result"
    }
   ],
   "source": [
    "inf = pd.read_csv('data/info/info_full_ss_new_x.csv')\n",
    "inf.shape"
   ]
  },
  {
   "cell_type": "code",
   "execution_count": null,
   "metadata": {},
   "outputs": [],
   "source": [
    "inf['degree_centrality'] = inf.apply(get_degree_centrality, axis='columns')\n"
   ]
  },
  {
   "cell_type": "code",
   "execution_count": null,
   "metadata": {},
   "outputs": [],
   "source": [
    "inf['closeness_centrality'] = inf.apply(\n",
    "    get_closeness_centrality, axis='columns')\n"
   ]
  },
  {
   "cell_type": "code",
   "execution_count": null,
   "metadata": {},
   "outputs": [],
   "source": [
    "inf['in_deg_centrality'] = inf.apply(\n",
    "    get_in_degree_centrality, axis='columns')\n"
   ]
  },
  {
   "cell_type": "code",
   "execution_count": null,
   "metadata": {},
   "outputs": [],
   "source": [
    "inf['out_deg_centrality'] = inf.apply(\n",
    "    get_out_degree_centrality, axis='columns')\n"
   ]
  },
  {
   "cell_type": "code",
   "execution_count": 11,
   "metadata": {},
   "outputs": [],
   "source": [
    "inf['load_centrality'] = inf.apply(\n",
    "    get_load_centrality, axis='columns')\n"
   ]
  },
  {
   "cell_type": "code",
   "execution_count": null,
   "metadata": {},
   "outputs": [],
   "source": [
    "harmonic_centrality = nx.harmonic_centrality(G)\n",
    "\n",
    "def get_harmonic_centrality(row):\n",
    "\tpaper_id = row['paper_id']\n",
    "\tfor k, v in harmonic_centrality.items():\n",
    "\t\tif k == paper_id:\n",
    "\t\t\treturn v\n",
    "\treturn 0\n",
    "\n",
    "inf['harmonic_centrality'] = inf.apply(\n",
    "    get_harmonic_centrality, axis='columns')\n"
   ]
  },
  {
   "cell_type": "code",
   "execution_count": null,
   "metadata": {},
   "outputs": [],
   "source": [
    "data = inf.iloc[1:]\n",
    "data = data[data['level_no'] != 4]\n"
   ]
  },
  {
   "cell_type": "code",
   "execution_count": null,
   "metadata": {},
   "outputs": [
    {
     "data": {
      "text/html": [
       "<div>\n",
       "<style scoped>\n",
       "    .dataframe tbody tr th:only-of-type {\n",
       "        vertical-align: middle;\n",
       "    }\n",
       "\n",
       "    .dataframe tbody tr th {\n",
       "        vertical-align: top;\n",
       "    }\n",
       "\n",
       "    .dataframe thead th {\n",
       "        text-align: right;\n",
       "    }\n",
       "</style>\n",
       "<table border=\"1\" class=\"dataframe\">\n",
       "  <thead>\n",
       "    <tr style=\"text-align: right;\">\n",
       "      <th></th>\n",
       "      <th>uuid</th>\n",
       "      <th>paper_id</th>\n",
       "      <th>parent_id</th>\n",
       "      <th>parent_paper_id</th>\n",
       "      <th>title</th>\n",
       "      <th>reference_count</th>\n",
       "      <th>citation_count</th>\n",
       "      <th>influential_citation_count</th>\n",
       "      <th>published_date</th>\n",
       "      <th>paper_type</th>\n",
       "      <th>...</th>\n",
       "      <th>similarity_with_l2</th>\n",
       "      <th>similarity_with_l0_em</th>\n",
       "      <th>similarity_with_l1_em</th>\n",
       "      <th>similarity_with_l2_em</th>\n",
       "      <th>similarity_with_immediate_parent_em</th>\n",
       "      <th>freshness</th>\n",
       "      <th>in_deg_centrality</th>\n",
       "      <th>out_deg_centrality</th>\n",
       "      <th>eigenvector_centrality</th>\n",
       "      <th>load_centrality</th>\n",
       "    </tr>\n",
       "  </thead>\n",
       "  <tbody>\n",
       "    <tr>\n",
       "      <th>0</th>\n",
       "      <td>8bde6cb8-296d-4593-883f-b768103e1e69</td>\n",
       "      <td>b0d555a9ea67285fccd2ef8d887907bcc811f67a</td>\n",
       "      <td>NaN</td>\n",
       "      <td>NaN</td>\n",
       "      <td>PositionRank: An Unsupervised Approach to Keyp...</td>\n",
       "      <td>43</td>\n",
       "      <td>176</td>\n",
       "      <td>26</td>\n",
       "      <td>2017.0</td>\n",
       "      <td>Article</td>\n",
       "      <td>...</td>\n",
       "      <td>NaN</td>\n",
       "      <td>NaN</td>\n",
       "      <td>NaN</td>\n",
       "      <td>NaN</td>\n",
       "      <td>NaN</td>\n",
       "      <td>NaN</td>\n",
       "      <td>0.000000</td>\n",
       "      <td>0.004205</td>\n",
       "      <td>2.168855e-26</td>\n",
       "      <td>0.000000</td>\n",
       "    </tr>\n",
       "    <tr>\n",
       "      <th>1</th>\n",
       "      <td>ade6eb61-946a-49f3-835d-74804cb9de3e</td>\n",
       "      <td>03589e1917debe6df148cac8963fd008e4140237</td>\n",
       "      <td>8bde6cb8-296d-4593-883f-b768103e1e69</td>\n",
       "      <td>b0d555a9ea67285fccd2ef8d887907bcc811f67a</td>\n",
       "      <td>SemEval-2010 Task 5 : Automatic Keyphrase Extr...</td>\n",
       "      <td>29</td>\n",
       "      <td>352</td>\n",
       "      <td>71</td>\n",
       "      <td>2010.0</td>\n",
       "      <td>NaN</td>\n",
       "      <td>...</td>\n",
       "      <td>NaN</td>\n",
       "      <td>0.72775</td>\n",
       "      <td>NaN</td>\n",
       "      <td>NaN</td>\n",
       "      <td>0.665641</td>\n",
       "      <td>0.470477</td>\n",
       "      <td>0.002588</td>\n",
       "      <td>0.002156</td>\n",
       "      <td>3.035364e-18</td>\n",
       "      <td>0.000475</td>\n",
       "    </tr>\n",
       "  </tbody>\n",
       "</table>\n",
       "<p>2 rows × 40 columns</p>\n",
       "</div>"
      ],
      "text/plain": [
       "                                   uuid  \\\n",
       "0  8bde6cb8-296d-4593-883f-b768103e1e69   \n",
       "1  ade6eb61-946a-49f3-835d-74804cb9de3e   \n",
       "\n",
       "                                   paper_id  \\\n",
       "0  b0d555a9ea67285fccd2ef8d887907bcc811f67a   \n",
       "1  03589e1917debe6df148cac8963fd008e4140237   \n",
       "\n",
       "                              parent_id  \\\n",
       "0                                   NaN   \n",
       "1  8bde6cb8-296d-4593-883f-b768103e1e69   \n",
       "\n",
       "                            parent_paper_id  \\\n",
       "0                                       NaN   \n",
       "1  b0d555a9ea67285fccd2ef8d887907bcc811f67a   \n",
       "\n",
       "                                               title  reference_count  \\\n",
       "0  PositionRank: An Unsupervised Approach to Keyp...               43   \n",
       "1  SemEval-2010 Task 5 : Automatic Keyphrase Extr...               29   \n",
       "\n",
       "   citation_count  influential_citation_count  published_date paper_type  ...  \\\n",
       "0             176                          26          2017.0    Article  ...   \n",
       "1             352                          71          2010.0        NaN  ...   \n",
       "\n",
       "  similarity_with_l2  similarity_with_l0_em similarity_with_l1_em  \\\n",
       "0                NaN                    NaN                   NaN   \n",
       "1                NaN                0.72775                   NaN   \n",
       "\n",
       "  similarity_with_l2_em similarity_with_immediate_parent_em freshness  \\\n",
       "0                   NaN                                 NaN       NaN   \n",
       "1                   NaN                            0.665641  0.470477   \n",
       "\n",
       "  in_deg_centrality out_deg_centrality  eigenvector_centrality  \\\n",
       "0          0.000000           0.004205            2.168855e-26   \n",
       "1          0.002588           0.002156            3.035364e-18   \n",
       "\n",
       "   load_centrality  \n",
       "0         0.000000  \n",
       "1         0.000475  \n",
       "\n",
       "[2 rows x 40 columns]"
      ]
     },
     "execution_count": 52,
     "metadata": {},
     "output_type": "execute_result"
    }
   ],
   "source": [
    "inf.head(2)"
   ]
  },
  {
   "cell_type": "code",
   "execution_count": null,
   "metadata": {},
   "outputs": [
    {
     "data": {
      "text/plain": [
       "<AxesSubplot:xlabel='level_no', ylabel='harmonic_centrality'>"
      ]
     },
     "execution_count": 48,
     "metadata": {},
     "output_type": "execute_result"
    },
    {
     "data": {
      "image/png": "[encoded data removed]",
      "text/plain": [
       "<Figure size 432x288 with 1 Axes>"
      ]
     },
     "metadata": {
      "needs_background": "light"
     },
     "output_type": "display_data"
    }
   ],
   "source": [
    "sns.lineplot(x=\"level_no\", y=\"harmonic_centrality\", data=data)\n"
   ]
  },
  {
   "cell_type": "code",
   "execution_count": null,
   "metadata": {},
   "outputs": [],
   "source": [
    "# plt.figure(figsize=(12, 12))\n",
    "# plt.subplot(2,2, 1)  \n",
    "# sns.pointplot(x=\"level_no\", y=\"degree_centrality\", data=data)\n",
    "# plt.subplot(2, 2, 2)  \n",
    "# sns.pointplot(x=\"level_no\", y=\"closeness_centrality\", data=data)\n",
    "# plt.subplot(2,2, 3)  \n",
    "# sns.pointplot(x=\"level_no\", y=\"betweenness_centrality\", data=data)\n",
    "# plt.subplot(2, 2, 4)  \n",
    "# sns.pointplot(x=\"level_no\", y=\"age\", data=inf)\n",
    "# plt.show()\n"
   ]
  },
  {
   "cell_type": "code",
   "execution_count": 12,
   "metadata": {},
   "outputs": [],
   "source": [
    "inf.to_csv('data/info/info_full_ss_new_x.csv', index=False)"
   ]
  },
  {
   "cell_type": "code",
   "execution_count": null,
   "metadata": {},
   "outputs": [
    {
     "data": {
      "image/png": "[encoded data removed]",
      "text/plain": [
       "<Figure size 936x936 with 4 Axes>"
      ]
     },
     "metadata": {
      "needs_background": "light"
     },
     "output_type": "display_data"
    }
   ],
   "source": [
    "plt.figure(figsize=(13, 13))\n",
    "plt.subplot(2, 2, 1)\n",
    "sns.lineplot(x=\"level_no\", y=\"degree_centrality\", data=data)\n",
    "plt.subplot(2, 2, 2)\n",
    "sns.lineplot(x=\"level_no\", y=\"closeness_centrality\", data=data)\n",
    "plt.subplot(2, 2, 3)\n",
    "sns.lineplot(x=\"level_no\", y=\"betweenness_centrality\", data=data)\n",
    "plt.subplot(2, 2, 4)\n",
    "sns.lineplot(x=\"level_no\", y=\"age\", data=data)\n",
    "plt.show()"
   ]
  },
  {
   "cell_type": "markdown",
   "metadata": {},
   "source": [
    "## Graph"
   ]
  },
  {
   "cell_type": "markdown",
   "metadata": {},
   "source": [
    "### Graph"
   ]
  },
  {
   "cell_type": "code",
   "execution_count": null,
   "metadata": {},
   "outputs": [],
   "source": [
    "class InfoManager:\n",
    "\tdef __init__(self, file_path: str = None, df: DataFrame = None) -> None:\n",
    "\t\tif file_path:\n",
    "\t\t\tself.inf: DataFrame = pd.read_csv(file_path)\n",
    "\t\telif df is not None:\n",
    "\t\t\tself.inf = df\n",
    "\n",
    "\tdef get_info_by_uuid(self, id: str) -> List[dict]:\n",
    "\t\tf = self.inf[self.inf['uuid'] == id]\n",
    "\t\treturn f.to_dict('records')[0]\n",
    "\n",
    "\tdef get_info_by_uuidIds(self, ids: List[str]) -> List[dict]:\n",
    "\t\tf = self.inf[self.inf['uuid'].isin(ids)]\n",
    "\t\treturn f.to_dict('records')\n",
    "\n",
    "\tdef get_info_by_key(self, key: str, value: str) -> List[dict]:\n",
    "\t\tf = self.inf[self.inf[key] == value]\n",
    "\t\treturn f.to_dict('records')\n",
    "\n",
    "\tdef get_info_keys_by_uuid(self, id: str, keys: List[str]) -> Dict:\n",
    "\t\tf = self.inf[self.inf['uuid'] == id]\n",
    "\t\treturn f.iloc[0][keys].to_dict()\n",
    "\n",
    "\tdef get_refs_by_uuid(self, uuid: str) -> List[str]:\n",
    "\t\tf = self.inf[self.inf['parent_paper_uuid'] == uuid]\n",
    "\t\treturn f.to_dict('records')\n",
    "\n",
    "\tdef get_parent_info_by_child_id(self, child_id: str) -> List[dict]:\n",
    "\t\tf = self.inf[self.inf['uuid'] == child_id]\n",
    "\t\tparent_paper_uuid = f.iloc[0]['parent_paper_uuid']\n",
    "\t\tp = self.inf[self.inf['uuid'] == parent_paper_uuid]\n",
    "\t\treturn p.to_dict('records')[0]\n"
   ]
  },
  {
   "cell_type": "code",
   "execution_count": null,
   "metadata": {},
   "outputs": [],
   "source": [
    "class GraphManager:\n",
    "\tdef __init__(self) -> None:\n",
    "\t\tself.adjacencyListUnique: AdjacencyList = defaultdict(list)\n",
    "\t\tself.adjacencyListActual: AdjacencyList = defaultdict(list)\n",
    "\t\tself.levelOrderList: Levels = []\n",
    "\t\tself.levelOrderIdsList: Levels = []\n",
    "\t\tself.inf: DataFrame|None = None\n",
    "\t\tself.im: InfoManager|None = None\n",
    "\t\t\n",
    "\n",
    "\t@classmethod\n",
    "\tdef init_from_csv(cls, csv_path: str,) -> GraphManager:\n",
    "\t\tg = cls()\n",
    "\t\tg.inf = pd.read_csv(csv_path)\n",
    "\t\tg.im = InfoManager(df=g.inf)\n",
    "\n",
    "\t\tprint(g.inf.shape)\n",
    "\t\tfor _, row in g.inf.iterrows():\n",
    "\t\t\tg.addEdge(row['parent_paper_uuid'], row['uuid'], unique=True)\n",
    "\t\t\tg.addEdge(row['parent_paper_id'], row['paper_id'], unique=False)\n",
    "\t\treturn g\n",
    "\n",
    "\tdef addEdge(self, parent_paper_uuid: str, child_id: str, unique) -> None:\n",
    "\t\tif unique:\n",
    "\t\t\tself.adjacencyListUnique[parent_paper_uuid].append(child_id)\n",
    "\t\telse:\n",
    "\t\t\tself.adjacencyListActual[parent_paper_uuid].append(child_id)\n",
    "\n",
    "\tdef levelOrderFull(self, root: str) -> List[List[Dict]]:\n",
    "\t\tself.levelOrderList = []\n",
    "\t\tq: Deque = deque()\n",
    "\t\tq.append(root)\n",
    "\t\twhile q:\n",
    "\t\t\tcurrentLevel: List[Dict] = []\n",
    "\t\t\tcurrentQLength = len(q)\n",
    "\t\t\tfor _ in range(currentQLength):\n",
    "\t\t\t\tcurrentNode = q.popleft()\n",
    "\t\t\t\t# currentLevel.append(currentNode)\n",
    "\t\t\t\tp = self.im.get_info_keys_by_uuid(currentNode, ['uuid', 'parent_paper_uuid','paper_id', 'parent_paper_id'])\n",
    "\t\t\t\tcurrentLevel.append(p)\n",
    "\t\t\t\tfor children in self.adjacencyListUnique[currentNode]:\n",
    "\t\t\t\t\tq.append(children)\n",
    "\n",
    "\t\t\tself.levelOrderList.append(currentLevel)\n",
    "\t\t\n",
    "\t\treturn self.levelOrderList\n",
    "\t\n",
    "\tdef levelOrderIdsOnly(self, root: str) -> List[List[Dict]]:\n",
    "\t\tself.levelOrderIdsList = []\n",
    "\t\tq: Deque = deque()\n",
    "\t\tq.append(root)\n",
    "\t\twhile q:\n",
    "\t\t\tcurrentLevel: List[Dict] = []\n",
    "\t\t\tcurrentQLength = len(q)\n",
    "\t\t\tfor _ in range(currentQLength):\n",
    "\t\t\t\tcurrentNode = q.popleft()\n",
    "\t\t\t\tcurrentLevel.append(currentNode)\n",
    "\t\t\t\tfor children in self.adjacencyListUnique[currentNode]:\n",
    "\t\t\t\t\tq.append(children)\n",
    "\n",
    "\t\t\tself.levelOrderIdsList.append(currentLevel)\n",
    "\n",
    "\t\treturn self.levelOrderIdsList\n",
    "\t\n",
    "\tdef get_level_no_by_uid(self, levelsOrderList: List[List[Dict]], id: str) -> str:\n",
    "\t\tfor i, l in enumerate(levelsOrderList):\n",
    "\t\t\tfor d in l:\n",
    "\t\t\t\tif d['uuid'] == id:\n",
    "\t\t\t\t\treturn i\n",
    "\t\treturn \"\" \n",
    "\n",
    "\tdef get_levels_no_by_paper_id(self, levelsOrderList: List[List[Dict]], id: str) -> List[str]:\n",
    "\t\tinLevels = []\n",
    "\t\tfor i, l in enumerate(levelsOrderList):\n",
    "\t\t\tfor d in l:\n",
    "\t\t\t\tif d['paper_id'] == id:\n",
    "\t\t\t\t\tinLevels.append(i)\n",
    "\t\treturn inLevels\n",
    "\t\t\t\n",
    "\t# def alreadyProcessed(self, id: str, levels: List[List[str]]) -> bool:\n",
    "\t# \tprint(len(levels))\n",
    "\t# \tfor i in range(len(levels) - 1):\n",
    "\t# \t\tprint(i)\n",
    "\t# \t\t# if id in levels[i]:\n",
    "\t# \t\t# return True\n",
    "\t\n",
    "\tdef getPaths(self, s, d, unique=True) -> List[List[str]]:\n",
    "\t\tself.path = []\n",
    "\t\tself.ans = []\n",
    "\n",
    "\t\tdef dfs(root):\n",
    "\t\t\tself.path.append(root)\n",
    "\t\t\tif root == d:\n",
    "\t\t\t\tif not unique:\n",
    "\t\t\t\t\tself.ans.append(self.path)\n",
    "\t\t\t\telse:\n",
    "\t\t\t\t\tself.ans = self.path\n",
    "\n",
    "\t\t\t\treturn\n",
    "\t\t\tif not unique:\n",
    "\t\t\t\tfor child in self.adjacencyListActual[root]:\n",
    "\t\t\t\t\tdfs(child)\n",
    "\t\t\t\t\t# after finishing traverse the child node, remove it from current path\n",
    "\t\t\t\t\tself.path = self.path[:-1]\n",
    "\t\t\telse:\n",
    "\t\t\t\tfor child in self.adjacencyListUnique[root]:\n",
    "\t\t\t\t\tdfs(child)\n",
    "\t\t\t\t\t# after finishing traverse the child node, remove it from current path\n",
    "\t\t\t\t\tself.path = self.path[:-1]\n",
    "\t\tdfs(s)\n",
    "\n",
    "\t\treturn self.ans\n"
   ]
  },
  {
   "cell_type": "code",
   "execution_count": null,
   "metadata": {},
   "outputs": [
    {
     "name": "stdout",
     "output_type": "stream",
     "text": [
      "(24387, 42)\n"
     ]
    }
   ],
   "source": [
    "# g = Graph.init_from_csv('data/info/info_full_ss.csv')\n",
    "# g = Graph.init_from_csv('data/info/info_full_ss.csv',read_full=True)\n",
    "g = GraphManager.init_from_csv('data/info/info_full_ss_new_x.csv')"
   ]
  },
  {
   "cell_type": "code",
   "execution_count": null,
   "metadata": {},
   "outputs": [],
   "source": [
    "# g.inf.iloc[1000]"
   ]
  },
  {
   "cell_type": "code",
   "execution_count": null,
   "metadata": {},
   "outputs": [
    {
     "data": {
      "text/plain": [
       "['8bde6cb8-296d-4593-883f-b768103e1e69',\n",
       " '47dfc1c7-8a74-47b7-8f3c-10783e2f721b',\n",
       " 'c25fdc24-177a-4155-a288-e26745623089']"
      ]
     },
     "execution_count": 11,
     "metadata": {},
     "output_type": "execute_result"
    }
   ],
   "source": [
    "g.getPaths('8bde6cb8-296d-4593-883f-b768103e1e69',\n",
    "           'c25fdc24-177a-4155-a288-e26745623089')\n"
   ]
  },
  {
   "cell_type": "code",
   "execution_count": null,
   "metadata": {},
   "outputs": [
    {
     "name": "stdout",
     "output_type": "stream",
     "text": [
      "total levels: 5\n",
      "level 0: 1\n",
      "level 1: 39\n",
      "level 2: 1037\n",
      "level 3: 23249\n",
      "level 4: 61\n"
     ]
    }
   ],
   "source": [
    "l_full = g.levelOrderFull(root=\"8bde6cb8-296d-4593-883f-b768103e1e69\")\n",
    "print(f\"total levels: {len(l_full)}\")\n",
    "for i, level in enumerate(l_full):\n",
    "\tprint(f\"level {i}: {len(level)}\")"
   ]
  },
  {
   "cell_type": "code",
   "execution_count": null,
   "metadata": {},
   "outputs": [
    {
     "name": "stdout",
     "output_type": "stream",
     "text": [
      "total levels: 5\n",
      "level 0: 1\n",
      "level 1: 39\n",
      "level 2: 1037\n",
      "level 3: 23249\n",
      "level 4: 61\n"
     ]
    }
   ],
   "source": [
    "l_full = g.levelOrderIdsOnly(root=\"8bde6cb8-296d-4593-883f-b768103e1e69\")\n",
    "print(f\"total levels: {len(l_full)}\")\n",
    "for i, level in enumerate(l_full):\n",
    "\tprint(f\"level {i}: {len(level)}\")\n"
   ]
  },
  {
   "cell_type": "code",
   "execution_count": null,
   "metadata": {},
   "outputs": [],
   "source": [
    "add_to_pickle('data/info/graph_serialized.dat', g)"
   ]
  },
  {
   "cell_type": "code",
   "execution_count": null,
   "metadata": {},
   "outputs": [],
   "source": [
    "g_serialized = read_from_pickle('data/info/graph_serialized.dat')"
   ]
  },
  {
   "cell_type": "code",
   "execution_count": null,
   "metadata": {},
   "outputs": [
    {
     "data": {
      "text/plain": [
       "(24387, 42)"
      ]
     },
     "execution_count": 16,
     "metadata": {},
     "output_type": "execute_result"
    }
   ],
   "source": [
    "g = GraphManager()\n",
    "g = g_serialized\n",
    "g.inf.shape\n"
   ]
  },
  {
   "cell_type": "code",
   "execution_count": null,
   "metadata": {},
   "outputs": [
    {
     "data": {
      "text/plain": [
       "'b0d555a9ea67285fccd2ef8d887907bcc811f67a'"
      ]
     },
     "execution_count": 18,
     "metadata": {},
     "output_type": "execute_result"
    }
   ],
   "source": [
    "g.levelOrderList[0][0]['paper_id']"
   ]
  },
  {
   "cell_type": "code",
   "execution_count": null,
   "metadata": {},
   "outputs": [
    {
     "data": {
      "text/plain": [
       "5"
      ]
     },
     "execution_count": 19,
     "metadata": {},
     "output_type": "execute_result"
    }
   ],
   "source": [
    "len(g.levelOrderList)"
   ]
  },
  {
   "cell_type": "code",
   "execution_count": null,
   "metadata": {},
   "outputs": [
    {
     "data": {
      "text/plain": [
       "[0]"
      ]
     },
     "execution_count": 20,
     "metadata": {},
     "output_type": "execute_result"
    }
   ],
   "source": [
    "g.get_levels_no_by_paper_id(levelsOrderList=g.levelOrderList, id=\"b0d555a9ea67285fccd2ef8d887907bcc811f67a\")"
   ]
  },
  {
   "cell_type": "code",
   "execution_count": null,
   "metadata": {},
   "outputs": [
    {
     "data": {
      "text/plain": [
       "{'paper_id': '03589e1917debe6df148cac8963fd008e4140237',\n",
       " 'parent_paper_id': 'b0d555a9ea67285fccd2ef8d887907bcc811f67a',\n",
       " 'uuid': 'ade6eb61-946a-49f3-835d-74804cb9de3e',\n",
       " 'parent_paper_uuid': '8bde6cb8-296d-4593-883f-b768103e1e69'}"
      ]
     },
     "execution_count": 22,
     "metadata": {},
     "output_type": "execute_result"
    }
   ],
   "source": [
    "g.im.get_info_keys_by_uuid(\n",
    "    \"ade6eb61-946a-49f3-835d-74804cb9de3e\", ['paper_id','parent_paper_id', 'uuid', 'parent_paper_uuid'])\n"
   ]
  },
  {
   "cell_type": "code",
   "execution_count": null,
   "metadata": {},
   "outputs": [
    {
     "name": "stdout",
     "output_type": "stream",
     "text": [
      "[1, 2, 2, 2, 2, 2, 2, 2, 2, 2, 3, 3, 3, 3, 3, 3, 3, 3, 3, 3, 3, 3, 3, 3, 3, 3, 3, 3, 3, 3, 3, 3, 3, 3, 3, 3, 3, 3, 3, 3, 3]\n"
     ]
    }
   ],
   "source": [
    "print(g.get_levels_no_by_paper_id(\n",
    "    levelsOrderList=g.levelOrderList, id=\"03589e1917debe6df148cac8963fd008e4140237\")\n",
    ")\n"
   ]
  },
  {
   "cell_type": "markdown",
   "metadata": {},
   "source": [
    "Find child older than parent:"
   ]
  },
  {
   "cell_type": "code",
   "execution_count": null,
   "metadata": {},
   "outputs": [],
   "source": [
    "count = []\n",
    "for i, level in enumerate(l_full):\n",
    "\t# print(f\"level {i}: {len(level)}\")\n",
    "\tif i == 3:\n",
    "\t\tbreak\n",
    "\tfor paper in level:\n",
    "\t\tparent_uuid = paper['parent_paper_uuid']\n",
    "\t\tif pd.isnull(parent_uuid):\n",
    "\t\t\tcontinue\n",
    "\t\troot = g.im.get_info_keys_by_uuid(parent_uuid,\n",
    "\t\t\t\t\t\t\t\t\t['title', 'uuid', 'paper_id', 'published_date'])\n",
    "\t\tpublished_date = root['published_date']\n",
    "\t\tpaper_id = root['paper_id']\n",
    "\t\ttitle = root['title']\n",
    "\n",
    "\t\trefs = g.im.get_refs_by_uuid(parent_uuid)\n",
    "\t\tfor ref in refs:\n",
    "\t\t\tchild_published_date = ref['published_date']\n",
    "\t\t\tchild_uuid = ref['uuid']\n",
    "\t\t\tchild_title = ref['title']\n",
    "\t\t\tchild_paper_id = ref['paper_id']\n",
    "\t\t\tif child_published_date > published_date:\n",
    "\t\t\t\tcount.append((i, paper_id, title, child_paper_id,\n",
    "\t\t\t\t\t\t\t\tchild_title, child_published_date))\n",
    "count\n"
   ]
  },
  {
   "cell_type": "markdown",
   "metadata": {},
   "source": [
    "## PDF to TEXT Conversion"
   ]
  },
  {
   "cell_type": "code",
   "execution_count": null,
   "metadata": {},
   "outputs": [],
   "source": [
    "pdf_files_id_list = [f.name.split(\".\")[0] for f in os.scandir(\n",
    "    \"data/papers\") if f.name.endswith(\".pdf\")]\n",
    "text_files_id_list = [f.name.split(\".\")[0] for f in os.scandir(\n",
    "    \"data/papers\") if f.name.endswith(\".txt\")]"
   ]
  },
  {
   "cell_type": "code",
   "execution_count": null,
   "metadata": {},
   "outputs": [],
   "source": [
    "text_files_id_list = [f.name.split(\".\")[0] for f in os.scandir(\n",
    "    \"data/papers\") if f.name.endswith(\".txt\")]"
   ]
  },
  {
   "cell_type": "code",
   "execution_count": null,
   "metadata": {},
   "outputs": [
    {
     "data": {
      "text/plain": [
       "23272"
      ]
     },
     "execution_count": 9,
     "metadata": {},
     "output_type": "execute_result"
    }
   ],
   "source": [
    "os.stat(\"data/papers/5a4d81c67da140f88de5d8625906a9be17b3af40.txt\").st_size\n"
   ]
  },
  {
   "cell_type": "code",
   "execution_count": null,
   "metadata": {},
   "outputs": [
    {
     "data": {
      "text/plain": [
       "0"
      ]
     },
     "execution_count": 4,
     "metadata": {},
     "output_type": "execute_result"
    }
   ],
   "source": [
    "text_files_id_list = [f.name.split(\".\")[0] for f in os.scandir(\n",
    "    \"data/papers\") if f.name.endswith(\".txt\")]\n",
    "len(text_files_id_list)"
   ]
  },
  {
   "cell_type": "code",
   "execution_count": null,
   "metadata": {},
   "outputs": [
    {
     "data": {
      "text/plain": [
       "334"
      ]
     },
     "execution_count": 11,
     "metadata": {},
     "output_type": "execute_result"
    }
   ],
   "source": [
    "text_yet_to_be_converted =list(set(pdf_files_id_list) - set(text_files_id_list))\n",
    "len(text_yet_to_be_converted)\n"
   ]
  },
  {
   "cell_type": "code",
   "execution_count": null,
   "metadata": {},
   "outputs": [
    {
     "data": {
      "text/plain": [
       "7234"
      ]
     },
     "execution_count": 12,
     "metadata": {},
     "output_type": "execute_result"
    }
   ],
   "source": [
    "text_already_converted = list(\n",
    "    set(pdf_files_id_list) & set(text_files_id_list))\n",
    "len(text_already_converted)\n"
   ]
  },
  {
   "cell_type": "code",
   "execution_count": 11,
   "metadata": {},
   "outputs": [],
   "source": [
    "from text_pre_process.text_preprocess import cleanText\n"
   ]
  },
  {
   "cell_type": "code",
   "execution_count": null,
   "metadata": {},
   "outputs": [
    {
     "data": {
      "text/plain": [
       "'data/papers/text_raw_clean/0000ff68310e8a43c26371b4f0ff05ddaed93577.txt'"
      ]
     },
     "execution_count": 4,
     "metadata": {},
     "output_type": "execute_result"
    }
   ],
   "source": [
    "dir_name = \"data/papers/text_raw/\"\n",
    "files = [f\"{dir_name}{f.name}\" for f in os.scandir(dir_name) if f.name.endswith(\".txt\")]\n",
    "\"data/papers/text_raw_clean/\"+files[0].split(\".\")[0].split(\"/\")[-1]+\".txt\"\n"
   ]
  },
  {
   "cell_type": "code",
   "execution_count": null,
   "metadata": {},
   "outputs": [
    {
     "data": {
      "text/plain": [
       "[]"
      ]
     },
     "execution_count": 11,
     "metadata": {},
     "output_type": "execute_result"
    }
   ],
   "source": [
    "dir_name = \"data/papers/text_raw/\"\n",
    "files = [f\"{dir_name}{f.name}\" for f in os.scandir(dir_name) if f.name.endswith(\".txt\")]\n",
    "\"data/papers/text_raw_clean/\"+files[0].split(\".\")[0].split(\"/\")[-1]+\".txt\"\n"
   ]
  },
  {
   "cell_type": "code",
   "execution_count": null,
   "metadata": {},
   "outputs": [
    {
     "name": "stdout",
     "output_type": "stream",
     "text": [
      "Requirement already satisfied: pymupdf in c:\\users\\soiko\\anaconda3\\lib\\site-packages (1.20.2)\n"
     ]
    }
   ],
   "source": [
    "# !pip install PyMuPDF\n"
   ]
  },
  {
   "cell_type": "code",
   "execution_count": 12,
   "metadata": {},
   "outputs": [],
   "source": [
    "import fitz\n",
    "def pdfToTextWithPyMuPdf(filename):\n",
    "    text = \"\"\n",
    "    with fitz.open(filename) as doc:\n",
    "        for page in doc:\n",
    "            text += page.get_text()\n",
    "\n",
    "    text = cleanText(text,stem=False)\n",
    "    return text\n",
    "\n",
    "\n",
    "# "
   ]
  },
  {
   "cell_type": "code",
   "execution_count": 15,
   "metadata": {},
   "outputs": [
    {
     "data": {
      "text/plain": [
       "['data/papers/root_raw_clean_without_stem/b0d555a9ea67285fccd2ef8d887907bcc811f67a.pdf']"
      ]
     },
     "execution_count": 15,
     "metadata": {},
     "output_type": "execute_result"
    }
   ],
   "source": [
    "dir_name = \"data/papers/root_raw_clean_without_stem/\"\n",
    "files = [f\"{dir_name}{f.name}\" for f in os.scandir(\n",
    "    dir_name) if f.name.endswith(\".pdf\")]\n",
    "files"
   ]
  },
  {
   "cell_type": "code",
   "execution_count": 43,
   "metadata": {},
   "outputs": [
    {
     "data": {
      "text/plain": [
       "'data/papers/new/32448280ef3d03af2fb639bbe1b3709c4bb6c78a.txt'"
      ]
     },
     "execution_count": 43,
     "metadata": {},
     "output_type": "execute_result"
    }
   ],
   "source": [
    "dir_name + files[0].split(\".\")[0].split(\"/\")[-1] + \".txt\"\n"
   ]
  },
  {
   "cell_type": "code",
   "execution_count": 16,
   "metadata": {},
   "outputs": [],
   "source": [
    "for file in files:\n",
    "\tclean_text = pdfToTextWithPyMuPdf(file)\n",
    "\tout_file = dir_name + file.split(\".\")[0].split(\"/\")[-1] + \".txt\"\n",
    "\twith open(out_file, \"w\") as f:\n",
    "\t\tf.write(clean_text)\n",
    "\t# break"
   ]
  },
  {
   "cell_type": "markdown",
   "metadata": {},
   "source": [
    "## TeKET"
   ]
  },
  {
   "cell_type": "code",
   "execution_count": 164,
   "metadata": {},
   "outputs": [],
   "source": [
    "from algorithms import getWeightedKeyPhrasesUsingTeKET,getWeightedKeyPhrasesUsingTopicRank\n",
    "from pprint import pprint"
   ]
  },
  {
   "cell_type": "code",
   "execution_count": 166,
   "metadata": {},
   "outputs": [
    {
     "data": {
      "text/plain": [
       "[('keyphras extract ', 20640),\n",
       " ('keyphras ', 11236),\n",
       " ('word ', 7744),\n",
       " ('document ', 6084),\n",
       " ('positionrank ', 5184),\n",
       " ('model ', 4900),\n",
       " ('unsupervis keyphras extract ', 4628),\n",
       " ('research paper ', 3784),\n",
       " ('candid word ', 3306),\n",
       " ('extract ', 2916),\n",
       " ('dataset ', 2916),\n",
       " ('author-input keyphras ', 2832),\n",
       " ('unsupervis keyphras ', 2728),\n",
       " ('paper ', 2704),\n",
       " ('posit ', 2704)]"
      ]
     },
     "execution_count": 166,
     "metadata": {},
     "output_type": "execute_result"
    }
   ],
   "source": [
    "kp = getWeightedKeyPhrasesUsingTeKET(\n",
    "    \"data/papers/text_demo/b0d555a9ea67285fccd2ef8d887907bcc811f67a-pymupdf-raw.txt\")\n",
    "kp\n"
   ]
  },
  {
   "cell_type": "code",
   "execution_count": null,
   "metadata": {},
   "outputs": [
    {
     "data": {
      "text/plain": [
       "[('keyphras extract ', 18392),\n",
       " ('keyphras ', 10000),\n",
       " ('word ', 7744),\n",
       " ('document ', 6084),\n",
       " ('positionrank ', 4900),\n",
       " ('unsupervis keyphras extract ', 4420),\n",
       " ('model ', 3600),\n",
       " ('candid word ', 3306),\n",
       " ('research paper ', 3200),\n",
       " ('extract ', 2704),\n",
       " ('dataset ', 2704),\n",
       " ('author-input keyphras ', 2688),\n",
       " ('unsupervis keyphras ', 2596),\n",
       " ('target document ', 2352),\n",
       " ('paper ', 2304)]"
      ]
     },
     "metadata": {},
     "output_type": "display_data"
    }
   ],
   "source": [
    "kp = getWeightedKeyPhrasesUsingTeKET(\n",
    "    \"data/papers/text_demo/b0d555a9ea67285fccd2ef8d887907bcc811f67a-pypdf2-textract-raw.txt\")\n",
    "kp\n"
   ]
  },
  {
   "cell_type": "code",
   "execution_count": 156,
   "metadata": {},
   "outputs": [
    {
     "data": {
      "text/plain": [
       "[('word ', 7396),\n",
       " ('keyphra ', 6400),\n",
       " ('keyphra extract ', 4956),\n",
       " ('document ', 4900),\n",
       " ('candid word ', 3136),\n",
       " ('unsupervi keyphra extract ', 2904),\n",
       " ('posit ', 2500),\n",
       " ('proceed ', 2304),\n",
       " ('research paper ', 2160),\n",
       " ('page ', 2116),\n",
       " ('dataset ', 1936),\n",
       " ('perform baselin ', 1872),\n",
       " ('model ', 1764),\n",
       " ('paper ', 1764),\n",
       " ('target document ', 1720)]"
      ]
     },
     "execution_count": 156,
     "metadata": {},
     "output_type": "execute_result"
    }
   ],
   "source": [
    "kp = getWeightedKeyPhrasesUsingTeKET(\n",
    "    \"data/papers/text_demo/b0d555a9ea67285fccd2ef8d887907bcc811f67a-pymupdf-clean.txt\")\n",
    "kp\n"
   ]
  },
  {
   "cell_type": "code",
   "execution_count": 142,
   "metadata": {},
   "outputs": [
    {
     "data": {
      "text/html": [
       "<div>\n",
       "<style scoped>\n",
       "    .dataframe tbody tr th:only-of-type {\n",
       "        vertical-align: middle;\n",
       "    }\n",
       "\n",
       "    .dataframe tbody tr th {\n",
       "        vertical-align: top;\n",
       "    }\n",
       "\n",
       "    .dataframe thead th {\n",
       "        text-align: right;\n",
       "    }\n",
       "</style>\n",
       "<table border=\"1\" class=\"dataframe\">\n",
       "  <thead>\n",
       "    <tr style=\"text-align: right;\">\n",
       "      <th></th>\n",
       "      <th>paper_id</th>\n",
       "      <th>key_phrases</th>\n",
       "      <th>weight</th>\n",
       "    </tr>\n",
       "  </thead>\n",
       "  <tbody>\n",
       "    <tr>\n",
       "      <th>0</th>\n",
       "      <td>b0d555a9ea67285fccd2ef8d887907bcc811f67a</td>\n",
       "      <td>word</td>\n",
       "      <td>7396</td>\n",
       "    </tr>\n",
       "    <tr>\n",
       "      <th>1</th>\n",
       "      <td>b0d555a9ea67285fccd2ef8d887907bcc811f67a</td>\n",
       "      <td>keyphra</td>\n",
       "      <td>6400</td>\n",
       "    </tr>\n",
       "    <tr>\n",
       "      <th>2</th>\n",
       "      <td>b0d555a9ea67285fccd2ef8d887907bcc811f67a</td>\n",
       "      <td>keyphra extract</td>\n",
       "      <td>4956</td>\n",
       "    </tr>\n",
       "    <tr>\n",
       "      <th>3</th>\n",
       "      <td>b0d555a9ea67285fccd2ef8d887907bcc811f67a</td>\n",
       "      <td>document</td>\n",
       "      <td>4900</td>\n",
       "    </tr>\n",
       "    <tr>\n",
       "      <th>4</th>\n",
       "      <td>b0d555a9ea67285fccd2ef8d887907bcc811f67a</td>\n",
       "      <td>candid word</td>\n",
       "      <td>3136</td>\n",
       "    </tr>\n",
       "    <tr>\n",
       "      <th>5</th>\n",
       "      <td>b0d555a9ea67285fccd2ef8d887907bcc811f67a</td>\n",
       "      <td>unsupervi keyphra extract</td>\n",
       "      <td>2904</td>\n",
       "    </tr>\n",
       "    <tr>\n",
       "      <th>6</th>\n",
       "      <td>b0d555a9ea67285fccd2ef8d887907bcc811f67a</td>\n",
       "      <td>posit</td>\n",
       "      <td>2500</td>\n",
       "    </tr>\n",
       "    <tr>\n",
       "      <th>7</th>\n",
       "      <td>b0d555a9ea67285fccd2ef8d887907bcc811f67a</td>\n",
       "      <td>proceed</td>\n",
       "      <td>2304</td>\n",
       "    </tr>\n",
       "    <tr>\n",
       "      <th>8</th>\n",
       "      <td>b0d555a9ea67285fccd2ef8d887907bcc811f67a</td>\n",
       "      <td>research paper</td>\n",
       "      <td>2160</td>\n",
       "    </tr>\n",
       "    <tr>\n",
       "      <th>9</th>\n",
       "      <td>b0d555a9ea67285fccd2ef8d887907bcc811f67a</td>\n",
       "      <td>page</td>\n",
       "      <td>2116</td>\n",
       "    </tr>\n",
       "    <tr>\n",
       "      <th>10</th>\n",
       "      <td>b0d555a9ea67285fccd2ef8d887907bcc811f67a</td>\n",
       "      <td>dataset</td>\n",
       "      <td>1936</td>\n",
       "    </tr>\n",
       "    <tr>\n",
       "      <th>11</th>\n",
       "      <td>b0d555a9ea67285fccd2ef8d887907bcc811f67a</td>\n",
       "      <td>perform baselin</td>\n",
       "      <td>1872</td>\n",
       "    </tr>\n",
       "  </tbody>\n",
       "</table>\n",
       "</div>"
      ],
      "text/plain": [
       "                                    paper_id                key_phrases  \\\n",
       "0   b0d555a9ea67285fccd2ef8d887907bcc811f67a                       word   \n",
       "1   b0d555a9ea67285fccd2ef8d887907bcc811f67a                    keyphra   \n",
       "2   b0d555a9ea67285fccd2ef8d887907bcc811f67a            keyphra extract   \n",
       "3   b0d555a9ea67285fccd2ef8d887907bcc811f67a                   document   \n",
       "4   b0d555a9ea67285fccd2ef8d887907bcc811f67a                candid word   \n",
       "5   b0d555a9ea67285fccd2ef8d887907bcc811f67a  unsupervi keyphra extract   \n",
       "6   b0d555a9ea67285fccd2ef8d887907bcc811f67a                      posit   \n",
       "7   b0d555a9ea67285fccd2ef8d887907bcc811f67a                    proceed   \n",
       "8   b0d555a9ea67285fccd2ef8d887907bcc811f67a             research paper   \n",
       "9   b0d555a9ea67285fccd2ef8d887907bcc811f67a                       page   \n",
       "10  b0d555a9ea67285fccd2ef8d887907bcc811f67a                    dataset   \n",
       "11  b0d555a9ea67285fccd2ef8d887907bcc811f67a            perform baselin   \n",
       "\n",
       "    weight  \n",
       "0     7396  \n",
       "1     6400  \n",
       "2     4956  \n",
       "3     4900  \n",
       "4     3136  \n",
       "5     2904  \n",
       "6     2500  \n",
       "7     2304  \n",
       "8     2160  \n",
       "9     2116  \n",
       "10    1936  \n",
       "11    1872  "
      ]
     },
     "execution_count": 142,
     "metadata": {},
     "output_type": "execute_result"
    }
   ],
   "source": [
    "# strip keyphrases\n",
    "def strip_key_phrases(row):\n",
    "    if row['key_phrases'] is not None:\n",
    "        return row['key_phrases'].strip()\n",
    "\n",
    "\n",
    "df = pd.DataFrame(\n",
    "    kp, columns=['key_phrases', 'weight'])\n",
    "\n",
    "df['key_phrases'] = df.apply(strip_key_phrases, axis=1)\n",
    "# add paper_id column\n",
    "df.insert(0, 'paper_id', 'b0d555a9ea67285fccd2ef8d887907bcc811f67a')\n",
    "df"
   ]
  },
  {
   "cell_type": "code",
   "execution_count": 143,
   "metadata": {},
   "outputs": [],
   "source": [
    "# df.to_csv(\"data/info/key_phrases_extracted.csv\", index=False)\n"
   ]
  },
  {
   "cell_type": "code",
   "execution_count": 27,
   "metadata": {},
   "outputs": [
    {
     "data": {
      "text/plain": [
       "(6818,\n",
       " ['1887d7626acf9e277e5ef7657b796d637f11fcf9',\n",
       "  '26324601f7c25430adbbeec931b28cf11b2dbe81'])"
      ]
     },
     "execution_count": 27,
     "metadata": {},
     "output_type": "execute_result"
    }
   ],
   "source": [
    "kp = pd.read_csv(\"data/info/key_phrases_extracted.csv\")\n",
    "already_extracted = kp.paper_id.unique().tolist()\n",
    "len(already_extracted),already_extracted[:2]\n"
   ]
  },
  {
   "cell_type": "code",
   "execution_count": 28,
   "metadata": {},
   "outputs": [
    {
     "data": {
      "text/html": [
       "<div>\n",
       "<style scoped>\n",
       "    .dataframe tbody tr th:only-of-type {\n",
       "        vertical-align: middle;\n",
       "    }\n",
       "\n",
       "    .dataframe tbody tr th {\n",
       "        vertical-align: top;\n",
       "    }\n",
       "\n",
       "    .dataframe thead th {\n",
       "        text-align: right;\n",
       "    }\n",
       "</style>\n",
       "<table border=\"1\" class=\"dataframe\">\n",
       "  <thead>\n",
       "    <tr style=\"text-align: right;\">\n",
       "      <th></th>\n",
       "      <th>paper_id</th>\n",
       "      <th>key_phrases</th>\n",
       "      <th>weight</th>\n",
       "    </tr>\n",
       "  </thead>\n",
       "  <tbody>\n",
       "    <tr>\n",
       "      <th>2375</th>\n",
       "      <td>63e98fe23a54aff6d2d9f5eeb24f54b4fd75d4de</td>\n",
       "      <td>step</td>\n",
       "      <td>808201</td>\n",
       "    </tr>\n",
       "    <tr>\n",
       "      <th>2376</th>\n",
       "      <td>63e98fe23a54aff6d2d9f5eeb24f54b4fd75d4de</td>\n",
       "      <td>procedur</td>\n",
       "      <td>262144</td>\n",
       "    </tr>\n",
       "    <tr>\n",
       "      <th>2377</th>\n",
       "      <td>63e98fe23a54aff6d2d9f5eeb24f54b4fd75d4de</td>\n",
       "      <td>thi procedur</td>\n",
       "      <td>225368</td>\n",
       "    </tr>\n",
       "    <tr>\n",
       "      <th>2378</th>\n",
       "      <td>63e98fe23a54aff6d2d9f5eeb24f54b4fd75d4de</td>\n",
       "      <td>valu</td>\n",
       "      <td>183184</td>\n",
       "    </tr>\n",
       "    <tr>\n",
       "      <th>2379</th>\n",
       "      <td>63e98fe23a54aff6d2d9f5eeb24f54b4fd75d4de</td>\n",
       "      <td>comment thi procedur</td>\n",
       "      <td>182736</td>\n",
       "    </tr>\n",
       "    <tr>\n",
       "      <th>2380</th>\n",
       "      <td>63e98fe23a54aff6d2d9f5eeb24f54b4fd75d4de</td>\n",
       "      <td>algorithm</td>\n",
       "      <td>133956</td>\n",
       "    </tr>\n",
       "    <tr>\n",
       "      <th>2381</th>\n",
       "      <td>63e98fe23a54aff6d2d9f5eeb24f54b4fd75d4de</td>\n",
       "      <td>end</td>\n",
       "      <td>85749</td>\n",
       "    </tr>\n",
       "    <tr>\n",
       "      <th>2382</th>\n",
       "      <td>63e98fe23a54aff6d2d9f5eeb24f54b4fd75d4de</td>\n",
       "      <td>comment thi</td>\n",
       "      <td>85560</td>\n",
       "    </tr>\n",
       "    <tr>\n",
       "      <th>2383</th>\n",
       "      <td>63e98fe23a54aff6d2d9f5eeb24f54b4fd75d4de</td>\n",
       "      <td>statement</td>\n",
       "      <td>79524</td>\n",
       "    </tr>\n",
       "    <tr>\n",
       "      <th>2384</th>\n",
       "      <td>63e98fe23a54aff6d2d9f5eeb24f54b4fd75d4de</td>\n",
       "      <td>thi</td>\n",
       "      <td>76176</td>\n",
       "    </tr>\n",
       "    <tr>\n",
       "      <th>2385</th>\n",
       "      <td>63e98fe23a54aff6d2d9f5eeb24f54b4fd75d4de</td>\n",
       "      <td>number</td>\n",
       "      <td>71824</td>\n",
       "    </tr>\n",
       "    <tr>\n",
       "      <th>2386</th>\n",
       "      <td>63e98fe23a54aff6d2d9f5eeb24f54b4fd75d4de</td>\n",
       "      <td>use</td>\n",
       "      <td>59536</td>\n",
       "    </tr>\n",
       "    <tr>\n",
       "      <th>2387</th>\n",
       "      <td>63e98fe23a54aff6d2d9f5eeb24f54b4fd75d4de</td>\n",
       "      <td>program</td>\n",
       "      <td>35344</td>\n",
       "    </tr>\n",
       "    <tr>\n",
       "      <th>2388</th>\n",
       "      <td>63e98fe23a54aff6d2d9f5eeb24f54b4fd75d4de</td>\n",
       "      <td>comment</td>\n",
       "      <td>33856</td>\n",
       "    </tr>\n",
       "    <tr>\n",
       "      <th>2389</th>\n",
       "      <td>63e98fe23a54aff6d2d9f5eeb24f54b4fd75d4de</td>\n",
       "      <td>result</td>\n",
       "      <td>29584</td>\n",
       "    </tr>\n",
       "  </tbody>\n",
       "</table>\n",
       "</div>"
      ],
      "text/plain": [
       "                                      paper_id           key_phrases  weight\n",
       "2375  63e98fe23a54aff6d2d9f5eeb24f54b4fd75d4de                  step  808201\n",
       "2376  63e98fe23a54aff6d2d9f5eeb24f54b4fd75d4de              procedur  262144\n",
       "2377  63e98fe23a54aff6d2d9f5eeb24f54b4fd75d4de          thi procedur  225368\n",
       "2378  63e98fe23a54aff6d2d9f5eeb24f54b4fd75d4de                  valu  183184\n",
       "2379  63e98fe23a54aff6d2d9f5eeb24f54b4fd75d4de  comment thi procedur  182736\n",
       "2380  63e98fe23a54aff6d2d9f5eeb24f54b4fd75d4de             algorithm  133956\n",
       "2381  63e98fe23a54aff6d2d9f5eeb24f54b4fd75d4de                   end   85749\n",
       "2382  63e98fe23a54aff6d2d9f5eeb24f54b4fd75d4de           comment thi   85560\n",
       "2383  63e98fe23a54aff6d2d9f5eeb24f54b4fd75d4de             statement   79524\n",
       "2384  63e98fe23a54aff6d2d9f5eeb24f54b4fd75d4de                   thi   76176\n",
       "2385  63e98fe23a54aff6d2d9f5eeb24f54b4fd75d4de                number   71824\n",
       "2386  63e98fe23a54aff6d2d9f5eeb24f54b4fd75d4de                   use   59536\n",
       "2387  63e98fe23a54aff6d2d9f5eeb24f54b4fd75d4de               program   35344\n",
       "2388  63e98fe23a54aff6d2d9f5eeb24f54b4fd75d4de               comment   33856\n",
       "2389  63e98fe23a54aff6d2d9f5eeb24f54b4fd75d4de                result   29584"
      ]
     },
     "execution_count": 28,
     "metadata": {},
     "output_type": "execute_result"
    }
   ],
   "source": [
    "kp[kp['paper_id']=='63e98fe23a54aff6d2d9f5eeb24f54b4fd75d4de']"
   ]
  },
  {
   "cell_type": "code",
   "execution_count": 10,
   "metadata": {},
   "outputs": [
    {
     "data": {
      "text/html": [
       "<div>\n",
       "<style scoped>\n",
       "    .dataframe tbody tr th:only-of-type {\n",
       "        vertical-align: middle;\n",
       "    }\n",
       "\n",
       "    .dataframe tbody tr th {\n",
       "        vertical-align: top;\n",
       "    }\n",
       "\n",
       "    .dataframe thead th {\n",
       "        text-align: right;\n",
       "    }\n",
       "</style>\n",
       "<table border=\"1\" class=\"dataframe\">\n",
       "  <thead>\n",
       "    <tr style=\"text-align: right;\">\n",
       "      <th></th>\n",
       "      <th>paper_id</th>\n",
       "    </tr>\n",
       "  </thead>\n",
       "  <tbody>\n",
       "    <tr>\n",
       "      <th>0</th>\n",
       "      <td>1887d7626acf9e277e5ef7657b796d637f11fcf9</td>\n",
       "    </tr>\n",
       "    <tr>\n",
       "      <th>1</th>\n",
       "      <td>26324601f7c25430adbbeec931b28cf11b2dbe81</td>\n",
       "    </tr>\n",
       "    <tr>\n",
       "      <th>2</th>\n",
       "      <td>04ce064505b1635583fa0d9cc07cac7e9ea993cc</td>\n",
       "    </tr>\n",
       "    <tr>\n",
       "      <th>3</th>\n",
       "      <td>03589e1917debe6df148cac8963fd008e4140237</td>\n",
       "    </tr>\n",
       "    <tr>\n",
       "      <th>4</th>\n",
       "      <td>1cf65a8c9e9ac8bd1db487004185ad0e15b9b9dd</td>\n",
       "    </tr>\n",
       "    <tr>\n",
       "      <th>...</th>\n",
       "      <td>...</td>\n",
       "    </tr>\n",
       "    <tr>\n",
       "      <th>6813</th>\n",
       "      <td>af79ed294b890ccae361c8c1ee4ddc157a7deca8</td>\n",
       "    </tr>\n",
       "    <tr>\n",
       "      <th>6814</th>\n",
       "      <td>9e7c7853a16a378cc24a082153b282257a9675b7</td>\n",
       "    </tr>\n",
       "    <tr>\n",
       "      <th>6815</th>\n",
       "      <td>aa11849871fe719f02c75051c2ff0f9bd3134de1</td>\n",
       "    </tr>\n",
       "    <tr>\n",
       "      <th>6816</th>\n",
       "      <td>01e8eb7da1fb0dfe7dd8bf96c3c1c1111558ae1b</td>\n",
       "    </tr>\n",
       "    <tr>\n",
       "      <th>6817</th>\n",
       "      <td>ba462853c9e54c0f6f76387a4c1a04bf486ae198</td>\n",
       "    </tr>\n",
       "  </tbody>\n",
       "</table>\n",
       "<p>6818 rows × 1 columns</p>\n",
       "</div>"
      ],
      "text/plain": [
       "                                      paper_id\n",
       "0     1887d7626acf9e277e5ef7657b796d637f11fcf9\n",
       "1     26324601f7c25430adbbeec931b28cf11b2dbe81\n",
       "2     04ce064505b1635583fa0d9cc07cac7e9ea993cc\n",
       "3     03589e1917debe6df148cac8963fd008e4140237\n",
       "4     1cf65a8c9e9ac8bd1db487004185ad0e15b9b9dd\n",
       "...                                        ...\n",
       "6813  af79ed294b890ccae361c8c1ee4ddc157a7deca8\n",
       "6814  9e7c7853a16a378cc24a082153b282257a9675b7\n",
       "6815  aa11849871fe719f02c75051c2ff0f9bd3134de1\n",
       "6816  01e8eb7da1fb0dfe7dd8bf96c3c1c1111558ae1b\n",
       "6817  ba462853c9e54c0f6f76387a4c1a04bf486ae198\n",
       "\n",
       "[6818 rows x 1 columns]"
      ]
     },
     "execution_count": 10,
     "metadata": {},
     "output_type": "execute_result"
    }
   ],
   "source": [
    "kp_info = pd.DataFrame(kp.paper_id.unique().tolist(), columns=['paper_id'])\n",
    "kp_info\n"
   ]
  },
  {
   "cell_type": "code",
   "execution_count": 15,
   "metadata": {},
   "outputs": [
    {
     "data": {
      "text/html": [
       "<div>\n",
       "<style scoped>\n",
       "    .dataframe tbody tr th:only-of-type {\n",
       "        vertical-align: middle;\n",
       "    }\n",
       "\n",
       "    .dataframe tbody tr th {\n",
       "        vertical-align: top;\n",
       "    }\n",
       "\n",
       "    .dataframe thead th {\n",
       "        text-align: right;\n",
       "    }\n",
       "</style>\n",
       "<table border=\"1\" class=\"dataframe\">\n",
       "  <thead>\n",
       "    <tr style=\"text-align: right;\">\n",
       "      <th></th>\n",
       "      <th>paper_id</th>\n",
       "      <th>TeKET</th>\n",
       "      <th>TextRank</th>\n",
       "      <th>SingleRank</th>\n",
       "      <th>TopicRank</th>\n",
       "      <th>TopicalPageRank</th>\n",
       "      <th>PositionRank</th>\n",
       "      <th>MultipartiteRank</th>\n",
       "      <th>FirstPhrases</th>\n",
       "      <th>TfIdf</th>\n",
       "      <th>KPMiner</th>\n",
       "      <th>YAKE</th>\n",
       "    </tr>\n",
       "  </thead>\n",
       "  <tbody>\n",
       "    <tr>\n",
       "      <th>0</th>\n",
       "      <td>1887d7626acf9e277e5ef7657b796d637f11fcf9</td>\n",
       "      <td>0</td>\n",
       "      <td>0</td>\n",
       "      <td>0</td>\n",
       "      <td>0</td>\n",
       "      <td>0</td>\n",
       "      <td>0</td>\n",
       "      <td>0</td>\n",
       "      <td>0</td>\n",
       "      <td>0</td>\n",
       "      <td>0</td>\n",
       "      <td>0</td>\n",
       "    </tr>\n",
       "    <tr>\n",
       "      <th>1</th>\n",
       "      <td>26324601f7c25430adbbeec931b28cf11b2dbe81</td>\n",
       "      <td>0</td>\n",
       "      <td>0</td>\n",
       "      <td>0</td>\n",
       "      <td>0</td>\n",
       "      <td>0</td>\n",
       "      <td>0</td>\n",
       "      <td>0</td>\n",
       "      <td>0</td>\n",
       "      <td>0</td>\n",
       "      <td>0</td>\n",
       "      <td>0</td>\n",
       "    </tr>\n",
       "    <tr>\n",
       "      <th>2</th>\n",
       "      <td>04ce064505b1635583fa0d9cc07cac7e9ea993cc</td>\n",
       "      <td>0</td>\n",
       "      <td>0</td>\n",
       "      <td>0</td>\n",
       "      <td>0</td>\n",
       "      <td>0</td>\n",
       "      <td>0</td>\n",
       "      <td>0</td>\n",
       "      <td>0</td>\n",
       "      <td>0</td>\n",
       "      <td>0</td>\n",
       "      <td>0</td>\n",
       "    </tr>\n",
       "    <tr>\n",
       "      <th>3</th>\n",
       "      <td>03589e1917debe6df148cac8963fd008e4140237</td>\n",
       "      <td>0</td>\n",
       "      <td>0</td>\n",
       "      <td>0</td>\n",
       "      <td>0</td>\n",
       "      <td>0</td>\n",
       "      <td>0</td>\n",
       "      <td>0</td>\n",
       "      <td>0</td>\n",
       "      <td>0</td>\n",
       "      <td>0</td>\n",
       "      <td>0</td>\n",
       "    </tr>\n",
       "    <tr>\n",
       "      <th>4</th>\n",
       "      <td>1cf65a8c9e9ac8bd1db487004185ad0e15b9b9dd</td>\n",
       "      <td>0</td>\n",
       "      <td>0</td>\n",
       "      <td>0</td>\n",
       "      <td>0</td>\n",
       "      <td>0</td>\n",
       "      <td>0</td>\n",
       "      <td>0</td>\n",
       "      <td>0</td>\n",
       "      <td>0</td>\n",
       "      <td>0</td>\n",
       "      <td>0</td>\n",
       "    </tr>\n",
       "    <tr>\n",
       "      <th>...</th>\n",
       "      <td>...</td>\n",
       "      <td>...</td>\n",
       "      <td>...</td>\n",
       "      <td>...</td>\n",
       "      <td>...</td>\n",
       "      <td>...</td>\n",
       "      <td>...</td>\n",
       "      <td>...</td>\n",
       "      <td>...</td>\n",
       "      <td>...</td>\n",
       "      <td>...</td>\n",
       "      <td>...</td>\n",
       "    </tr>\n",
       "    <tr>\n",
       "      <th>6813</th>\n",
       "      <td>af79ed294b890ccae361c8c1ee4ddc157a7deca8</td>\n",
       "      <td>0</td>\n",
       "      <td>0</td>\n",
       "      <td>0</td>\n",
       "      <td>0</td>\n",
       "      <td>0</td>\n",
       "      <td>0</td>\n",
       "      <td>0</td>\n",
       "      <td>0</td>\n",
       "      <td>0</td>\n",
       "      <td>0</td>\n",
       "      <td>0</td>\n",
       "    </tr>\n",
       "    <tr>\n",
       "      <th>6814</th>\n",
       "      <td>9e7c7853a16a378cc24a082153b282257a9675b7</td>\n",
       "      <td>0</td>\n",
       "      <td>0</td>\n",
       "      <td>0</td>\n",
       "      <td>0</td>\n",
       "      <td>0</td>\n",
       "      <td>0</td>\n",
       "      <td>0</td>\n",
       "      <td>0</td>\n",
       "      <td>0</td>\n",
       "      <td>0</td>\n",
       "      <td>0</td>\n",
       "    </tr>\n",
       "    <tr>\n",
       "      <th>6815</th>\n",
       "      <td>aa11849871fe719f02c75051c2ff0f9bd3134de1</td>\n",
       "      <td>0</td>\n",
       "      <td>0</td>\n",
       "      <td>0</td>\n",
       "      <td>0</td>\n",
       "      <td>0</td>\n",
       "      <td>0</td>\n",
       "      <td>0</td>\n",
       "      <td>0</td>\n",
       "      <td>0</td>\n",
       "      <td>0</td>\n",
       "      <td>0</td>\n",
       "    </tr>\n",
       "    <tr>\n",
       "      <th>6816</th>\n",
       "      <td>01e8eb7da1fb0dfe7dd8bf96c3c1c1111558ae1b</td>\n",
       "      <td>0</td>\n",
       "      <td>0</td>\n",
       "      <td>0</td>\n",
       "      <td>0</td>\n",
       "      <td>0</td>\n",
       "      <td>0</td>\n",
       "      <td>0</td>\n",
       "      <td>0</td>\n",
       "      <td>0</td>\n",
       "      <td>0</td>\n",
       "      <td>0</td>\n",
       "    </tr>\n",
       "    <tr>\n",
       "      <th>6817</th>\n",
       "      <td>ba462853c9e54c0f6f76387a4c1a04bf486ae198</td>\n",
       "      <td>0</td>\n",
       "      <td>0</td>\n",
       "      <td>0</td>\n",
       "      <td>0</td>\n",
       "      <td>0</td>\n",
       "      <td>0</td>\n",
       "      <td>0</td>\n",
       "      <td>0</td>\n",
       "      <td>0</td>\n",
       "      <td>0</td>\n",
       "      <td>0</td>\n",
       "    </tr>\n",
       "  </tbody>\n",
       "</table>\n",
       "<p>6818 rows × 12 columns</p>\n",
       "</div>"
      ],
      "text/plain": [
       "                                      paper_id  TeKET  TextRank  SingleRank  \\\n",
       "0     1887d7626acf9e277e5ef7657b796d637f11fcf9      0         0           0   \n",
       "1     26324601f7c25430adbbeec931b28cf11b2dbe81      0         0           0   \n",
       "2     04ce064505b1635583fa0d9cc07cac7e9ea993cc      0         0           0   \n",
       "3     03589e1917debe6df148cac8963fd008e4140237      0         0           0   \n",
       "4     1cf65a8c9e9ac8bd1db487004185ad0e15b9b9dd      0         0           0   \n",
       "...                                        ...    ...       ...         ...   \n",
       "6813  af79ed294b890ccae361c8c1ee4ddc157a7deca8      0         0           0   \n",
       "6814  9e7c7853a16a378cc24a082153b282257a9675b7      0         0           0   \n",
       "6815  aa11849871fe719f02c75051c2ff0f9bd3134de1      0         0           0   \n",
       "6816  01e8eb7da1fb0dfe7dd8bf96c3c1c1111558ae1b      0         0           0   \n",
       "6817  ba462853c9e54c0f6f76387a4c1a04bf486ae198      0         0           0   \n",
       "\n",
       "      TopicRank  TopicalPageRank  PositionRank  MultipartiteRank  \\\n",
       "0             0                0             0                 0   \n",
       "1             0                0             0                 0   \n",
       "2             0                0             0                 0   \n",
       "3             0                0             0                 0   \n",
       "4             0                0             0                 0   \n",
       "...         ...              ...           ...               ...   \n",
       "6813          0                0             0                 0   \n",
       "6814          0                0             0                 0   \n",
       "6815          0                0             0                 0   \n",
       "6816          0                0             0                 0   \n",
       "6817          0                0             0                 0   \n",
       "\n",
       "      FirstPhrases  TfIdf  KPMiner  YAKE  \n",
       "0                0      0        0     0  \n",
       "1                0      0        0     0  \n",
       "2                0      0        0     0  \n",
       "3                0      0        0     0  \n",
       "4                0      0        0     0  \n",
       "...            ...    ...      ...   ...  \n",
       "6813             0      0        0     0  \n",
       "6814             0      0        0     0  \n",
       "6815             0      0        0     0  \n",
       "6816             0      0        0     0  \n",
       "6817             0      0        0     0  \n",
       "\n",
       "[6818 rows x 12 columns]"
      ]
     },
     "execution_count": 15,
     "metadata": {},
     "output_type": "execute_result"
    }
   ],
   "source": [
    "# TeKET,TextRank,SingleRank,TopicRank,TopicalPageRank,PositionRank,MultipartiteRank,FirstPhrases,TfIdf,KPMiner,YAKE\n",
    "kp_info['TeKET'] = 0\n",
    "kp_info['TextRank'] = 0\n",
    "kp_info['SingleRank'] = 0\n",
    "kp_info['TopicRank'] = 0\n",
    "kp_info['TopicalPageRank'] = 0\n",
    "kp_info['PositionRank'] = 0\n",
    "kp_info['MultipartiteRank'] = 0\n",
    "kp_info['FirstPhrases'] = 0\n",
    "kp_info['TfIdf'] = 0\n",
    "kp_info['KPMiner'] = 0\n",
    "kp_info['YAKE'] = 0\n",
    "kp_info"
   ]
  },
  {
   "cell_type": "code",
   "execution_count": null,
   "metadata": {},
   "outputs": [],
   "source": [
    "kp_info.to_csv(\"data/info/keyphrase_done_list.csv\", index=False)\n"
   ]
  },
  {
   "cell_type": "code",
   "execution_count": 11,
   "metadata": {},
   "outputs": [
    {
     "data": {
      "text/plain": [
       "7235"
      ]
     },
     "execution_count": 11,
     "metadata": {},
     "output_type": "execute_result"
    }
   ],
   "source": [
    "text_files_id_list = [f.name.split(\".\")[0] for f in os.scandir(\n",
    "    \"data/papers\") if f.name.endswith(\".txt\")]\n",
    "len(text_files_id_list)"
   ]
  },
  {
   "cell_type": "code",
   "execution_count": 13,
   "metadata": {},
   "outputs": [],
   "source": [
    "text_info = pd.DataFrame(text_files_id_list, columns=['paper_id'])\n",
    "text_info.to_csv(\"data/info/text_done_list_clean.csv\", index=False)"
   ]
  },
  {
   "cell_type": "code",
   "execution_count": 29,
   "metadata": {},
   "outputs": [
    {
     "data": {
      "text/plain": [
       "7273"
      ]
     },
     "execution_count": 29,
     "metadata": {},
     "output_type": "execute_result"
    }
   ],
   "source": [
    "text_files_id_list = [f.name.split(\".\")[0] for f in os.scandir(\n",
    "    \"data/papers/text_raw\") if f.name.endswith(\".txt\")]\n",
    "len(text_files_id_list)\n"
   ]
  },
  {
   "cell_type": "code",
   "execution_count": 36,
   "metadata": {},
   "outputs": [],
   "source": [
    "kp  = pd.read_csv(\"data/info/key_phrases_extracted.csv\")"
   ]
  },
  {
   "cell_type": "code",
   "execution_count": 35,
   "metadata": {},
   "outputs": [
    {
     "data": {
      "text/plain": [
       "set()"
      ]
     },
     "execution_count": 35,
     "metadata": {},
     "output_type": "execute_result"
    }
   ],
   "source": [
    "set(kp.paper_id.unique().tolist()) - set(text_files_id_list)\n"
   ]
  },
  {
   "cell_type": "code",
   "execution_count": null,
   "metadata": {},
   "outputs": [],
   "source": []
  },
  {
   "cell_type": "code",
   "execution_count": 10,
   "metadata": {},
   "outputs": [
    {
     "data": {
      "text/plain": [
       "(445,\n",
       " ['2f09d4e27bbf29d009f63fc34317cafedccb9d48',\n",
       "  '24c5941e64909877b8c6ea05f41aebb6698f290f',\n",
       "  '8012c4a1e2ca663f1a04e80cbb19631a00cbab27',\n",
       "  '54e025107a6b2e429357638b867d0452e1978779',\n",
       "  '22291dcd8b5255b6d0d51a86138ee5bf57b34550'])"
      ]
     },
     "execution_count": 10,
     "metadata": {},
     "output_type": "execute_result"
    }
   ],
   "source": [
    "error_list = pd.read_csv(\"data/info/key_phrases_extraction_error.csv\")\n",
    "error_list = error_list.id.unique().tolist()\n",
    "len(error_list),error_list[:5]"
   ]
  },
  {
   "cell_type": "code",
   "execution_count": 11,
   "metadata": {},
   "outputs": [
    {
     "data": {
      "text/plain": [
       "7262"
      ]
     },
     "execution_count": 11,
     "metadata": {},
     "output_type": "execute_result"
    }
   ],
   "source": [
    "len((set(error_list) | set(already_extracted))) # already extracted + error while extracting\n"
   ]
  },
  {
   "cell_type": "code",
   "execution_count": 12,
   "metadata": {},
   "outputs": [
    {
     "data": {
      "text/plain": [
       "(0, [])"
      ]
     },
     "execution_count": 12,
     "metadata": {},
     "output_type": "execute_result"
    }
   ],
   "source": [
    "processed = (set(error_list) | set(already_extracted)) # already extracted + error list = processed\n",
    "yet_to_be_extracted = list(set(text_files_id_list) - processed) # total_text - processed = yet to be extracted\n",
    "len(yet_to_be_extracted),yet_to_be_extracted[:2]\n"
   ]
  },
  {
   "cell_type": "code",
   "execution_count": 17,
   "metadata": {},
   "outputs": [
    {
     "data": {
      "text/plain": [
       "(24326, 42)"
      ]
     },
     "execution_count": 17,
     "metadata": {},
     "output_type": "execute_result"
    }
   ],
   "source": [
    "inf = pd.read_csv(\"data/info/info_full_ss_new_x.csv\")\n",
    "# inf.head(2)\n",
    "inf = inf[(inf.level_no != 4) ]#& (inf.level_no != 0)\n",
    "inf.shape\n"
   ]
  },
  {
   "cell_type": "code",
   "execution_count": 40,
   "metadata": {},
   "outputs": [
    {
     "data": {
      "image/png": "[encoded data removed]",
      "text/plain": [
       "<Figure size 864x864 with 1 Axes>"
      ]
     },
     "metadata": {},
     "output_type": "display_data"
    }
   ],
   "source": [
    "import pandas as pd\n",
    "import matplotlib.pyplot as plt\n",
    "from wordcloud import WordCloud\n",
    "w = WordCloud(width=800, height=400, \n",
    "              background_color='white', colormap='Dark2').generate_from_frequencies(freq)\n",
    "plt.figure(figsize=(12, 12), facecolor='k', edgecolor='k')\n",
    "plt.imshow(w)\n",
    "plt.axis(\"off\")\n",
    "plt.tight_layout(pad=0)\n",
    "\n",
    "plt.show()\n"
   ]
  },
  {
   "cell_type": "markdown",
   "metadata": {},
   "source": [
    "## Main Algorithm"
   ]
  },
  {
   "cell_type": "markdown",
   "metadata": {},
   "source": [
    "### init"
   ]
  },
  {
   "cell_type": "code",
   "execution_count": 41,
   "metadata": {},
   "outputs": [
    {
     "data": {
      "text/plain": [
       "(24387, 42)"
      ]
     },
     "execution_count": 41,
     "metadata": {},
     "output_type": "execute_result"
    }
   ],
   "source": [
    "from algorithms import getWeightedKeyPhrasesUsingTeKET, KeyPhrasesManager, get_cosine_similarity, get_jaccard_similarity\n",
    "from graph.graph_info import GraphManager, InfoManager\n",
    "from statistics import mean\n",
    "g_serialized = read_from_pickle('data/info/graph_serialized.dat')\n",
    "g: GraphManager = GraphManager()\n",
    "g = g_serialized\n",
    "g.inf.shape\n"
   ]
  },
  {
   "cell_type": "markdown",
   "metadata": {},
   "source": [
    "### similarity [random]"
   ]
  },
  {
   "cell_type": "code",
   "execution_count": 43,
   "metadata": {},
   "outputs": [
    {
     "data": {
      "text/plain": [
       "[('word', 7396),\n",
       " ('keyphra', 6400),\n",
       " ('keyphra extract', 4956),\n",
       " ('document', 4900),\n",
       " ('candid word', 3136),\n",
       " ('unsupervi keyphra extract', 2904),\n",
       " ('posit', 2500),\n",
       " ('proceed', 2304),\n",
       " ('research paper', 2160),\n",
       " ('page', 2116),\n",
       " ('dataset', 1936),\n",
       " ('perform baselin', 1872),\n",
       " ('model', 1764),\n",
       " ('paper', 1764),\n",
       " ('target document', 1720)]"
      ]
     },
     "execution_count": 43,
     "metadata": {},
     "output_type": "execute_result"
    }
   ],
   "source": [
    "km = KeyPhrasesManager(\"data/info/key_phrases_extracted.csv\")\n",
    "root_paper_key_phrases = km.getKeyPhrasesList(\n",
    "    \"b0d555a9ea67285fccd2ef8d887907bcc811f67a\")\n",
    "root_paper_key_phrases\n"
   ]
  },
  {
   "cell_type": "code",
   "execution_count": 65,
   "metadata": {},
   "outputs": [
    {
     "data": {
      "text/plain": [
       "(114, 42)"
      ]
     },
     "execution_count": 65,
     "metadata": {},
     "output_type": "execute_result"
    }
   ],
   "source": [
    "inf[inf['paper_id']=='26324601f7c25430adbbeec931b28cf11b2dbe81'].shape"
   ]
  },
  {
   "cell_type": "code",
   "execution_count": 66,
   "metadata": {},
   "outputs": [
    {
     "data": {
      "text/plain": [
       "[('keyphra', 38416),\n",
       " ('document', 13456),\n",
       " ('judg', 9604),\n",
       " ('individu keyphra', 9592),\n",
       " ('noun phrase', 7992),\n",
       " ('phrase', 4624),\n",
       " ('good keyphra', 4240),\n",
       " ('human judg', 3136),\n",
       " ('number', 2304),\n",
       " ('candid phrase', 1920),\n",
       " ('noun', 1600),\n",
       " ('extractor', 1296),\n",
       " ('set', 1024),\n",
       " ('score', 900),\n",
       " ('rate', 784)]"
      ]
     },
     "execution_count": 66,
     "metadata": {},
     "output_type": "execute_result"
    }
   ],
   "source": [
    "p = km.getKeyPhrasesList('26324601f7c25430adbbeec931b28cf11b2dbe81')\n",
    "p"
   ]
  },
  {
   "cell_type": "code",
   "execution_count": 67,
   "metadata": {},
   "outputs": [
    {
     "data": {
      "text/plain": [
       "0.6133338398687364"
      ]
     },
     "execution_count": 67,
     "metadata": {},
     "output_type": "execute_result"
    }
   ],
   "source": [
    "p = km.getKeyPhrasesList('26324601f7c25430adbbeec931b28cf11b2dbe81')\n",
    "get_cosine_similarity(root_paper_key_phrases, p)\n"
   ]
  },
  {
   "cell_type": "code",
   "execution_count": 258,
   "metadata": {},
   "outputs": [
    {
     "name": "stdout",
     "output_type": "stream",
     "text": [
      "[0.6442125339507674, 0.2, 0.6442125339507674, 0.2, 0.512602335]\n",
      "0.44020548058030695\n",
      "[0.6781197599425767, 0.2, 0.8948786929888516, 0.2, 0.521797423]\n",
      "0.49895917518628563\n",
      "[0.406941430249269, 0.07142857142857142, 0.16038495233071093, 0.1111111111111111, 0.523483388]\n",
      "0.2546698906239325\n",
      "[0, 0.0, 0, 0.0, 0.473090939]\n",
      "0.0946181878\n"
     ]
    }
   ],
   "source": [
    "root_paper = g.levelOrderList[0][0]\n",
    "root_paper_id = root_paper['paper_id']\n",
    "root_paper_uuid = root_paper['uuid']\n",
    "root_paper_key_phrases = km.getKeyPhrasesList(root_paper_id)\n",
    "root_paper_info = g.im.get_info_keys_by_uuid(root_paper_uuid, ['title'])\n",
    "\n",
    "selected_papers = []\n",
    "\n",
    "for i, level_i in enumerate(g.levelOrderList):\n",
    "\tif i == 0:\n",
    "\t\tcontinue\n",
    "\tscore_list_level_i = []\n",
    "\tpaper_count_in_level_i = len(level_i)\n",
    "\tfor paper in level_i:\n",
    "\t\tpaper_id = paper['paper_id']\n",
    "\t\tpaper_uuid = paper['uuid']\n",
    "\t\tparent_paper_uuid = paper['parent_paper_uuid']\n",
    "\t\taverage_list = []\n",
    "\t\t\n",
    "\t\tif not km.isKeyPhraseExist(paper_id):\n",
    "\t\t\t# console.log(f\"[red]{paper_id} key phrases not exist[/]\")\n",
    "\t\t\tcontinue\n",
    "\t\tpaper_key_phrases = km.getKeyPhrasesList(paper_id)\n",
    "\t\t\n",
    "\t\tpaper_info = g.im.get_info_keys_by_uuid(\n",
    "\t\t\tpaper_uuid, ['title', 'freshness_avg'])\n",
    "\t\tparent_paper_id = g.im.get_info_keys_by_uuid(\n",
    "\t\t\tparent_paper_uuid, ['paper_id'])['paper_id']\n",
    "\t\t# cosine similarity between parent and child\n",
    "\t\tcosine_similarity_with_root = get_cosine_similarity(\n",
    "\t\t\troot_paper_key_phrases, paper_key_phrases)\n",
    "\t\taverage_list.append(cosine_similarity_with_root)\n",
    "\t\t# jaccard similarity between parent and child\n",
    "\n",
    "\t\tjaccard_similarity_with_root = get_jaccard_similarity(\n",
    "\t\t\troot_paper_key_phrases, paper_key_phrases)\n",
    "\t\taverage_list.append(jaccard_similarity_with_root)\n",
    "\t\t\n",
    "\t\tif km.isKeyPhraseExist(parent_paper_id):\n",
    "\t\t\tparent_paper_key_phrases = km.getKeyPhrasesList(parent_paper_id)\t\t\n",
    "\t\t\t# cosine similarity between immediate parent and child\n",
    "\t\t\tcosine_similarity_with_immediate_parent = get_cosine_similarity(\n",
    "\t\t\t\tparent_paper_key_phrases, paper_key_phrases)\n",
    "\t\t\taverage_list.append(cosine_similarity_with_immediate_parent)\n",
    "\t\t\t# jaccard similarity between immediate parent and child\n",
    "\t\t\tjaccard_similarity_with_immediate_parent = get_jaccard_similarity(\n",
    "\t\t\t\tparent_paper_key_phrases, paper_key_phrases)\n",
    "\t\t\taverage_list.append(jaccard_similarity_with_immediate_parent)\n",
    "\t\t\n",
    "\t\tfreshness = paper_info['freshness_avg']\n",
    "\t\taverage_list.append(freshness)\n",
    "\t\t\n",
    "\t\taverage = mean(average_list)\n",
    "\t\tprint(average_list)\n",
    "\t\tprint(average)\n",
    "\t\t# print(f\"{paper_info['title']} {average_similarity}\")\n",
    "\t\t# score_list_level_i.append(\n",
    "\t\t# \t{**paper, 'score': average_similarity, 'title': paper_info['title'], 'total_paper_count': paper_count_in_level_i})\n",
    "\t\tbreak\n",
    "\n",
    "\tscore_list_level_i = sorted(\n",
    "\t\tscore_list_level_i, key=lambda x: x['score'], reverse=True)\n",
    "\n",
    "\t# https://stackoverflow.com/questions/11092511/list-of-unique-dictionaries\n",
    "\tunique_papers_top_n = pd.DataFrame(score_list_level_i).drop_duplicates(subset=['paper_id']).to_dict(\n",
    "\t\t'records')\n",
    "\n",
    "\t# print(unique_papers_top_n[:2])\n",
    "\n",
    "\tselected_papers.append(unique_papers_top_n)\n",
    "# pprint(selected_papers)\n",
    "\n",
    "recommended_papers = [{**root_paper, \"title\": root_paper_info['title'], 'score': \"~\", 'total_paper_count':'1', \"processed\":\"1\"}]\n",
    "for i, level_i in enumerate(selected_papers):\n",
    "\t# for paper in level_i:\n",
    "\tscore_list_level_i = sorted(\n",
    "\t\tlevel_i, key=lambda x: x['score'], reverse=True)\n",
    "\tfor paper in score_list_level_i:\n",
    "\t\tfound = list(\n",
    "\t\t\tfilter(lambda x: x['paper_id'] == paper['paper_id'], recommended_papers))\n",
    "\t\t# get papers that are not in recommended papers in upper level\n",
    "\t\tif not found:\n",
    "\t\t\trecommended_papers.append({**paper, \"processed\": len(level_i)})\n",
    "\t\t\tbreak\n",
    "\t\n",
    "# recommended_papers\n"
   ]
  },
  {
   "cell_type": "code",
   "execution_count": 4,
   "metadata": {},
   "outputs": [
    {
     "data": {
      "text/plain": [
       "(24387, 31)"
      ]
     },
     "execution_count": 4,
     "metadata": {},
     "output_type": "execute_result"
    }
   ],
   "source": [
    "inf = pd.read_csv('data/info/info_full_ss_new_x.csv')\n",
    "inf.shape\n"
   ]
  },
  {
   "cell_type": "code",
   "execution_count": 256,
   "metadata": {},
   "outputs": [
    {
     "data": {
      "text/plain": [
       "[('word', 7396),\n",
       " ('keyphra', 6400),\n",
       " ('keyphra extract', 4956),\n",
       " ('document', 4900),\n",
       " ('candid word', 3136),\n",
       " ('unsupervi keyphra extract', 2904),\n",
       " ('posit', 2500),\n",
       " ('proceed', 2304),\n",
       " ('research paper', 2160),\n",
       " ('page', 2116),\n",
       " ('dataset', 1936),\n",
       " ('perform baselin', 1872),\n",
       " ('model', 1764),\n",
       " ('paper', 1764),\n",
       " ('target document', 1720)]"
      ]
     },
     "execution_count": 256,
     "metadata": {},
     "output_type": "execute_result"
    }
   ],
   "source": [
    "root_paper = g.levelOrderList[0][0]\n",
    "root_paper_id = root_paper['paper_id']\n",
    "root_paper_uuid = root_paper['uuid']\n",
    "root_paper_key_phrases = km.getKeyPhrasesList(root_paper_id)\n",
    "root_paper_key_phrases\n"
   ]
  },
  {
   "cell_type": "code",
   "execution_count": 245,
   "metadata": {},
   "outputs": [],
   "source": [
    "inf['similarity_with_root'] = np.nan\n",
    "inf['similarity_with_immediate_parent'] = np.nan\n"
   ]
  },
  {
   "cell_type": "code",
   "execution_count": 265,
   "metadata": {},
   "outputs": [
    {
     "data": {
      "text/plain": [
       "'2a9b20d3467b5f6b5fa7bb4d4dabc36341e0914b'"
      ]
     },
     "execution_count": 265,
     "metadata": {},
     "output_type": "execute_result"
    }
   ],
   "source": [
    "inf.iloc[10].paper_id"
   ]
  },
  {
   "cell_type": "code",
   "execution_count": 276,
   "metadata": {},
   "outputs": [
    {
     "data": {
      "text/plain": [
       "[('data mine practic machin learn tool', 104416),\n",
       " ('data mine practic machin learn', 77700),\n",
       " ('mine practic machin learn tool', 71300),\n",
       " ('practic machin learn tool', 69696),\n",
       " ('techniqu chapter', 55696),\n",
       " ('data mine practic machin', 54812),\n",
       " ('mine practic machin learn', 44896),\n",
       " ('practic machin learn', 39204),\n",
       " ('machin learn tool', 39204),\n",
       " ('data mine practic', 35752),\n",
       " ('mine practic machin', 24564),\n",
       " ('exampl data mine practic machin learn tool', 22464),\n",
       " ('data mine', 20520),\n",
       " ('practic machin', 17424),\n",
       " ('machin learn', 17424)]"
      ]
     },
     "execution_count": 276,
     "metadata": {},
     "output_type": "execute_result"
    }
   ],
   "source": [
    "paper_key_phrases = km.getKeyPhrasesList(\n",
    "    \"26ae952599aa9ba5815a80356024258247fc2b10\")\n",
    "paper_key_phrases\n"
   ]
  },
  {
   "cell_type": "code",
   "execution_count": 23,
   "metadata": {},
   "outputs": [
    {
     "ename": "NameError",
     "evalue": "name 'root_paper_key_phrases' is not defined",
     "output_type": "error",
     "traceback": [
      "\u001b[1;31m---------------------------------------------------------------------------\u001b[0m",
      "\u001b[1;31mNameError\u001b[0m                                 Traceback (most recent call last)",
      "\u001b[1;32md:\\CSE\\Programs\\Thesis\\graph.ipynb Cell 137\u001b[0m in \u001b[0;36m<cell line: 1>\u001b[1;34m()\u001b[0m\n\u001b[1;32m----> <a href='vscode-notebook-cell:/d%3A/CSE/Programs/Thesis/graph.ipynb#ch0000136?line=0'>1</a>\u001b[0m get_cosine_similarity(root_paper_key_phrases, paper_key_phrases)\n",
      "\u001b[1;31mNameError\u001b[0m: name 'root_paper_key_phrases' is not defined"
     ]
    }
   ],
   "source": [
    "get_cosine_similarity(root_paper_key_phrases, paper_key_phrases)"
   ]
  },
  {
   "cell_type": "code",
   "execution_count": 285,
   "metadata": {},
   "outputs": [],
   "source": [
    "\n",
    "for i, paper in inf.iterrows():\n",
    "\tif i == 0 :\n",
    "\t\tcontinue\n",
    "\tpaper_id = paper['paper_id']\n",
    "\tpaper_uuid = paper['uuid']\n",
    "\tparent_paper_uuid = paper['parent_paper_uuid']\n",
    "\tif not km.isKeyPhraseExist(paper_id):\n",
    "\t\tcontinue\n",
    "\tpaper_key_phrases = km.getKeyPhrasesList(paper_id)\n",
    "\tcosine_similarity_with_root = get_cosine_similarity(\n",
    "\t\troot_paper_key_phrases, paper_key_phrases)\n",
    "\t# jaccard_similarity_with_root = get_jaccard_similarity(\n",
    "    #         root_paper_key_phrases, paper_key_phrases)\n",
    "\t# save to info\n",
    "\t# score1 =  max(cosine_similarity_with_root,jaccard_similarity_with_root)\n",
    "\tinf.loc[inf['uuid'] == paper_uuid,\n",
    "         \"similarity_with_root\"] = cosine_similarity_with_root\n",
    "\t\n",
    "\tparent_paper_id = g.im.get_info_keys_by_uuid(\n",
    "            parent_paper_uuid, ['paper_id'])['paper_id']\n",
    "\tif km.isKeyPhraseExist(parent_paper_id):\n",
    "\t\tparent_paper_key_phrases = km.getKeyPhrasesList(parent_paper_id)\n",
    "\t\tcosine_similarity_with_immediate_parent = get_cosine_similarity(\n",
    "                    parent_paper_key_phrases, paper_key_phrases)\n",
    "\t\t# jaccard_similarity_with_immediate_parent = get_jaccard_similarity(\n",
    "        #             parent_paper_key_phrases, paper_key_phrases)\n",
    "\t\t# score2 = max(cosine_similarity_with_immediate_parent,\n",
    "\t\t#              jaccard_similarity_with_immediate_parent)\n",
    "\t\tinf.loc[inf['uuid'] == paper_uuid,\n",
    "                    \"similarity_with_immediate_parent\"] = cosine_similarity_with_immediate_parent\n"
   ]
  },
  {
   "cell_type": "markdown",
   "metadata": {},
   "source": [
    "### 🔰 Get Path "
   ]
  },
  {
   "cell_type": "code",
   "execution_count": 93,
   "metadata": {},
   "outputs": [],
   "source": [
    "root_uid = g.levelOrderList[0][0]['uuid']\n",
    "for i, paper in inf.iterrows():\n",
    "\tif i == 0:\n",
    "\t\tcontinue\n",
    "\tpaper_uid = paper['uuid']\n",
    "\t# print(paper_uuid)\n",
    "\tsequential_path = g.getPaths(root_uid, paper_uid, unique=True)\n",
    "\tsequential_path = \";\".join(sequential_path)\n",
    "\tinf.loc[inf['uuid'] == paper_uid, \"path_from_root\"] = sequential_path"
   ]
  },
  {
   "cell_type": "code",
   "execution_count": 100,
   "metadata": {},
   "outputs": [
    {
     "data": {
      "text/plain": [
       "['8bde6cb8-296d-4593-883f-b768103e1e69',\n",
       " 'a2385e05-574d-4d3e-950e-9123496183fe',\n",
       " '56a881dd-caf6-4ea8-8753-73ad162d14e4',\n",
       " '7e34f546-76f1-46a7-a0f3-d5b02e7d0e3c']"
      ]
     },
     "execution_count": 100,
     "metadata": {},
     "output_type": "execute_result"
    }
   ],
   "source": [
    "inf.iloc[10000].path_from_root.split(\";\")"
   ]
  },
  {
   "cell_type": "code",
   "execution_count": 41,
   "metadata": {},
   "outputs": [],
   "source": [
    "inf.to_csv('data/info/info_full_ss_new_x.csv', index=False)"
   ]
  },
  {
   "cell_type": "markdown",
   "metadata": {},
   "source": [
    "### 🔰 Get Similarity Scores from immediate parents to root Using Path"
   ]
  },
  {
   "cell_type": "code",
   "execution_count": 34,
   "metadata": {},
   "outputs": [],
   "source": [
    "dir_name = \"data/info/kp_raw_clean_without_stem/\"\n",
    "kp_teket_file_path = dir_name + \"key_phrases_extracted.csv\"\n",
    "kp_yake_file_path = dir_name + \"key_phrases_extracted_yake.csv\"\n",
    "kp_topicrank_file_path = dir_name + \"key_phrases_extracted_topicrank.csv\"\n",
    "kp_tfidf_file_path = dir_name + \"key_phrases_extracted_tfidf.csv\"\n",
    "kp_positionrank_file_path = dir_name + \"key_phrases_extracted_position_rank.csv\"\n",
    "# kp_multipartiterank_file_path = dir_name+\"key_phrases_extracted_multipartiterank.csv\"\n",
    "\n",
    "kp_done = pd.read_csv(dir_name + \"keyphrase_done_list.csv\")\n",
    "\n",
    "kp_teket = pd.read_csv(kp_teket_file_path)\n",
    "kp_yake = pd.read_csv(kp_yake_file_path)\n",
    "kp_topicrank = pd.read_csv(kp_topicrank_file_path)\n",
    "kp_tfidf = pd.read_csv(kp_tfidf_file_path)\n",
    "kp_positionrank = pd.read_csv(kp_positionrank_file_path)\n"
   ]
  },
  {
   "cell_type": "code",
   "execution_count": 68,
   "metadata": {},
   "outputs": [
    {
     "data": {
      "text/plain": [
       "6822"
      ]
     },
     "execution_count": 68,
     "metadata": {},
     "output_type": "execute_result"
    }
   ],
   "source": [
    "len(kp_teket['paper_id'].unique().tolist())\n"
   ]
  },
  {
   "cell_type": "code",
   "execution_count": 69,
   "metadata": {},
   "outputs": [
    {
     "data": {
      "text/plain": [
       "(6822, 6820, 6822, 6821)"
      ]
     },
     "execution_count": 69,
     "metadata": {},
     "output_type": "execute_result"
    }
   ],
   "source": [
    "len(kp_yake['paper_id'].unique().tolist()),len(kp_topicrank['paper_id'].unique().tolist()),len(kp_tfidf['paper_id'].unique().tolist()),len(kp_positionrank['paper_id'].unique().tolist())\n"
   ]
  },
  {
   "cell_type": "code",
   "execution_count": null,
   "metadata": {},
   "outputs": [],
   "source": []
  },
  {
   "cell_type": "code",
   "execution_count": 19,
   "metadata": {},
   "outputs": [
    {
     "data": {
      "text/plain": [
       "[('word', 12100),\n",
       " ('keyphras extract', 10212),\n",
       " ('keyphras', 9604),\n",
       " ('document', 6724),\n",
       " ('unsupervis keyphras extract', 5440),\n",
       " ('candid word', 4970),\n",
       " ('research paper', 4128),\n",
       " ('model', 3844),\n",
       " ('posit', 3364),\n",
       " ('unsupervis keyphras', 3240),\n",
       " ('page', 3136),\n",
       " ('paper', 2916),\n",
       " ('target document', 2856),\n",
       " ('inform retriev', 2700),\n",
       " ('extract', 2500)]"
      ]
     },
     "execution_count": 19,
     "metadata": {},
     "output_type": "execute_result"
    }
   ],
   "source": [
    "km = KeyPhrasesManager(kp_teket_file_path)\n",
    "root_paper_key_phrases = km.getKeyPhrasesList(\n",
    "    \"b0d555a9ea67285fccd2ef8d887907bcc811f67a\")\n",
    "root_paper_key_phrases\n"
   ]
  },
  {
   "cell_type": "code",
   "execution_count": 5,
   "metadata": {},
   "outputs": [
    {
     "data": {
      "text/plain": [
       "[('word', 7396),\n",
       " ('keyphra', 6400),\n",
       " ('keyphra extract', 4956),\n",
       " ('document', 4900),\n",
       " ('candid word', 3136),\n",
       " ('unsupervi keyphra extract', 2904),\n",
       " ('posit', 2500),\n",
       " ('proceed', 2304),\n",
       " ('research paper', 2160),\n",
       " ('page', 2116),\n",
       " ('dataset', 1936),\n",
       " ('perform baselin', 1872),\n",
       " ('model', 1764),\n",
       " ('paper', 1764),\n",
       " ('target document', 1720)]"
      ]
     },
     "execution_count": 5,
     "metadata": {},
     "output_type": "execute_result"
    }
   ],
   "source": [
    "km = KeyPhrasesManager(\"data/info/key_phrases_extracted.csv\")\n",
    "root_paper_key_phrases = km.getKeyPhrasesList(\n",
    "    \"b0d555a9ea67285fccd2ef8d887907bcc811f67a\")\n",
    "root_paper_key_phrases\n"
   ]
  },
  {
   "cell_type": "code",
   "execution_count": 105,
   "metadata": {},
   "outputs": [
    {
     "data": {
      "text/plain": [
       "[('keyphra', 38416),\n",
       " ('document', 13456),\n",
       " ('judg', 9604),\n",
       " ('individu keyphra', 9592),\n",
       " ('noun phrase', 7992),\n",
       " ('phrase', 4624),\n",
       " ('good keyphra', 4240),\n",
       " ('human judg', 3136),\n",
       " ('number', 2304),\n",
       " ('candid phrase', 1920),\n",
       " ('noun', 1600),\n",
       " ('extractor', 1296),\n",
       " ('set', 1024),\n",
       " ('score', 900),\n",
       " ('rate', 784)]"
      ]
     },
     "execution_count": 105,
     "metadata": {},
     "output_type": "execute_result"
    }
   ],
   "source": [
    "p = km.getKeyPhrasesList('26324601f7c25430adbbeec931b28cf11b2dbe81')\n",
    "p"
   ]
  },
  {
   "cell_type": "code",
   "execution_count": 116,
   "metadata": {},
   "outputs": [
    {
     "data": {
      "text/plain": [
       "0.6245980255360323"
      ]
     },
     "execution_count": 116,
     "metadata": {},
     "output_type": "execute_result"
    }
   ],
   "source": [
    "p = km.getKeyPhrasesList('26324601f7c25430adbbeec931b28cf11b2dbe81')\n",
    "get_cosine_similarity(root_paper_key_phrases, p)\n"
   ]
  },
  {
   "cell_type": "code",
   "execution_count": 117,
   "metadata": {},
   "outputs": [
    {
     "data": {
      "text/plain": [
       "0.8174537932889596"
      ]
     },
     "execution_count": 117,
     "metadata": {},
     "output_type": "execute_result"
    }
   ],
   "source": [
    "km = KeyPhrasesManager(\"data/info/key_phrases_extracted_tfidf.csv\")\n",
    "root_paper_key_phrases = km.getKeyPhrasesList(\n",
    "    \"b0d555a9ea67285fccd2ef8d887907bcc811f67a\")\n",
    "p = km.getKeyPhrasesList('26324601f7c25430adbbeec931b28cf11b2dbe81')\n",
    "get_cosine_similarity(root_paper_key_phrases, p)\n"
   ]
  },
  {
   "cell_type": "code",
   "execution_count": 119,
   "metadata": {},
   "outputs": [
    {
     "data": {
      "text/plain": [
       "0.8461671838663758"
      ]
     },
     "execution_count": 119,
     "metadata": {},
     "output_type": "execute_result"
    }
   ],
   "source": [
    "km = KeyPhrasesManager(\"data/info/key_phrases_extracted_topicrank.csv\")\n",
    "root_paper_key_phrases = km.getKeyPhrasesList(\n",
    "    \"b0d555a9ea67285fccd2ef8d887907bcc811f67a\")\n",
    "p = km.getKeyPhrasesList('26324601f7c25430adbbeec931b28cf11b2dbe81')\n",
    "get_cosine_similarity(root_paper_key_phrases, p,isNormalized=True)\n"
   ]
  },
  {
   "cell_type": "code",
   "execution_count": 60,
   "metadata": {},
   "outputs": [
    {
     "data": {
      "text/plain": [
       "Index(['paper_id', 'uuid', 'parent_paper_uuid', 'parent_paper_id', 'title',\n",
       "       'level_no', 'multiple_appearances_in_levels_count',\n",
       "       'multiple_appearances_in_levels', 'path_from_root', 'reference_count',\n",
       "       'citation_count', 'influential_citation_count', 'published_date',\n",
       "       'paper_type', 'venue', 'isOpenAccess', 'abstract', 'paper_link', 'doi',\n",
       "       'download_link', 'tldl', 'embedding', 'age',\n",
       "       'citation_count_min_max_norm', 'age_min_max_norm', 'influence_score',\n",
       "       'similarity_with_level_0_parent', 'similarity_with_immediate_parent',\n",
       "       'similarity_with_level_1_parent', 'similarity_with_level_2_parent',\n",
       "       'similarity_with_level_0_parent_em',\n",
       "       'similarity_with_level_1_parent_em',\n",
       "       'similarity_with_level_2_parent_em',\n",
       "       'similarity_with_immediate_parent_em', 'in_deg_centrality',\n",
       "       'out_deg_centrality', 'degree_centrality', 'closeness_centrality',\n",
       "       'betweenness_centrality', 'eigenvector_centrality', 'load_centrality',\n",
       "       'in_deg_centrality_norm', 'out_deg_centrality_norm',\n",
       "       'degree_centrality_norm', 'closeness_centrality_norm',\n",
       "       'betweenness_centrality_norm', 'eigenvector_centrality_norm',\n",
       "       'load_centrality_norm'],\n",
       "      dtype='object')"
      ]
     },
     "execution_count": 60,
     "metadata": {},
     "output_type": "execute_result"
    }
   ],
   "source": [
    "inf = pd.read_csv('data/info/info_full_ss_new_x.csv')\n",
    "inf.columns\n"
   ]
  },
  {
   "cell_type": "code",
   "execution_count": 65,
   "metadata": {},
   "outputs": [],
   "source": [
    "inf.drop(['similarity_with_level_0_parent', 'similarity_with_immediate_parent',\n",
    "'similarity_with_level_1_parent', 'similarity_with_level_2_parent',], axis=1, inplace=True)\n"
   ]
  },
  {
   "cell_type": "code",
   "execution_count": 42,
   "metadata": {},
   "outputs": [],
   "source": [
    "def calculate_similarity(km, algorithm, isNormalized):\n",
    "\n",
    "\tsimilarity_with_l0th_parent = f\"similarity_with_l0th_parent_{algorithm}\"\n",
    "\tsimilarity_with_l1th_parent = f\"similarity_with_l1th_parent_{algorithm}\"\n",
    "\tsimilarity_with_l2th_parent = f\"similarity_with_l2th_parent_{algorithm}\"\n",
    "\t\n",
    "\tinf[similarity_with_l0th_parent] = np.nan\n",
    "\tinf[similarity_with_l1th_parent] = np.nan\n",
    "\tinf[similarity_with_l2th_parent] = np.nan\n",
    "\n",
    "\tfor i, paper in inf.iterrows():\n",
    "\t\tif i == 0:\n",
    "\t\t\tcontinue\n",
    "\t\tpaper_id = paper['paper_id']\n",
    "\t\tpaper_uuid = paper['uuid']\n",
    "\t\t\n",
    "\t\tpaper_key_phrases = km.getKeyPhrasesList(paper_id)\n",
    "\t\tif not km.isKeyPhraseExist(paper_id):\n",
    "\t\t\tcontinue\n",
    "\t\tpapers_from_root = paper['path_from_root'].split(\";\") # getPaths Equivalent\n",
    "\t\tpapers_from_root_till_immediate_parent = papers_from_root[:-1]\n",
    "\t\tfor i, level_ith_parent_uid in enumerate(papers_from_root_till_immediate_parent):\n",
    "\t\t\tif i > 2:\n",
    "\t\t\t\tbreak\n",
    "\t\t\tlevel_ith_parent_paper_id = g.im.get_info_keys_by_uuid(level_ith_parent_uid, ['paper_id'])['paper_id']\n",
    "\t\t\tif km.isKeyPhraseExist(level_ith_parent_paper_id):\n",
    "\t\t\t\tu = km.getKeyPhrasesList(level_ith_parent_paper_id)\n",
    "\t\t\t\tcosine_similarity = get_cosine_similarity(\n",
    "\t\t\t\t\tu, paper_key_phrases, isNormalized)\n",
    "\t\t\t\tif i == 0:\n",
    "\t\t\t\t\tinf.loc[inf['uuid'] == paper_uuid,\n",
    "\t\t\t\t\t\t\t\t\t\tsimilarity_with_l0th_parent] = cosine_similarity\n",
    "\t\t\t\telif i == 1:\n",
    "\t\t\t\t\tinf.loc[inf['uuid'] == paper_uuid,\n",
    "\t\t\t\t\t\t\t\t\t\tsimilarity_with_l1th_parent] = cosine_similarity\n",
    "\t\t\t\telif i == 2:\n",
    "\t\t\t\t\tinf.loc[inf['uuid'] == paper_uuid,\n",
    "\t\t\t\t\t\t\t\t\t\tsimilarity_with_l2th_parent] = cosine_similarity\n"
   ]
  },
  {
   "cell_type": "code",
   "execution_count": 28,
   "metadata": {},
   "outputs": [],
   "source": [
    "km = KeyPhrasesManager(kp_topicrank_file_path)\n",
    "calculate_similarity(km, \"topicrank\", isNormalized=True)\n"
   ]
  },
  {
   "cell_type": "code",
   "execution_count": 29,
   "metadata": {},
   "outputs": [],
   "source": [
    "km = KeyPhrasesManager(kp_positionrank_file_path)\n",
    "calculate_similarity(km, \"position_rank\",isNormalized=True)"
   ]
  },
  {
   "cell_type": "code",
   "execution_count": 30,
   "metadata": {},
   "outputs": [],
   "source": [
    "km = KeyPhrasesManager(kp_yake_file_path)\n",
    "calculate_similarity(km, \"yake\",isNormalized=True)"
   ]
  },
  {
   "cell_type": "code",
   "execution_count": 67,
   "metadata": {},
   "outputs": [],
   "source": [
    "km = KeyPhrasesManager(kp_teket_file_path)\n",
    "calculate_similarity(km, \"teket\",isNormalized=False)"
   ]
  },
  {
   "cell_type": "code",
   "execution_count": 32,
   "metadata": {},
   "outputs": [],
   "source": [
    "km = KeyPhrasesManager(kp_tfidf_file_path)\n",
    "calculate_similarity(km, \"tfidf\", isNormalized=False)\n"
   ]
  },
  {
   "cell_type": "code",
   "execution_count": 35,
   "metadata": {},
   "outputs": [
    {
     "data": {
      "text/html": [
       "<div>\n",
       "<style scoped>\n",
       "    .dataframe tbody tr th:only-of-type {\n",
       "        vertical-align: middle;\n",
       "    }\n",
       "\n",
       "    .dataframe tbody tr th {\n",
       "        vertical-align: top;\n",
       "    }\n",
       "\n",
       "    .dataframe thead th {\n",
       "        text-align: right;\n",
       "    }\n",
       "</style>\n",
       "<table border=\"1\" class=\"dataframe\">\n",
       "  <thead>\n",
       "    <tr style=\"text-align: right;\">\n",
       "      <th></th>\n",
       "      <th>level_no</th>\n",
       "      <th>similarity_with_l0th_parent_teket</th>\n",
       "      <th>similarity_with_l0th_parent_topicrank</th>\n",
       "      <th>similarity_with_l0th_parent_yake</th>\n",
       "      <th>similarity_with_l0th_parent_position_rank</th>\n",
       "      <th>similarity_with_l0th_parent_tfidf</th>\n",
       "    </tr>\n",
       "  </thead>\n",
       "  <tbody>\n",
       "    <tr>\n",
       "      <th>1</th>\n",
       "      <td>1</td>\n",
       "      <td>0.648859</td>\n",
       "      <td>0.913726</td>\n",
       "      <td>0.928682</td>\n",
       "      <td>0.845059</td>\n",
       "      <td>0.890978</td>\n",
       "    </tr>\n",
       "    <tr>\n",
       "      <th>2</th>\n",
       "      <td>1</td>\n",
       "      <td>0.579223</td>\n",
       "      <td>0.813792</td>\n",
       "      <td>0.861148</td>\n",
       "      <td>0.641488</td>\n",
       "      <td>0.865960</td>\n",
       "    </tr>\n",
       "    <tr>\n",
       "      <th>3</th>\n",
       "      <td>1</td>\n",
       "      <td>0.040953</td>\n",
       "      <td>0.958313</td>\n",
       "      <td>0.894119</td>\n",
       "      <td>0.993596</td>\n",
       "      <td>0.000000</td>\n",
       "    </tr>\n",
       "    <tr>\n",
       "      <th>4</th>\n",
       "      <td>1</td>\n",
       "      <td>0.680234</td>\n",
       "      <td>0.887000</td>\n",
       "      <td>0.914983</td>\n",
       "      <td>0.885055</td>\n",
       "      <td>0.895932</td>\n",
       "    </tr>\n",
       "    <tr>\n",
       "      <th>5</th>\n",
       "      <td>1</td>\n",
       "      <td>0.658666</td>\n",
       "      <td>0.934955</td>\n",
       "      <td>0.916081</td>\n",
       "      <td>0.949229</td>\n",
       "      <td>0.878882</td>\n",
       "    </tr>\n",
       "    <tr>\n",
       "      <th>...</th>\n",
       "      <td>...</td>\n",
       "      <td>...</td>\n",
       "      <td>...</td>\n",
       "      <td>...</td>\n",
       "      <td>...</td>\n",
       "      <td>...</td>\n",
       "    </tr>\n",
       "    <tr>\n",
       "      <th>24321</th>\n",
       "      <td>3</td>\n",
       "      <td>NaN</td>\n",
       "      <td>NaN</td>\n",
       "      <td>NaN</td>\n",
       "      <td>NaN</td>\n",
       "      <td>NaN</td>\n",
       "    </tr>\n",
       "    <tr>\n",
       "      <th>24322</th>\n",
       "      <td>3</td>\n",
       "      <td>0.000000</td>\n",
       "      <td>0.958313</td>\n",
       "      <td>0.931005</td>\n",
       "      <td>0.993596</td>\n",
       "      <td>0.000000</td>\n",
       "    </tr>\n",
       "    <tr>\n",
       "      <th>24323</th>\n",
       "      <td>3</td>\n",
       "      <td>NaN</td>\n",
       "      <td>NaN</td>\n",
       "      <td>NaN</td>\n",
       "      <td>NaN</td>\n",
       "      <td>NaN</td>\n",
       "    </tr>\n",
       "    <tr>\n",
       "      <th>24324</th>\n",
       "      <td>3</td>\n",
       "      <td>0.000000</td>\n",
       "      <td>0.958313</td>\n",
       "      <td>0.931005</td>\n",
       "      <td>0.993596</td>\n",
       "      <td>0.000000</td>\n",
       "    </tr>\n",
       "    <tr>\n",
       "      <th>24325</th>\n",
       "      <td>3</td>\n",
       "      <td>NaN</td>\n",
       "      <td>NaN</td>\n",
       "      <td>NaN</td>\n",
       "      <td>NaN</td>\n",
       "      <td>NaN</td>\n",
       "    </tr>\n",
       "  </tbody>\n",
       "</table>\n",
       "<p>24325 rows × 6 columns</p>\n",
       "</div>"
      ],
      "text/plain": [
       "       level_no  similarity_with_l0th_parent_teket  \\\n",
       "1             1                           0.648859   \n",
       "2             1                           0.579223   \n",
       "3             1                           0.040953   \n",
       "4             1                           0.680234   \n",
       "5             1                           0.658666   \n",
       "...         ...                                ...   \n",
       "24321         3                                NaN   \n",
       "24322         3                           0.000000   \n",
       "24323         3                                NaN   \n",
       "24324         3                           0.000000   \n",
       "24325         3                                NaN   \n",
       "\n",
       "       similarity_with_l0th_parent_topicrank  \\\n",
       "1                                   0.913726   \n",
       "2                                   0.813792   \n",
       "3                                   0.958313   \n",
       "4                                   0.887000   \n",
       "5                                   0.934955   \n",
       "...                                      ...   \n",
       "24321                                    NaN   \n",
       "24322                               0.958313   \n",
       "24323                                    NaN   \n",
       "24324                               0.958313   \n",
       "24325                                    NaN   \n",
       "\n",
       "       similarity_with_l0th_parent_yake  \\\n",
       "1                              0.928682   \n",
       "2                              0.861148   \n",
       "3                              0.894119   \n",
       "4                              0.914983   \n",
       "5                              0.916081   \n",
       "...                                 ...   \n",
       "24321                               NaN   \n",
       "24322                          0.931005   \n",
       "24323                               NaN   \n",
       "24324                          0.931005   \n",
       "24325                               NaN   \n",
       "\n",
       "       similarity_with_l0th_parent_position_rank  \\\n",
       "1                                       0.845059   \n",
       "2                                       0.641488   \n",
       "3                                       0.993596   \n",
       "4                                       0.885055   \n",
       "5                                       0.949229   \n",
       "...                                          ...   \n",
       "24321                                        NaN   \n",
       "24322                                   0.993596   \n",
       "24323                                        NaN   \n",
       "24324                                   0.993596   \n",
       "24325                                        NaN   \n",
       "\n",
       "       similarity_with_l0th_parent_tfidf  \n",
       "1                               0.890978  \n",
       "2                               0.865960  \n",
       "3                               0.000000  \n",
       "4                               0.895932  \n",
       "5                               0.878882  \n",
       "...                                  ...  \n",
       "24321                                NaN  \n",
       "24322                           0.000000  \n",
       "24323                                NaN  \n",
       "24324                           0.000000  \n",
       "24325                                NaN  \n",
       "\n",
       "[24325 rows x 6 columns]"
      ]
     },
     "execution_count": 35,
     "metadata": {},
     "output_type": "execute_result"
    }
   ],
   "source": [
    "# cols = ['level_no', 'similarity_with_l0_teket', 'similarity_with_l1_teket',\n",
    "#         'similarity_with_l2_teket', 'similarity_with_l0th_parent_topicrank',\n",
    "#         'similarity_with_l1th_parent_topicrank',\n",
    "#         'similarity_with_l2th_parent_topicrank']\n",
    "cols_0 = ['level_no', 'similarity_with_l0th_parent_teket',\n",
    "        'similarity_with_l0th_parent_topicrank',\n",
    "          'similarity_with_l0th_parent_yake',\n",
    "          'similarity_with_l0th_parent_position_rank',\n",
    "          'similarity_with_l0th_parent_tfidf'\n",
    "          ]\n",
    "data = inf[cols_0]\n",
    "\n",
    "data = data[data['level_no'].isin([1, 2, 3])]\n",
    "data"
   ]
  },
  {
   "cell_type": "code",
   "execution_count": 36,
   "metadata": {},
   "outputs": [
    {
     "data": {
      "text/plain": [
       "<AxesSubplot:xlabel='similarities', ylabel='score'>"
      ]
     },
     "execution_count": 36,
     "metadata": {},
     "output_type": "execute_result"
    },
    {
     "data": {
      "image/png": "[encoded data removed]",
      "text/plain": [
       "<Figure size 1440x576 with 1 Axes>"
      ]
     },
     "metadata": {
      "needs_background": "light"
     },
     "output_type": "display_data"
    }
   ],
   "source": [
    "data = data.melt(\n",
    "    'level_no', var_name='similarities', value_name='score')\n",
    "plt.figure(figsize=(20, 8))\n",
    "sns.barplot(data=data, x=\"similarities\", y=\"score\",\n",
    "            hue='level_no', palette=\"winter\")\n"
   ]
  },
  {
   "cell_type": "code",
   "execution_count": 142,
   "metadata": {},
   "outputs": [],
   "source": [
    "# inf.to_csv('data/info/info_full_v1.csv', index=False)"
   ]
  },
  {
   "cell_type": "code",
   "execution_count": null,
   "metadata": {},
   "outputs": [],
   "source": []
  },
  {
   "cell_type": "markdown",
   "metadata": {},
   "source": [
    "### with embedding"
   ]
  },
  {
   "cell_type": "code",
   "execution_count": 26,
   "metadata": {},
   "outputs": [
    {
     "data": {
      "text/plain": [
       "Index(['uuid', 'paper_id', 'parent_paper_uuid', 'parent_paper_id', 'title',\n",
       "       'reference_count', 'citation_count', 'influential_citation_count',\n",
       "       'published_date', 'paper_type', 'venue', 'isOpenAccess', 'abstract',\n",
       "       'paper_link', 'doi', 'download_link', 'tldl', 'embedding', 'age',\n",
       "       'citation_count_min_max_norm', 'age_min_max_norm', 'degree_centrality',\n",
       "       'closeness_centrality', 'betweenness_centrality', 'level_no',\n",
       "       'similarity_with_l0', 'similarity_with_immediate_parent',\n",
       "       'paper_type_label', 'path_from_root', 'similarity_with_l1',\n",
       "       'similarity_with_l2', 'similarity_with_l0_em', 'similarity_with_l1_em',\n",
       "       'similarity_with_l2_em', 'similarity_with_immediate_parent_em',\n",
       "       'influence_score', 'in_deg_centrality', 'out_deg_centrality',\n",
       "       'eigenvector_centrality', 'load_centrality',\n",
       "       'citation_count_standard_norm', 'age_standard_norm'],\n",
       "      dtype='object')"
      ]
     },
     "execution_count": 26,
     "metadata": {},
     "output_type": "execute_result"
    }
   ],
   "source": [
    "inf = pd.read_csv('data/info/info_full_ss_new_x.csv')\n",
    "inf.columns\n"
   ]
  },
  {
   "cell_type": "code",
   "execution_count": 4,
   "metadata": {},
   "outputs": [
    {
     "data": {
      "text/plain": [
       "['-3.3292479515075684',\n",
       " '-1.6170390844345093',\n",
       " '-0.41584455966949463',\n",
       " '2.3501198291778564',\n",
       " '-0.5364987850189209']"
      ]
     },
     "execution_count": 4,
     "metadata": {},
     "output_type": "execute_result"
    }
   ],
   "source": [
    "root = inf.iloc[0]['embedding'].split(':')[1].split(\",\")[:-1]\n",
    "# root = [float(i) for i in root if i != \"\"]\n",
    "root[:5]"
   ]
  },
  {
   "cell_type": "code",
   "execution_count": 5,
   "metadata": {},
   "outputs": [],
   "source": [
    "p1 = inf.iloc[1]['embedding'].split(':')[1].split(\",\")[:-1]\n",
    "# p1 = [float(i) for i in p1 if i !='']\n"
   ]
  },
  {
   "cell_type": "code",
   "execution_count": 6,
   "metadata": {},
   "outputs": [
    {
     "data": {
      "text/plain": [
       "array([[0.72775035]])"
      ]
     },
     "execution_count": 6,
     "metadata": {},
     "output_type": "execute_result"
    }
   ],
   "source": [
    "from sklearn.metrics.pairwise import cosine_similarity\n",
    "cosine_similarity(np.array([root]),np.array([p1]))"
   ]
  },
  {
   "cell_type": "code",
   "execution_count": 7,
   "metadata": {},
   "outputs": [
    {
     "data": {
      "text/plain": [
       "0.6442125339507674"
      ]
     },
     "execution_count": 7,
     "metadata": {},
     "output_type": "execute_result"
    }
   ],
   "source": [
    "inf.iloc[1]['similarity_with_l0']"
   ]
  },
  {
   "cell_type": "code",
   "execution_count": 8,
   "metadata": {},
   "outputs": [
    {
     "data": {
      "text/plain": [
       "0"
      ]
     },
     "execution_count": 8,
     "metadata": {},
     "output_type": "execute_result"
    }
   ],
   "source": [
    "inf['embedding'].isnull().sum()\n"
   ]
  },
  {
   "cell_type": "code",
   "execution_count": 9,
   "metadata": {},
   "outputs": [
    {
     "data": {
      "text/plain": [
       "False"
      ]
     },
     "execution_count": 9,
     "metadata": {},
     "output_type": "execute_result"
    }
   ],
   "source": [
    "pd.isna(inf.iloc[1]['embedding'])\n"
   ]
  },
  {
   "cell_type": "code",
   "execution_count": 10,
   "metadata": {},
   "outputs": [],
   "source": [
    "inf['similarity_with_l0_em'] = np.nan\n",
    "inf['similarity_with_l1_em'] = np.nan\n",
    "inf['similarity_with_l2_em'] = np.nan\n"
   ]
  },
  {
   "cell_type": "code",
   "execution_count": 14,
   "metadata": {},
   "outputs": [],
   "source": [
    "\n",
    "for i, paper in inf.iterrows():\n",
    "\tif i == 0:\n",
    "\t\tcontinue\n",
    "\t# if  i>10:\n",
    "\t# \tbreak\n",
    "\tpaper_id = paper['paper_id']\n",
    "\tpaper_uuid = paper['uuid']\n",
    "\tpaper_embedding = paper['embedding']\n",
    "\tif pd.isna(paper_embedding):\n",
    "\t\tcontinue\n",
    "\tpaper_embedding = paper_embedding.split(':')[1].split(\",\")[:-1]\n",
    "\t\n",
    "\t# !!!\n",
    "\tpapers_from_root = paper['path_from_root'].split(\";\")\n",
    "\tpapers_from_root_till_immediate_parent = papers_from_root[:-1]\n",
    "\t\n",
    "\tfor i, level_ith_parent_uid in enumerate(papers_from_root_till_immediate_parent):\n",
    "\t# !!!\n",
    "\t\tif i > 2:\n",
    "\t\t\tbreak\n",
    "\t\tlevel_ith_parent_info = g.im.get_info_keys_by_uuid(\n",
    "\t\t\tlevel_ith_parent_uid, ['paper_id','embedding'])\n",
    "\t\tlevel_ith_parent_paper_embedding = level_ith_parent_info['embedding']\n",
    "\t\t# level_ith_parent_paper_id = level_ith_parent_info['paper_id']\n",
    "\t\tif not pd.isna(level_ith_parent_paper_embedding):\n",
    "\t\t\tp_parents_em = level_ith_parent_paper_embedding.split(':')[\n",
    "\t\t\t\t\t\t1].split(\",\")[:-1]\n",
    "\t\t\ts = cosine_similarity(np.array([p_parents_em]), np.array([paper_embedding]))[0][0]\n",
    "\t\t\tif i == 0:\n",
    "\t\t\t\tinf.loc[inf['uuid'] == paper_uuid,\"similarity_with_l0_em\"] = s\n",
    "\t\t\telif i == 1:\n",
    "\t\t\t\tinf.loc[inf['uuid'] == paper_uuid,\"similarity_with_l1_em\"] = s\n",
    "\t\t\telif i == 2:\n",
    "\t\t\t\tinf.loc[inf['uuid'] == paper_uuid,\"similarity_with_l2_em\"] = s\n"
   ]
  },
  {
   "cell_type": "code",
   "execution_count": null,
   "metadata": {},
   "outputs": [],
   "source": [
    "inf[inf['similarity_with_l0_em']]\n"
   ]
  },
  {
   "cell_type": "code",
   "execution_count": 28,
   "metadata": {},
   "outputs": [],
   "source": [
    "inf['similarity_with_immediate_parent_em'] = np.nan\n"
   ]
  },
  {
   "cell_type": "code",
   "execution_count": 34,
   "metadata": {},
   "outputs": [],
   "source": [
    "for i, paper in inf.iterrows():\n",
    "\tif i == 0:\n",
    "\t\tcontinue\n",
    "\t# if  i>100:\n",
    "\t# \tbreak\n",
    "\tpaper_id = paper['paper_id']\n",
    "\tpaper_uuid = paper['uuid']\n",
    "\tparent_paper_uuid = paper['parent_paper_uuid']\n",
    "\tpaper_embedding = paper['embedding']\n",
    "\tif pd.isna(paper_embedding):\n",
    "\t\tcontinue\n",
    "\tpaper_embedding = paper_embedding.split(':')[1].split(\",\")[:-1]\n",
    "\n",
    "\tparent_paper_info = g.im.get_info_keys_by_uuid(\n",
    "            parent_paper_uuid, ['paper_id','embedding'])\n",
    "\tparent_paper_id =parent_paper_info['paper_id']\n",
    "\tparent_paper_embedding = parent_paper_info[ 'embedding']\n",
    "\tparent_paper_embedding = parent_paper_embedding.split(':')[\n",
    "    1].split(\",\")[:-1]\n",
    "\ts = cosine_similarity(np.array([p_parents_em]), np.array([paper_embedding]))[0][0]\n",
    "\tinf.loc[inf['uuid'] == paper_uuid,\n",
    "                    \"similarity_with_immediate_parent_em\"] = s\n"
   ]
  },
  {
   "cell_type": "code",
   "execution_count": 138,
   "metadata": {},
   "outputs": [],
   "source": [
    "inf.drop(['similarity_with_l3'], axis=1, inplace=True)\n"
   ]
  },
  {
   "cell_type": "code",
   "execution_count": 73,
   "metadata": {},
   "outputs": [],
   "source": [
    "inf.to_csv('data/info/info_full_ss_new_x.csv', index=False)"
   ]
  },
  {
   "cell_type": "markdown",
   "metadata": {},
   "source": [
    "## Random"
   ]
  },
  {
   "cell_type": "code",
   "execution_count": 13,
   "metadata": {},
   "outputs": [
    {
     "data": {
      "text/plain": [
       "((24387, 42),\n",
       " Index(['uuid', 'paper_id', 'parent_paper_uuid', 'parent_paper_id', 'title',\n",
       "        'reference_count', 'citation_count', 'influential_citation_count',\n",
       "        'published_date', 'paper_type', 'venue', 'isOpenAccess', 'abstract',\n",
       "        'paper_link', 'doi', 'download_link', 'tldl', 'embedding', 'age',\n",
       "        'citation_count_min_max_norm', 'age_min_max_norm', 'degree_centrality',\n",
       "        'closeness_centrality', 'betweenness_centrality', 'level_no',\n",
       "        'similarity_with_l0', 'similarity_with_immediate_parent',\n",
       "        'paper_type_label', 'path_from_root', 'similarity_with_l1',\n",
       "        'similarity_with_l2', 'similarity_with_l0_em', 'similarity_with_l1_em',\n",
       "        'similarity_with_l2_em', 'similarity_with_immediate_parent_em',\n",
       "        'influence_score', 'in_deg_centrality', 'out_deg_centrality',\n",
       "        'eigenvector_centrality', 'load_centrality',\n",
       "        'citation_count_standard_norm', 'age_standard_norm'],\n",
       "       dtype='object'))"
      ]
     },
     "execution_count": 13,
     "metadata": {},
     "output_type": "execute_result"
    }
   ],
   "source": [
    "inf = pd.read_csv('data/info/info_full_ss_new_x.csv')\n",
    "inf.shape,inf.columns\n"
   ]
  },
  {
   "cell_type": "code",
   "execution_count": null,
   "metadata": {},
   "outputs": [],
   "source": [
    "papers = inf['paper_id'].unique().tolist()\n",
    "papers_df = pd.DataFrame(papers, columns=['paper_id'])\n",
    "papers_df.to_csv('data/info/papers.csv', index=False)\n"
   ]
  },
  {
   "cell_type": "code",
   "execution_count": 3,
   "metadata": {},
   "outputs": [],
   "source": [
    "level_1 = inf[inf['level_no']==1]\n",
    "level_1_papers = level_1['paper_id'].unique().tolist()\n",
    "level_2 = inf[inf['level_no']==2]\n",
    "level_2_papers = level_2['paper_id'].unique().tolist()\n",
    "level_3 = inf[inf['level_no']==3]\n",
    "level_3_papers = level_3['paper_id'].unique().tolist()\n"
   ]
  },
  {
   "cell_type": "code",
   "execution_count": 35,
   "metadata": {},
   "outputs": [
    {
     "name": "stdout",
     "output_type": "stream",
     "text": [
      "(39, 1)\n",
      "(627, 1)\n",
      "(9172, 1)\n"
     ]
    }
   ],
   "source": [
    "level_1_papers_df = pd.DataFrame(level_1_papers, columns=['paper_id'])\n",
    "print(level_1_papers_df.shape)\n",
    "level_2_papers_df = pd.DataFrame(level_2_papers, columns=['paper_id'])\n",
    "print(level_2_papers_df.shape)\n",
    "level_3_papers_df = pd.DataFrame(level_3_papers, columns=['paper_id'])\n",
    "print(level_3_papers_df.shape)\n",
    "level_1_papers_df.to_csv('data/info/level_1_papers.csv', index=False)\n",
    "level_2_papers_df.to_csv('data/info/level_2_papers.csv', index=False)\n",
    "level_3_papers_df.to_csv('data/info/level_3_papers.csv', index=False)"
   ]
  },
  {
   "cell_type": "code",
   "execution_count": 46,
   "metadata": {},
   "outputs": [
    {
     "data": {
      "text/plain": [
       "(7273,\n",
       " ['0000ff68310e8a43c26371b4f0ff05ddaed93577',\n",
       "  '0005a4d98ba8ccf0eb944a1a36adadcede25e7f8'])"
      ]
     },
     "execution_count": 46,
     "metadata": {},
     "output_type": "execute_result"
    }
   ],
   "source": [
    "text_files = [f.name.split(\".\")[0] for f in os.scandir(\n",
    "    'data/papers/text_raw_clean') if f.name.endswith('.txt')]\n",
    "len(text_files), text_files[:2]"
   ]
  },
  {
   "cell_type": "code",
   "execution_count": 50,
   "metadata": {},
   "outputs": [],
   "source": [
    "# copy file from one dir to another\n",
    "import shutil\n",
    "for file in text_files:\n",
    "\tif file in level_3_papers:\n",
    "\t\tshutil.copy(f'data/papers/text_raw_clean/{file}.txt',\n",
    "\t\t            'data/papers/level_3_raw_clean_without_stem/')\n",
    "\t\t"
   ]
  },
  {
   "cell_type": "code",
   "execution_count": 4,
   "metadata": {},
   "outputs": [
    {
     "data": {
      "text/plain": [
       "(33,\n",
       " ['03589e1917debe6df148cac8963fd008e4140237',\n",
       "  '05dec9ff0f48f45b09245ba0354748961f18ff77'])"
      ]
     },
     "execution_count": 4,
     "metadata": {},
     "output_type": "execute_result"
    }
   ],
   "source": [
    "level_1_raw_clean_without_stem = [f.name.split(\".\")[0] for f in os.scandir(\n",
    "    'data/papers/level_1_raw_clean_without_stem') if f.name.endswith('.txt')]\n",
    "len(level_1_raw_clean_without_stem), level_1_raw_clean_without_stem[:2]\n"
   ]
  },
  {
   "cell_type": "code",
   "execution_count": 7,
   "metadata": {},
   "outputs": [
    {
     "data": {
      "text/plain": [
       "{'32448280ef3d03af2fb639bbe1b3709c4bb6c78a',\n",
       " 'a011209e0628633b60223311797bc29c3a6902f8',\n",
       " 'b62222ceaf242b0560a3dd1e5631bdb326c9b346',\n",
       " 'bd3794c777af5ba363abae5708050ea78ecc97e2',\n",
       " 'f7fe3f870ef5e1a74600c8808c07732cd2e5142d',\n",
       " 'ff30cca624b6a64d561310f564873a63fb413ef1'}"
      ]
     },
     "execution_count": 7,
     "metadata": {},
     "output_type": "execute_result"
    }
   ],
   "source": [
    "set(level_1_papers) - set(level_1_raw_clean_without_stem)\n"
   ]
  },
  {
   "cell_type": "code",
   "execution_count": 6,
   "metadata": {},
   "outputs": [
    {
     "data": {
      "text/plain": [
       "(467,\n",
       " ['00311d4a5ed649f720589a580c38d4035bfc65ea',\n",
       "  '006b8c5d5b38e8a07091b5b001ece6db1d2b132e'])"
      ]
     },
     "execution_count": 6,
     "metadata": {},
     "output_type": "execute_result"
    }
   ],
   "source": [
    "level_2_raw_clean_without_stem = [f.name.split(\".\")[0] for f in os.scandir(\n",
    "    'data/papers/level_2_raw_clean_without_stem') if f.name.endswith('.txt')]\n",
    "len(level_2_raw_clean_without_stem), level_2_raw_clean_without_stem[:2]\n"
   ]
  },
  {
   "cell_type": "code",
   "execution_count": 10,
   "metadata": {},
   "outputs": [
    {
     "data": {
      "text/plain": [
       "(6703,\n",
       " ['0000ff68310e8a43c26371b4f0ff05ddaed93577',\n",
       "  '0005a4d98ba8ccf0eb944a1a36adadcede25e7f8'])"
      ]
     },
     "execution_count": 10,
     "metadata": {},
     "output_type": "execute_result"
    }
   ],
   "source": [
    "level_3_raw_clean_without_stem = [f.name.split(\".\")[0] for f in os.scandir(\n",
    "    'data/papers/level_3_raw_clean_without_stem') if f.name.endswith('.txt')]\n",
    "len(level_3_raw_clean_without_stem), level_3_raw_clean_without_stem[:2]\n"
   ]
  },
  {
   "cell_type": "code",
   "execution_count": 4,
   "metadata": {},
   "outputs": [
    {
     "data": {
      "text/plain": [
       "475"
      ]
     },
     "execution_count": 4,
     "metadata": {},
     "output_type": "execute_result"
    }
   ],
   "source": [
    "common = list(set(level_3_raw_clean_without_stem) & set(level_1_raw_clean_without_stem))\n",
    "len(common)\n"
   ]
  },
  {
   "cell_type": "code",
   "execution_count": 19,
   "metadata": {},
   "outputs": [],
   "source": [
    "# remove all common papers from level_3_raw_clean_without_stem\n",
    "for file in common:\n",
    "\tos.remove(f'data/papers/level_3_raw_clean_without_stem/{file}.txt')\n"
   ]
  },
  {
   "cell_type": "code",
   "execution_count": 11,
   "metadata": {},
   "outputs": [
    {
     "data": {
      "text/plain": [
       "(7273,\n",
       " ['0000ff68310e8a43c26371b4f0ff05ddaed93577',\n",
       "  '0005a4d98ba8ccf0eb944a1a36adadcede25e7f8'])"
      ]
     },
     "execution_count": 11,
     "metadata": {},
     "output_type": "execute_result"
    }
   ],
   "source": [
    "raw_clean_without_stem = [f.name.split(\".\")[0] for f in os.scandir(\n",
    "    'data/papers/text_raw_clean_without_stem') if f.name.endswith('.txt')]\n",
    "len(raw_clean_without_stem), raw_clean_without_stem[:2]\n"
   ]
  },
  {
   "cell_type": "code",
   "execution_count": 9,
   "metadata": {},
   "outputs": [
    {
     "data": {
      "text/plain": [
       "7273"
      ]
     },
     "execution_count": 9,
     "metadata": {},
     "output_type": "execute_result"
    }
   ],
   "source": [
    "len(set(level_3_raw_clean_without_stem))\n"
   ]
  },
  {
   "cell_type": "code",
   "execution_count": 6,
   "metadata": {},
   "outputs": [],
   "source": [
    "dir_name = \"data/info/kp_raw_clean_without_stem/\"\n",
    "kp_teket_file_path = dir_name + \"key_phrases_extracted.csv\"\n",
    "kp_yake_file_path = dir_name + \"key_phrases_extracted_yake.csv\"\n",
    "kp_topicrank_file_path = dir_name + \"key_phrases_extracted_topicrank.csv\"\n",
    "kp_tfidf_file_path = dir_name + \"key_phrases_extracted_tfidf.csv\"\n",
    "kp_positionrank_file_path = dir_name + \"key_phrases_extracted_position_rank.csv\"\n",
    "# kp_multipartiterank_file_path = dir_name+\"key_phrases_extracted_multipartiterank.csv\"\n",
    "\n",
    "\n",
    "kp_teket = pd.read_csv(kp_teket_file_path)\n",
    "kp_yake = pd.read_csv(kp_yake_file_path)\n",
    "kp_topicrank = pd.read_csv(kp_topicrank_file_path)\n",
    "kp_tfidf = pd.read_csv(kp_tfidf_file_path)\n",
    "kp_positionrank = pd.read_csv(kp_positionrank_file_path)\n"
   ]
  },
  {
   "cell_type": "code",
   "execution_count": 12,
   "metadata": {},
   "outputs": [
    {
     "data": {
      "text/plain": [
       "1124"
      ]
     },
     "execution_count": 12,
     "metadata": {},
     "output_type": "execute_result"
    }
   ],
   "source": [
    "len(kp_positionrank.paper_id.unique().tolist())\n"
   ]
  },
  {
   "cell_type": "code",
   "execution_count": 22,
   "metadata": {},
   "outputs": [
    {
     "data": {
      "text/plain": [
       "9269"
      ]
     },
     "execution_count": 22,
     "metadata": {},
     "output_type": "execute_result"
    }
   ],
   "source": [
    "papers = inf.paper_id.unique().tolist()\n",
    "len(papers)\n"
   ]
  },
  {
   "cell_type": "code",
   "execution_count": 24,
   "metadata": {},
   "outputs": [
    {
     "name": "stdout",
     "output_type": "stream",
     "text": [
      "(1, 3)\n"
     ]
    },
    {
     "data": {
      "text/html": [
       "<div>\n",
       "<style scoped>\n",
       "    .dataframe tbody tr th:only-of-type {\n",
       "        vertical-align: middle;\n",
       "    }\n",
       "\n",
       "    .dataframe tbody tr th {\n",
       "        vertical-align: top;\n",
       "    }\n",
       "\n",
       "    .dataframe thead th {\n",
       "        text-align: right;\n",
       "    }\n",
       "</style>\n",
       "<table border=\"1\" class=\"dataframe\">\n",
       "  <thead>\n",
       "    <tr style=\"text-align: right;\">\n",
       "      <th></th>\n",
       "      <th>paper_id</th>\n",
       "      <th>duplicate_count</th>\n",
       "      <th>levels</th>\n",
       "    </tr>\n",
       "  </thead>\n",
       "  <tbody>\n",
       "    <tr>\n",
       "      <th>0</th>\n",
       "      <td>b0d555a9ea67285fccd2ef8d887907bcc811f67a</td>\n",
       "      <td>1</td>\n",
       "      <td>0</td>\n",
       "    </tr>\n",
       "  </tbody>\n",
       "</table>\n",
       "</div>"
      ],
      "text/plain": [
       "                                   paper_id  duplicate_count levels\n",
       "0  b0d555a9ea67285fccd2ef8d887907bcc811f67a                1      0"
      ]
     },
     "execution_count": 24,
     "metadata": {},
     "output_type": "execute_result"
    }
   ],
   "source": [
    "papers_data = []\n",
    "for i in papers:\n",
    "\tlevels = g.get_levels_no_by_paper_id(levelsOrderList=g.levelOrderList, id=i)\n",
    "\tduplicate_count = len(levels)\n",
    "\tlevels_str = \",\".join([str(p) for p in levels])\n",
    "\tpapers_data.append({\"paper_id\": i,\"duplicate_count\": duplicate_count,\"levels\": levels_str})\n",
    "\tbreak\n",
    "\n",
    "level_1_papers_df = pd.DataFrame(papers_data)\n",
    "print(level_1_papers_df.shape)\n",
    "level_1_papers_df.head()\n"
   ]
  }
 ],
 "metadata": {
  "interpreter": {
   "hash": "13a64c48d63ab7fa89dd239a6172cf842d756bd82fcb4ba948a9115b41dc50a1"
  },
  "kernelspec": {
   "display_name": "Python 3.9.7 ('base')",
   "language": "python",
   "name": "python3"
  },
  "language_info": {
   "codemirror_mode": {
    "name": "ipython",
    "version": 3
   },
   "file_extension": ".py",
   "mimetype": "text/x-python",
   "name": "python",
   "nbconvert_exporter": "python",
   "pygments_lexer": "ipython3",
   "version": "3.9.12"
  },
  "orig_nbformat": 2
 },
 "nbformat": 4,
 "nbformat_minor": 2
}
